{
 "metadata": {
  "name": "",
  "signature": "sha256:c8ff36e002552284c80f1439fc88ffb77cb02bce56c006b1371a8a41ee702416"
 },
 "nbformat": 3,
 "nbformat_minor": 0,
 "worksheets": [
  {
   "cells": [
    {
     "cell_type": "code",
     "collapsed": false,
     "input": [
      "# to represent 1d data, we can use lists\n",
      "l = [3,1,4,1,5]\n",
      "l[2]"
     ],
     "language": "python",
     "metadata": {},
     "outputs": [
      {
       "metadata": {},
       "output_type": "pyout",
       "prompt_number": 6,
       "text": [
        "4"
       ]
      }
     ],
     "prompt_number": 6
    },
    {
     "cell_type": "code",
     "collapsed": false,
     "input": [
      "# to represent two-dimensional data, we can use lists of lists\n",
      "\n",
      "# create a 3x3 list of list\n",
      "a = []\n",
      "a.append([1,2,3])\n",
      "a.append([4,5,6])\n",
      "a.append([7,8,9])\n",
      "a"
     ],
     "language": "python",
     "metadata": {},
     "outputs": [
      {
       "metadata": {},
       "output_type": "pyout",
       "prompt_number": 7,
       "text": [
        "[[1, 2, 3], [4, 5, 6], [7, 8, 9]]"
       ]
      }
     ],
     "prompt_number": 7
    },
    {
     "cell_type": "code",
     "collapsed": false,
     "input": [
      "# to fetch an element, fetch the appropriate row list,\n",
      "# then fetch the column from that row list\n",
      "a[1][2]"
     ],
     "language": "python",
     "metadata": {},
     "outputs": [
      {
       "metadata": {},
       "output_type": "pyout",
       "prompt_number": 8,
       "text": [
        "6"
       ]
      }
     ],
     "prompt_number": 8
    },
    {
     "cell_type": "code",
     "collapsed": false,
     "input": [
      "# return the diagonal elements of a list of lists\n",
      "def diagonal(a):\n",
      "    d = []\n",
      "    for i in range(len(a)):\n",
      "        d.append(a[i][i])\n",
      "    return d\n",
      "\n",
      "diagonal(a)"
     ],
     "language": "python",
     "metadata": {},
     "outputs": [
      {
       "metadata": {},
       "output_type": "pyout",
       "prompt_number": 9,
       "text": [
        "[1, 5, 9]"
       ]
      }
     ],
     "prompt_number": 9
    },
    {
     "cell_type": "code",
     "collapsed": false,
     "input": [
      "# create a 1000 x 1000 matrix of random numbers\n",
      "from random import random\n",
      "\n",
      "# create one row\n",
      "def random1d(n=1000):\n",
      "    r = []\n",
      "    for i in range(n):\n",
      "        r.append(random())\n",
      "    return r\n",
      "        \n",
      "r = random1d()\n",
      "len(r), r[512]"
     ],
     "language": "python",
     "metadata": {},
     "outputs": [
      {
       "metadata": {},
       "output_type": "pyout",
       "prompt_number": 10,
       "text": [
        "(1000, 0.36156756696045045)"
       ]
      }
     ],
     "prompt_number": 10
    },
    {
     "cell_type": "code",
     "collapsed": false,
     "input": [
      "# create 1000 rows\n",
      "\n",
      "def random2d(n=1000):\n",
      "    rows = []\n",
      "    for i in range(n):\n",
      "        rows.append(random1d(n))\n",
      "    return rows\n",
      "\n",
      "r = random2d()\n",
      "\n",
      "len(r), r[512][512]"
     ],
     "language": "python",
     "metadata": {},
     "outputs": [
      {
       "metadata": {},
       "output_type": "pyout",
       "prompt_number": 11,
       "text": [
        "(1000, 0.19307087347882979)"
       ]
      }
     ],
     "prompt_number": 11
    },
    {
     "cell_type": "code",
     "collapsed": false,
     "input": [
      "# now write the same thing with list comprehensions\n",
      "def random2d(n=1000):\n",
      "    return [[random() for j in range(n)] for i in range(n)]\n",
      "\n",
      "r = random2d()\n",
      "len(r), r[512][512]"
     ],
     "language": "python",
     "metadata": {},
     "outputs": [
      {
       "metadata": {},
       "output_type": "pyout",
       "prompt_number": 12,
       "text": [
        "(1000, 0.8095939381928078)"
       ]
      }
     ],
     "prompt_number": 12
    },
    {
     "cell_type": "code",
     "collapsed": false,
     "input": [
      "# let's compute an average of a 2d list of lists\n",
      "\n",
      "# start with 1d list\n",
      "def average1d(a):\n",
      "    s = 0\n",
      "    for element in a:\n",
      "        s += element\n",
      "    return s / len(a)\n",
      "\n",
      "average1d(random1d())"
     ],
     "language": "python",
     "metadata": {},
     "outputs": [
      {
       "metadata": {},
       "output_type": "pyout",
       "prompt_number": 13,
       "text": [
        "0.4916957944532466"
       ]
      }
     ],
     "prompt_number": 13
    },
    {
     "cell_type": "code",
     "collapsed": false,
     "input": [
      "# now let's do 2d averaging\n",
      "def average2d(a):\n",
      "    # there's no way to tell how many elements\n",
      "    # there are because each list in the list of lists\n",
      "    # could be a different length\n",
      "    n, s = 0, 0\n",
      "    for row in a:\n",
      "        for element in row:\n",
      "            s += element\n",
      "            n += 1\n",
      "    return s / n\n",
      "\n",
      "average2d(random2d())"
     ],
     "language": "python",
     "metadata": {},
     "outputs": [
      {
       "metadata": {},
       "output_type": "pyout",
       "prompt_number": 19,
       "text": [
        "0.4998900147940091"
       ]
      }
     ],
     "prompt_number": 19
    }
   ],
   "metadata": {}
  }
 ]
}