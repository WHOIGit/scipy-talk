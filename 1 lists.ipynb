{
 "cells": [
  {
   "cell_type": "code",
   "execution_count": 6,
   "id": "beaa45ad",
   "metadata": {
    "collapsed": false
   },
   "outputs": [
    {
     "data": {
      "text/plain": [
       "4"
      ]
     },
     "execution_count": 6,
     "metadata": {},
     "output_type": "execute_result"
    }
   ],
   "source": [
    "# to represent 1d data, we can use lists\n",
    "l = [3,1,4,1,5]\n",
    "l[2]"
   ]
  },
  {
   "cell_type": "code",
   "execution_count": 7,
   "id": "bc177b31",
   "metadata": {
    "collapsed": false
   },
   "outputs": [
    {
     "data": {
      "text/plain": [
       "[[1, 2, 3], [4, 5, 6], [7, 8, 9]]"
      ]
     },
     "execution_count": 7,
     "metadata": {},
     "output_type": "execute_result"
    }
   ],
   "source": [
    "# to represent two-dimensional data, we can use lists of lists\n",
    "\n",
    "# create a 3x3 list of list\n",
    "a = []\n",
    "a.append([1,2,3])\n",
    "a.append([4,5,6])\n",
    "a.append([7,8,9])\n",
    "a"
   ]
  },
  {
   "cell_type": "code",
   "execution_count": 8,
   "id": "86e53dc4",
   "metadata": {
    "collapsed": false
   },
   "outputs": [
    {
     "data": {
      "text/plain": [
       "6"
      ]
     },
     "execution_count": 8,
     "metadata": {},
     "output_type": "execute_result"
    }
   ],
   "source": [
    "# to fetch an element, fetch the appropriate row list,\n",
    "# then fetch the column from that row list\n",
    "a[1][2]"
   ]
  },
  {
   "cell_type": "code",
   "execution_count": 9,
   "id": "b3ecf1be",
   "metadata": {
    "collapsed": false
   },
   "outputs": [
    {
     "data": {
      "text/plain": [
       "[1, 5, 9]"
      ]
     },
     "execution_count": 9,
     "metadata": {},
     "output_type": "execute_result"
    }
   ],
   "source": [
    "# return the diagonal elements of a list of lists\n",
    "def diagonal(a):\n",
    "    d = []\n",
    "    for i in range(len(a)):\n",
    "        d.append(a[i][i])\n",
    "    return d\n",
    "\n",
    "diagonal(a)"
   ]
  },
  {
   "cell_type": "code",
   "execution_count": 10,
   "id": "c2679aef",
   "metadata": {
    "collapsed": false
   },
   "outputs": [
    {
     "data": {
      "text/plain": [
       "(1000, 0.36156756696045045)"
      ]
     },
     "execution_count": 10,
     "metadata": {},
     "output_type": "execute_result"
    }
   ],
   "source": [
    "# create a 1000 x 1000 matrix of random numbers\n",
    "from random import random\n",
    "\n",
    "# create one row\n",
    "def random1d(n=1000):\n",
    "    r = []\n",
    "    for i in range(n):\n",
    "        r.append(random())\n",
    "    return r\n",
    "        \n",
    "r = random1d()\n",
    "len(r), r[512]"
   ]
  },
  {
   "cell_type": "code",
   "execution_count": 11,
   "id": "20455269",
   "metadata": {
    "collapsed": false
   },
   "outputs": [
    {
     "data": {
      "text/plain": [
       "(1000, 0.19307087347882979)"
      ]
     },
     "execution_count": 11,
     "metadata": {},
     "output_type": "execute_result"
    }
   ],
   "source": [
    "# create 1000 rows\n",
    "\n",
    "def random2d(n=1000):\n",
    "    rows = []\n",
    "    for i in range(n):\n",
    "        rows.append(random1d(n))\n",
    "    return rows\n",
    "\n",
    "r = random2d()\n",
    "\n",
    "len(r), r[512][512]"
   ]
  },
  {
   "cell_type": "code",
   "execution_count": 12,
   "id": "ea64f7f6",
   "metadata": {
    "collapsed": false
   },
   "outputs": [
    {
     "data": {
      "text/plain": [
       "(1000, 0.8095939381928078)"
      ]
     },
     "execution_count": 12,
     "metadata": {},
     "output_type": "execute_result"
    }
   ],
   "source": [
    "# now write the same thing with list comprehensions\n",
    "def random2d(n=1000):\n",
    "    return [[random() for j in range(n)] for i in range(n)]\n",
    "\n",
    "r = random2d()\n",
    "len(r), r[512][512]"
   ]
  },
  {
   "cell_type": "code",
   "execution_count": 13,
   "id": "e5430610",
   "metadata": {
    "collapsed": false
   },
   "outputs": [
    {
     "data": {
      "text/plain": [
       "0.4916957944532466"
      ]
     },
     "execution_count": 13,
     "metadata": {},
     "output_type": "execute_result"
    }
   ],
   "source": [
    "# let's compute an average of a 2d list of lists\n",
    "\n",
    "# start with 1d list\n",
    "def average1d(a):\n",
    "    s = 0\n",
    "    for element in a:\n",
    "        s += element\n",
    "    return s / len(a)\n",
    "\n",
    "average1d(random1d())"
   ]
  },
  {
   "cell_type": "code",
   "execution_count": 19,
   "id": "3ec0eedd",
   "metadata": {
    "collapsed": false
   },
   "outputs": [
    {
     "data": {
      "text/plain": [
       "0.4998900147940091"
      ]
     },
     "execution_count": 19,
     "metadata": {},
     "output_type": "execute_result"
    }
   ],
   "source": [
    "# now let's do 2d averaging\n",
    "def average2d(a):\n",
    "    # there's no way to tell how many elements\n",
    "    # there are because each list in the list of lists\n",
    "    # could be a different length\n",
    "    n, s = 0, 0\n",
    "    for row in a:\n",
    "        for element in row:\n",
    "            s += element\n",
    "            n += 1\n",
    "    return s / n\n",
    "\n",
    "average2d(random2d())"
   ]
  }
 ],
 "metadata": {},
 "nbformat": 4,
 "nbformat_minor": 5
}
