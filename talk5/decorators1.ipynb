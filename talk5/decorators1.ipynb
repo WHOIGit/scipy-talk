{
 "cells": [
  {
   "cell_type": "code",
   "execution_count": 1,
   "id": "931993fd",
   "metadata": {
    "collapsed": false
   },
   "outputs": [],
   "source": [
    "# A function can accept a function as an argument, and can return a function\n",
    "# This is useful if you want to reuse code that calls a function,\n",
    "# and don't want to specify in advance which function it calls"
   ]
  },
  {
   "cell_type": "code",
   "execution_count": 2,
   "id": "95f2306d",
   "metadata": {
    "collapsed": false
   },
   "outputs": [
    {
     "data": {
      "text/plain": [
       "('blah', 1)"
      ]
     },
     "execution_count": 2,
     "metadata": {},
     "output_type": "execute_result"
    }
   ],
   "source": [
    "# first, a little syntax\n",
    "# if you want a function to take any number of arguments,\n",
    "# use \"*\" before the parameter name and the parameter's value\n",
    "# will be a tuple of arguments passed to the function\n",
    "\n",
    "def multiple(*args):\n",
    "    return args\n",
    "\n",
    "multiple('blah', 1)"
   ]
  },
  {
   "cell_type": "code",
   "execution_count": 3,
   "id": "d80fa7b0",
   "metadata": {
    "collapsed": false
   },
   "outputs": [
    {
     "data": {
      "text/plain": [
       "('one', 2, 'tres', 4.0)"
      ]
     },
     "execution_count": 3,
     "metadata": {},
     "output_type": "execute_result"
    }
   ],
   "source": [
    "multiple('one', 2, 'tres', 4.0)"
   ]
  },
  {
   "cell_type": "code",
   "execution_count": 4,
   "id": "2fecfefc",
   "metadata": {
    "collapsed": false
   },
   "outputs": [
    {
     "name": "stdout",
     "output_type": "stream",
     "text": [
      "blah 1\n"
     ]
    }
   ],
   "source": [
    "# you can also use \"*\" before a parameter name you're passing to a function,\n",
    "# and it will convert the value of the parameter (which must be iterable)\n",
    "# to the arguments of the function being called, in order\n",
    "\n",
    "def print_msg(text, number):\n",
    "    print '%s %g' % (text, number)\n",
    "    \n",
    "args = ('blah', 1)\n",
    "\n",
    "print_msg(*args)"
   ]
  },
  {
   "cell_type": "code",
   "execution_count": 5,
   "id": "17cb65af",
   "metadata": {
    "collapsed": false
   },
   "outputs": [
    {
     "ename": "TypeError",
     "evalue": "print_msg() takes exactly 2 arguments (4 given)",
     "output_type": "error",
     "traceback": [
      "\u001b[0;31m---------------------------------------------------------------------------\u001b[0m\n\u001b[0;31mTypeError\u001b[0m                                 Traceback (most recent call last)",
      "\u001b[0;32m<ipython-input-5-fd04e664eaf1>\u001b[0m in \u001b[0;36m<module>\u001b[0;34m()\u001b[0m\n\u001b[1;32m      1\u001b[0m \u001b[0margs\u001b[0m \u001b[0;34m=\u001b[0m \u001b[0;34m(\u001b[0m\u001b[0;34m'one'\u001b[0m\u001b[0;34m,\u001b[0m \u001b[0;36m2\u001b[0m\u001b[0;34m,\u001b[0m \u001b[0;34m'tres'\u001b[0m\u001b[0;34m,\u001b[0m \u001b[0;36m4.0\u001b[0m\u001b[0;34m)\u001b[0m\u001b[0;34m\u001b[0m\u001b[0m\n\u001b[1;32m      2\u001b[0m \u001b[0;34m\u001b[0m\u001b[0m\n\u001b[0;32m----> 3\u001b[0;31m \u001b[0mprint_msg\u001b[0m\u001b[0;34m(\u001b[0m\u001b[0;34m*\u001b[0m\u001b[0margs\u001b[0m\u001b[0;34m)\u001b[0m\u001b[0;34m\u001b[0m\u001b[0m\n\u001b[0m",
      "\u001b[0;31mTypeError\u001b[0m: print_msg() takes exactly 2 arguments (4 given)"
     ]
    }
   ],
   "source": [
    "args = ('one', 2, 'tres', 4.0)\n",
    "\n",
    "print_msg(*args)"
   ]
  },
  {
   "cell_type": "code",
   "execution_count": 1,
   "id": "54f69a69",
   "metadata": {
    "collapsed": false
   },
   "outputs": [
    {
     "name": "stdout",
     "output_type": "stream",
     "text": [
      "Hello, world.\n"
     ]
    }
   ],
   "source": [
    "# more syntax: you can define a function inside another function. its name is only usable\n",
    "# in the function that it is defined in. it can reference variables in the enclosing function\n",
    "\n",
    "def hello(who='world'):\n",
    "    def make_greeting():\n",
    "        return 'Hello, %s.' % who\n",
    "    print make_greeting()\n",
    "\n",
    "hello()"
   ]
  },
  {
   "cell_type": "code",
   "execution_count": 5,
   "id": "e58f52c7",
   "metadata": {
    "collapsed": false
   },
   "outputs": [
    {
     "ename": "UnboundLocalError",
     "evalue": "local variable 'sm' referenced before assignment",
     "output_type": "error",
     "traceback": [
      "\u001b[0;31m---------------------------------------------------------------------------\u001b[0m\n\u001b[0;31mUnboundLocalError\u001b[0m                         Traceback (most recent call last)",
      "\u001b[0;32m<ipython-input-5-c60ae4e18382>\u001b[0m in \u001b[0;36m<module>\u001b[0;34m()\u001b[0m\n\u001b[1;32m     13\u001b[0m     \u001b[0;32mreturn\u001b[0m \u001b[0msm\u001b[0m \u001b[0;34m/\u001b[0m \u001b[0mct\u001b[0m\u001b[0;34m\u001b[0m\u001b[0m\n\u001b[1;32m     14\u001b[0m \u001b[0;34m\u001b[0m\u001b[0m\n\u001b[0;32m---> 15\u001b[0;31m \u001b[0mavg\u001b[0m\u001b[0;34m(\u001b[0m\u001b[0mrange\u001b[0m\u001b[0;34m(\u001b[0m\u001b[0;36m10\u001b[0m\u001b[0;34m)\u001b[0m\u001b[0;34m)\u001b[0m\u001b[0;34m\u001b[0m\u001b[0m\n\u001b[0m",
      "\u001b[0;32m<ipython-input-5-c60ae4e18382>\u001b[0m in \u001b[0;36mavg\u001b[0;34m(numbers)\u001b[0m\n\u001b[1;32m     10\u001b[0m         \u001b[0mct\u001b[0m \u001b[0;34m=\u001b[0m \u001b[0mct\u001b[0m \u001b[0;34m+\u001b[0m \u001b[0;36m1\u001b[0m\u001b[0;34m\u001b[0m\u001b[0m\n\u001b[1;32m     11\u001b[0m     \u001b[0;32mfor\u001b[0m \u001b[0mn\u001b[0m \u001b[0;32min\u001b[0m \u001b[0mnumbers\u001b[0m\u001b[0;34m:\u001b[0m\u001b[0;34m\u001b[0m\u001b[0m\n\u001b[0;32m---> 12\u001b[0;31m         \u001b[0madd\u001b[0m\u001b[0;34m(\u001b[0m\u001b[0mn\u001b[0m\u001b[0;34m)\u001b[0m\u001b[0;34m\u001b[0m\u001b[0m\n\u001b[0m\u001b[1;32m     13\u001b[0m     \u001b[0;32mreturn\u001b[0m \u001b[0msm\u001b[0m \u001b[0;34m/\u001b[0m \u001b[0mct\u001b[0m\u001b[0;34m\u001b[0m\u001b[0m\n\u001b[1;32m     14\u001b[0m \u001b[0;34m\u001b[0m\u001b[0m\n",
      "\u001b[0;32m<ipython-input-5-c60ae4e18382>\u001b[0m in \u001b[0;36madd\u001b[0;34m(n)\u001b[0m\n\u001b[1;32m      7\u001b[0m     \u001b[0mct\u001b[0m \u001b[0;34m=\u001b[0m \u001b[0;36m0\u001b[0m\u001b[0;34m\u001b[0m\u001b[0m\n\u001b[1;32m      8\u001b[0m     \u001b[0;32mdef\u001b[0m \u001b[0madd\u001b[0m\u001b[0;34m(\u001b[0m\u001b[0mn\u001b[0m\u001b[0;34m)\u001b[0m\u001b[0;34m:\u001b[0m\u001b[0;34m\u001b[0m\u001b[0m\n\u001b[0;32m----> 9\u001b[0;31m         \u001b[0msm\u001b[0m \u001b[0;34m=\u001b[0m \u001b[0msm\u001b[0m \u001b[0;34m+\u001b[0m \u001b[0mn\u001b[0m\u001b[0;34m\u001b[0m\u001b[0m\n\u001b[0m\u001b[1;32m     10\u001b[0m         \u001b[0mct\u001b[0m \u001b[0;34m=\u001b[0m \u001b[0mct\u001b[0m \u001b[0;34m+\u001b[0m \u001b[0;36m1\u001b[0m\u001b[0;34m\u001b[0m\u001b[0m\n\u001b[1;32m     11\u001b[0m     \u001b[0;32mfor\u001b[0m \u001b[0mn\u001b[0m \u001b[0;32min\u001b[0m \u001b[0mnumbers\u001b[0m\u001b[0;34m:\u001b[0m\u001b[0;34m\u001b[0m\u001b[0m\n",
      "\u001b[0;31mUnboundLocalError\u001b[0m: local variable 'sm' referenced before assignment"
     ]
    }
   ],
   "source": [
    "# but be very very careful in the inner function not to try to assign a value to a variable\n",
    "# from the enclosing function, as the assignment will create a new variable with the same name\n",
    "# only visible within the inner function.\n",
    "\n",
    "# this example does not work:\n",
    "\n",
    "def avg(numbers):\n",
    "    sm = 0\n",
    "    ct = 0\n",
    "    def add(n):\n",
    "        sm = sm + n\n",
    "        ct = ct + 1\n",
    "    for n in numbers:\n",
    "        add(n)\n",
    "    return sm / ct\n",
    "\n",
    "avg(range(10))"
   ]
  },
  {
   "cell_type": "code",
   "execution_count": 4,
   "id": "8e5df823",
   "metadata": {
    "collapsed": false
   },
   "outputs": [
    {
     "data": {
      "text/plain": [
       "4.5"
      ]
     },
     "execution_count": 4,
     "metadata": {},
     "output_type": "execute_result"
    }
   ],
   "source": [
    "# because local variables are usually desirable in a function,\n",
    "# this behavior is correct and by design, but not useful in this case.\n",
    "# there is no clean way to solve this problem in Python 2.7.\n",
    "# here is a workaround:\n",
    "\n",
    "def avg(numbers):\n",
    "    state = {\n",
    "        'sum': 0.,\n",
    "        'count': 0.\n",
    "    }\n",
    "    def add(n):\n",
    "        state['sum'] += n\n",
    "        state['count'] += 1\n",
    "    for n in numbers:\n",
    "        add(n)\n",
    "    return state['sum'] / state['count']\n",
    "\n",
    "# this works because \"state\" is never assigned in the inner function. modifying its\n",
    "# contents doesn't assign a new value to the variable called \"state\"; its value is\n",
    "# still the same mutable dict object that was assigned to it in the outer function.\n",
    "\n",
    "avg(range(10))"
   ]
  },
  {
   "cell_type": "code",
   "execution_count": 55,
   "id": "5f7fa9df",
   "metadata": {
    "collapsed": false
   },
   "outputs": [
    {
     "data": {
      "text/plain": [
       "'3.1415926535'"
      ]
     },
     "execution_count": 55,
     "metadata": {},
     "output_type": "execute_result"
    }
   ],
   "source": [
    "# back to decorators.\n",
    "\n",
    "# lets define a function that does something. this converts its argument\n",
    "# to a string and returns a list of the characters in the string\n",
    "\n",
    "str(3.1415926535)"
   ]
  },
  {
   "cell_type": "code",
   "execution_count": 60,
   "id": "72aa1752",
   "metadata": {
    "collapsed": false
   },
   "outputs": [
    {
     "data": {
      "text/plain": [
       "['3', '.', '1', '4', '1', '5', '9', '2', '6', '3', '5', '3']"
      ]
     },
     "execution_count": 60,
     "metadata": {},
     "output_type": "execute_result"
    }
   ],
   "source": [
    "list(str(3.1415926353))"
   ]
  },
  {
   "cell_type": "code",
   "execution_count": 61,
   "id": "96b3570c",
   "metadata": {
    "collapsed": false
   },
   "outputs": [
    {
     "data": {
      "text/plain": [
       "['7', '8']"
      ]
     },
     "execution_count": 61,
     "metadata": {},
     "output_type": "execute_result"
    }
   ],
   "source": [
    "def charlist(value):\n",
    "    return list(str(value))\n",
    "\n",
    "charlist(78)"
   ]
  },
  {
   "cell_type": "code",
   "execution_count": 62,
   "id": "8d756640",
   "metadata": {
    "collapsed": false
   },
   "outputs": [
    {
     "data": {
      "text/plain": [
       "{'x': 3}"
      ]
     },
     "execution_count": 62,
     "metadata": {},
     "output_type": "execute_result"
    }
   ],
   "source": [
    "d = {\n",
    "    'x': 3\n",
    "}\n",
    "\n",
    "d"
   ]
  },
  {
   "cell_type": "code",
   "execution_count": 63,
   "id": "429469fd",
   "metadata": {
    "collapsed": false
   },
   "outputs": [
    {
     "data": {
      "text/plain": [
       "['{', \"'\", 'x', \"'\", ':', ' ', '3', '}']"
      ]
     },
     "execution_count": 63,
     "metadata": {},
     "output_type": "execute_result"
    }
   ],
   "source": [
    "charlist(d)"
   ]
  },
  {
   "cell_type": "code",
   "execution_count": 64,
   "id": "ae949066",
   "metadata": {
    "collapsed": false
   },
   "outputs": [
    {
     "data": {
      "text/plain": [
       "45"
      ]
     },
     "execution_count": 64,
     "metadata": {},
     "output_type": "execute_result"
    }
   ],
   "source": [
    "# here's another simple function that just computes the sum of all\n",
    "# integers up to n non-inclusive\n",
    "\n",
    "def sum_to(n):\n",
    "    return sum(range(n))\n",
    "\n",
    "sum_to(10)"
   ]
  },
  {
   "cell_type": "code",
   "execution_count": 54,
   "id": "0e9ae8d5",
   "metadata": {
    "collapsed": false
   },
   "outputs": [
    {
     "data": {
      "text/plain": [
       "<function __main__.inner>"
      ]
     },
     "execution_count": 54,
     "metadata": {},
     "output_type": "execute_result"
    }
   ],
   "source": [
    "# as_charlist, given a function fn, returns a funtion inner\n",
    "# that calls fn with its arguments and passes the result to\n",
    "# charlist before returning it\n",
    "\n",
    "def as_charlist(fn):\n",
    "    def inner(*args):\n",
    "        return charlist(fn(*args))\n",
    "    return inner\n",
    "\n",
    "s = as_charlist(sum_to)\n",
    "s"
   ]
  },
  {
   "cell_type": "code",
   "execution_count": 50,
   "id": "27dd2ea5",
   "metadata": {
    "collapsed": false
   },
   "outputs": [
    {
     "data": {
      "text/plain": [
       "['4', '5']"
      ]
     },
     "execution_count": 50,
     "metadata": {},
     "output_type": "execute_result"
    }
   ],
   "source": [
    "s(10)"
   ]
  },
  {
   "cell_type": "code",
   "execution_count": 52,
   "id": "362047e7",
   "metadata": {
    "collapsed": false
   },
   "outputs": [
    {
     "data": {
      "text/plain": [
       "['7', '8']"
      ]
     },
     "execution_count": 52,
     "metadata": {},
     "output_type": "execute_result"
    }
   ],
   "source": [
    "# what if we made this the new definition of the function\n",
    "# we want to treat this way?\n",
    "\n",
    "def sum_to(n):\n",
    "    return sum(range(n))\n",
    "\n",
    "sum_to = as_charlist(sum_to)\n",
    "\n",
    "sum_to(13)"
   ]
  },
  {
   "cell_type": "code",
   "execution_count": 53,
   "id": "53d4d052",
   "metadata": {
    "collapsed": false
   },
   "outputs": [
    {
     "data": {
      "text/plain": [
       "['1', '9', '0']"
      ]
     },
     "execution_count": 53,
     "metadata": {},
     "output_type": "execute_result"
    }
   ],
   "source": [
    "# that's precisely what the decorator notation does\n",
    "\n",
    "@as_charlist\n",
    "def sum_to(n):\n",
    "    return sum(range(n))\n",
    "\n",
    "sum_to(20)"
   ]
  },
  {
   "cell_type": "code",
   "execution_count": 68,
   "id": "94055b75",
   "metadata": {
    "collapsed": false
   },
   "outputs": [
    {
     "data": {
      "text/plain": [
       "['0', '9', '1']"
      ]
     },
     "execution_count": 68,
     "metadata": {},
     "output_type": "execute_result"
    }
   ],
   "source": [
    "# decorators can be stacked\n",
    "\n",
    "def backwards(fn):\n",
    "    def inner(*args):\n",
    "        return list(reversed(fn(*args)))\n",
    "    return inner\n",
    "\n",
    "@backwards\n",
    "@as_charlist\n",
    "def sum_to(n):\n",
    "    return sum(range(n))\n",
    "\n",
    "sum_to(20)"
   ]
  },
  {
   "cell_type": "code",
   "execution_count": 86,
   "id": "9ce3fed4",
   "metadata": {
    "collapsed": false
   },
   "outputs": [],
   "source": [
    "# decorators can take arguments, but that requires an additional level of \"wrapping\"\n",
    "\n",
    "def as_charlist(upcase=False):\n",
    "    def outer(fn):\n",
    "        def inner(*args):\n",
    "            s = str(fn(*args))\n",
    "            if upcase:\n",
    "                s = s.upper()\n",
    "            return list(s)\n",
    "        return inner\n",
    "    return outer"
   ]
  },
  {
   "cell_type": "code",
   "execution_count": 90,
   "id": "d29e7eb1",
   "metadata": {
    "collapsed": false
   },
   "outputs": [
    {
     "data": {
      "text/plain": [
       "['H', 'I', ',', ' ', 'E', 'V', 'E', 'R', 'Y', 'O', 'N', 'E', '.']"
      ]
     },
     "execution_count": 90,
     "metadata": {},
     "output_type": "execute_result"
    }
   ],
   "source": [
    "@as_charlist(True)\n",
    "def greeting(who='world'):\n",
    "    return 'Hi, %s.' % who\n",
    "\n",
    "greeting('everyone')"
   ]
  }
 ],
 "metadata": {},
 "nbformat": 4,
 "nbformat_minor": 5
}
