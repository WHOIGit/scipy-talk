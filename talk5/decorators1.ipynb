{
 "metadata": {
  "name": "",
  "signature": "sha256:90d9ad364fdef6553ef241cd750e91d6395b778295d1b34ee4f1c1a10e006cdd"
 },
 "nbformat": 3,
 "nbformat_minor": 0,
 "worksheets": [
  {
   "cells": [
    {
     "cell_type": "code",
     "collapsed": false,
     "input": [
      "# A function can accept a function as an argument, and can return a function\n",
      "# This is useful if you want to reuse code that calls a function,\n",
      "# and don't want to specify in advance which function it calls"
     ],
     "language": "python",
     "metadata": {},
     "outputs": [],
     "prompt_number": 1
    },
    {
     "cell_type": "code",
     "collapsed": false,
     "input": [
      "# first, a little syntax\n",
      "# if you want a function to take any number of arguments,\n",
      "# use \"*\" before the parameter name and the parameter's value\n",
      "# will be a tuple of arguments passed to the function\n",
      "\n",
      "def multiple(*args):\n",
      "    return args\n",
      "\n",
      "multiple('blah', 1)"
     ],
     "language": "python",
     "metadata": {},
     "outputs": [
      {
       "metadata": {},
       "output_type": "pyout",
       "prompt_number": 2,
       "text": [
        "('blah', 1)"
       ]
      }
     ],
     "prompt_number": 2
    },
    {
     "cell_type": "code",
     "collapsed": false,
     "input": [
      "multiple('one', 2, 'tres', 4.0)"
     ],
     "language": "python",
     "metadata": {},
     "outputs": [
      {
       "metadata": {},
       "output_type": "pyout",
       "prompt_number": 3,
       "text": [
        "('one', 2, 'tres', 4.0)"
       ]
      }
     ],
     "prompt_number": 3
    },
    {
     "cell_type": "code",
     "collapsed": false,
     "input": [
      "# you can also use \"*\" before a parameter name you're passing to a function,\n",
      "# and it will convert the value of the parameter (which must be iterable)\n",
      "# to the arguments of the function being called, in order\n",
      "\n",
      "def print_msg(text, number):\n",
      "    print '%s %g' % (text, number)\n",
      "    \n",
      "args = ('blah', 1)\n",
      "\n",
      "print_msg(*args)"
     ],
     "language": "python",
     "metadata": {},
     "outputs": [
      {
       "output_type": "stream",
       "stream": "stdout",
       "text": [
        "blah 1\n"
       ]
      }
     ],
     "prompt_number": 4
    },
    {
     "cell_type": "code",
     "collapsed": false,
     "input": [
      "args = ('one', 2, 'tres', 4.0)\n",
      "\n",
      "print_msg(*args)"
     ],
     "language": "python",
     "metadata": {},
     "outputs": [
      {
       "ename": "TypeError",
       "evalue": "print_msg() takes exactly 2 arguments (4 given)",
       "output_type": "pyerr",
       "traceback": [
        "\u001b[0;31m---------------------------------------------------------------------------\u001b[0m\n\u001b[0;31mTypeError\u001b[0m                                 Traceback (most recent call last)",
        "\u001b[0;32m<ipython-input-5-fd04e664eaf1>\u001b[0m in \u001b[0;36m<module>\u001b[0;34m()\u001b[0m\n\u001b[1;32m      1\u001b[0m \u001b[0margs\u001b[0m \u001b[0;34m=\u001b[0m \u001b[0;34m(\u001b[0m\u001b[0;34m'one'\u001b[0m\u001b[0;34m,\u001b[0m \u001b[0;36m2\u001b[0m\u001b[0;34m,\u001b[0m \u001b[0;34m'tres'\u001b[0m\u001b[0;34m,\u001b[0m \u001b[0;36m4.0\u001b[0m\u001b[0;34m)\u001b[0m\u001b[0;34m\u001b[0m\u001b[0m\n\u001b[1;32m      2\u001b[0m \u001b[0;34m\u001b[0m\u001b[0m\n\u001b[0;32m----> 3\u001b[0;31m \u001b[0mprint_msg\u001b[0m\u001b[0;34m(\u001b[0m\u001b[0;34m*\u001b[0m\u001b[0margs\u001b[0m\u001b[0;34m)\u001b[0m\u001b[0;34m\u001b[0m\u001b[0m\n\u001b[0m",
        "\u001b[0;31mTypeError\u001b[0m: print_msg() takes exactly 2 arguments (4 given)"
       ]
      }
     ],
     "prompt_number": 5
    },
    {
     "cell_type": "code",
     "collapsed": false,
     "input": [
      "# lets define a function that does something. this converts its argument\n",
      "# to a string and returns a list of the characters in the string\n",
      "\n",
      "str(3.1415926535)"
     ],
     "language": "python",
     "metadata": {},
     "outputs": [
      {
       "metadata": {},
       "output_type": "pyout",
       "prompt_number": 55,
       "text": [
        "'3.1415926535'"
       ]
      }
     ],
     "prompt_number": 55
    },
    {
     "cell_type": "code",
     "collapsed": false,
     "input": [
      "list(str(3.1415926353))"
     ],
     "language": "python",
     "metadata": {},
     "outputs": [
      {
       "metadata": {},
       "output_type": "pyout",
       "prompt_number": 60,
       "text": [
        "['3', '.', '1', '4', '1', '5', '9', '2', '6', '3', '5', '3']"
       ]
      }
     ],
     "prompt_number": 60
    },
    {
     "cell_type": "code",
     "collapsed": false,
     "input": [
      "def charlist(value):\n",
      "    return list(str(value))\n",
      "\n",
      "charlist(78)"
     ],
     "language": "python",
     "metadata": {},
     "outputs": [
      {
       "metadata": {},
       "output_type": "pyout",
       "prompt_number": 61,
       "text": [
        "['7', '8']"
       ]
      }
     ],
     "prompt_number": 61
    },
    {
     "cell_type": "code",
     "collapsed": false,
     "input": [
      "d = {\n",
      "    'x': 3\n",
      "}\n",
      "\n",
      "d"
     ],
     "language": "python",
     "metadata": {},
     "outputs": [
      {
       "metadata": {},
       "output_type": "pyout",
       "prompt_number": 62,
       "text": [
        "{'x': 3}"
       ]
      }
     ],
     "prompt_number": 62
    },
    {
     "cell_type": "code",
     "collapsed": false,
     "input": [
      "charlist(d)"
     ],
     "language": "python",
     "metadata": {},
     "outputs": [
      {
       "metadata": {},
       "output_type": "pyout",
       "prompt_number": 63,
       "text": [
        "['{', \"'\", 'x', \"'\", ':', ' ', '3', '}']"
       ]
      }
     ],
     "prompt_number": 63
    },
    {
     "cell_type": "code",
     "collapsed": false,
     "input": [
      "# here's another simple function that just computes the sum of all\n",
      "# integers up to n non-inclusive\n",
      "\n",
      "def sum_to(n):\n",
      "    return sum(range(n))\n",
      "\n",
      "sum_to(10)"
     ],
     "language": "python",
     "metadata": {},
     "outputs": [
      {
       "metadata": {},
       "output_type": "pyout",
       "prompt_number": 64,
       "text": [
        "45"
       ]
      }
     ],
     "prompt_number": 64
    },
    {
     "cell_type": "code",
     "collapsed": false,
     "input": [
      "# as_charlist, given a function fn, returns a funtion inner\n",
      "# that calls fn with its arguments and passes the result to\n",
      "# charlist before returning it\n",
      "\n",
      "def as_charlist(fn):\n",
      "    def inner(*args):\n",
      "        return charlist(fn(*args))\n",
      "    return inner\n",
      "\n",
      "s = as_charlist(sum_to)\n",
      "s"
     ],
     "language": "python",
     "metadata": {},
     "outputs": [
      {
       "metadata": {},
       "output_type": "pyout",
       "prompt_number": 54,
       "text": [
        "<function __main__.inner>"
       ]
      }
     ],
     "prompt_number": 54
    },
    {
     "cell_type": "code",
     "collapsed": false,
     "input": [
      "s(10)"
     ],
     "language": "python",
     "metadata": {},
     "outputs": [
      {
       "metadata": {},
       "output_type": "pyout",
       "prompt_number": 50,
       "text": [
        "['4', '5']"
       ]
      }
     ],
     "prompt_number": 50
    },
    {
     "cell_type": "code",
     "collapsed": false,
     "input": [
      "# what if we made this the new definition of the function\n",
      "# we want to treat this way?\n",
      "\n",
      "def sum_to(n):\n",
      "    return sum(range(n))\n",
      "\n",
      "sum_to = as_charlist(sum_to)\n",
      "\n",
      "sum_to(13)"
     ],
     "language": "python",
     "metadata": {},
     "outputs": [
      {
       "metadata": {},
       "output_type": "pyout",
       "prompt_number": 52,
       "text": [
        "['7', '8']"
       ]
      }
     ],
     "prompt_number": 52
    },
    {
     "cell_type": "code",
     "collapsed": false,
     "input": [
      "# that's precisely what the decorator notation does\n",
      "\n",
      "@as_charlist\n",
      "def sum_to(n):\n",
      "    return sum(range(n))\n",
      "\n",
      "sum_to(20)"
     ],
     "language": "python",
     "metadata": {},
     "outputs": [
      {
       "metadata": {},
       "output_type": "pyout",
       "prompt_number": 53,
       "text": [
        "['1', '9', '0']"
       ]
      }
     ],
     "prompt_number": 53
    },
    {
     "cell_type": "code",
     "collapsed": false,
     "input": [
      "# decorators can be stacked\n",
      "\n",
      "def backwards(fn):\n",
      "    def inner(*args):\n",
      "        return list(reversed(fn(*args)))\n",
      "    return inner\n",
      "\n",
      "@backwards\n",
      "@as_charlist\n",
      "def sum_to(n):\n",
      "    return sum(range(n))\n",
      "\n",
      "sum_to(20)"
     ],
     "language": "python",
     "metadata": {},
     "outputs": [
      {
       "metadata": {},
       "output_type": "pyout",
       "prompt_number": 68,
       "text": [
        "['0', '9', '1']"
       ]
      }
     ],
     "prompt_number": 68
    },
    {
     "cell_type": "code",
     "collapsed": false,
     "input": [
      "# decorators can take arguments, but that requires an additional level of \"wrapping\"\n",
      "\n",
      "def as_charlist(upcase=False):\n",
      "    def outer(fn):\n",
      "        def inner(*args):\n",
      "            s = str(fn(*args))\n",
      "            if upcase:\n",
      "                s = s.upper()\n",
      "            return list(s)\n",
      "        return inner\n",
      "    return outer"
     ],
     "language": "python",
     "metadata": {},
     "outputs": [],
     "prompt_number": 86
    },
    {
     "cell_type": "code",
     "collapsed": false,
     "input": [
      "@as_charlist(True)\n",
      "def greeting(who='world'):\n",
      "    return 'Hi, %s.' % who\n",
      "\n",
      "greeting('everyone')"
     ],
     "language": "python",
     "metadata": {},
     "outputs": [
      {
       "metadata": {},
       "output_type": "pyout",
       "prompt_number": 90,
       "text": [
        "['H', 'I', ',', ' ', 'E', 'V', 'E', 'R', 'Y', 'O', 'N', 'E', '.']"
       ]
      }
     ],
     "prompt_number": 90
    }
   ],
   "metadata": {}
  }
 ]
}