{
 "cells": [
  {
   "cell_type": "code",
   "execution_count": 5,
   "id": "3cf1fbd1",
   "metadata": {
    "collapsed": false
   },
   "outputs": [
    {
     "name": "stdout",
     "output_type": "stream",
     "text": [
      "0\n",
      "1\n",
      "2\n",
      "3\n",
      "4\n"
     ]
    }
   ],
   "source": [
    "# the last way to write generators is to implement a class with the appropriate\n",
    "# special methods.\n",
    "\n",
    "# if you implement __iter__ to return an iterator, objects of your class\n",
    "# become iterable.\n",
    "\n",
    "class MyRange(object):\n",
    "    def __init__(self, n):\n",
    "        self.n = n\n",
    "        self.i = 0\n",
    "    def __iter__(self):\n",
    "        return self\n",
    "    def next(self):\n",
    "        if self.i >= self.n:\n",
    "            raise StopIteration\n",
    "        ret = self.i\n",
    "        self.i += 1\n",
    "        return ret\n",
    "    \n",
    "for n in MyRange(5):\n",
    "    print n"
   ]
  },
  {
   "cell_type": "code",
   "execution_count": 8,
   "id": "5b798291",
   "metadata": {
    "collapsed": false
   },
   "outputs": [
    {
     "name": "stdout",
     "output_type": "stream",
     "text": [
      "8\n",
      "0\n",
      "0\n",
      "5\n",
      "5\n",
      "5\n",
      "1\n",
      "2\n",
      "1\n",
      "2\n"
     ]
    }
   ],
   "source": [
    "# you do not have to return \"self\" from iterator to make an object\n",
    "# iterable; you can return any iterator you want\n",
    "\n",
    "class PhoneNumber(object):\n",
    "    def __init__(self, area, exchange, number):\n",
    "        self.area = area\n",
    "        self.exchange = exchange\n",
    "        self.number = number\n",
    "    def __iter__(self):\n",
    "        def digits():\n",
    "            for d in '%03d%03d%04d' % (self.area, self.exchange, self.number):\n",
    "                yield d\n",
    "        return digits()\n",
    "    \n",
    "for d in PhoneNumber(800, 555, 1212):\n",
    "    print d"
   ]
  }
 ],
 "metadata": {},
 "nbformat": 4,
 "nbformat_minor": 5
}
