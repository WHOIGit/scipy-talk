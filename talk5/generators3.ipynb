{
 "metadata": {
  "name": "",
  "signature": "sha256:8751a58223804c5ab96bed072f11723bda7ed79d48030384ccc410167ea964b5"
 },
 "nbformat": 3,
 "nbformat_minor": 0,
 "worksheets": [
  {
   "cells": [
    {
     "cell_type": "code",
     "collapsed": false,
     "input": [
      "# the last way to write generators is to implement a class with the appropriate\n",
      "# special methods.\n",
      "\n",
      "# if you implement __iter__ to return an iterator, objects of your class\n",
      "# become iterable.\n",
      "\n",
      "class MyRange(object):\n",
      "    def __init__(self, n):\n",
      "        self.n = n\n",
      "        self.i = 0\n",
      "    def __iter__(self):\n",
      "        return self\n",
      "    def next(self):\n",
      "        if self.i >= self.n:\n",
      "            raise StopIteration\n",
      "        ret = self.i\n",
      "        self.i += 1\n",
      "        return ret\n",
      "    \n",
      "for n in MyRange(5):\n",
      "    print n"
     ],
     "language": "python",
     "metadata": {},
     "outputs": [
      {
       "output_type": "stream",
       "stream": "stdout",
       "text": [
        "0\n",
        "1\n",
        "2\n",
        "3\n",
        "4\n"
       ]
      }
     ],
     "prompt_number": 5
    },
    {
     "cell_type": "code",
     "collapsed": false,
     "input": [
      "# you do not have to return \"self\" from iterator to make an object\n",
      "# iterable; you can return any iterator you want\n",
      "\n",
      "class PhoneNumber(object):\n",
      "    def __init__(self, area, exchange, number):\n",
      "        self.area = area\n",
      "        self.exchange = exchange\n",
      "        self.number = number\n",
      "    def __iter__(self):\n",
      "        def digits():\n",
      "            for d in '%03d%03d%04d' % (self.area, self.exchange, self.number):\n",
      "                yield d\n",
      "        return digits()\n",
      "    \n",
      "for d in PhoneNumber(800, 555, 1212):\n",
      "    print d"
     ],
     "language": "python",
     "metadata": {},
     "outputs": [
      {
       "output_type": "stream",
       "stream": "stdout",
       "text": [
        "8\n",
        "0\n",
        "0\n",
        "5\n",
        "5\n",
        "5\n",
        "1\n",
        "2\n",
        "1\n",
        "2\n"
       ]
      }
     ],
     "prompt_number": 8
    }
   ],
   "metadata": {}
  }
 ]
}