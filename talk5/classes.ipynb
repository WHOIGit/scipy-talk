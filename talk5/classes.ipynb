{
 "cells": [
  {
   "cell_type": "code",
   "execution_count": 17,
   "id": "76ef42d9",
   "metadata": {
    "collapsed": false
   },
   "outputs": [],
   "source": [
    "# huge topic. this is the basics\n",
    "# classes \"encapsulate\" state and behavior\n",
    "# in other words variables and functions (called methods).\n",
    "# objects or instances of a class can use these variables\n",
    "# to store per-object state, and the methods can access that\n",
    "# per-object state.\n",
    "\n",
    "# classes form a hierarchy.\n",
    "# each class is a \"subclass\" of one other class, which is\n",
    "# called its \"superclass\". The base class--one with no superclass,\n",
    "# is called \"object\".\n",
    "# (there is an old style of defining classes in Python 2 which I\n",
    "# will not cover as it is generally considered bad practice to use it)\n",
    "\n",
    "# by convention, class names are in capitalized camel case\n",
    "\n",
    "# Here is the simplest class:\n",
    "\n",
    "class EmptyClass(object):\n",
    "    pass"
   ]
  },
  {
   "cell_type": "code",
   "execution_count": 18,
   "id": "d60fe3a6",
   "metadata": {
    "collapsed": false
   },
   "outputs": [
    {
     "data": {
      "text/plain": [
       "<__main__.EmptyClass at 0x7fbcc02ac290>"
      ]
     },
     "execution_count": 18,
     "metadata": {},
     "output_type": "execute_result"
    }
   ],
   "source": [
    "# to make an instance, call the class's \"constructor\". it is named after\n",
    "# the class. The default constructor does nothing, so it works with our\n",
    "# EmptyClass:\n",
    "\n",
    "EmptyClass()"
   ]
  },
  {
   "cell_type": "code",
   "execution_count": 19,
   "id": "9679c5a7",
   "metadata": {
    "collapsed": false
   },
   "outputs": [
    {
     "data": {
      "text/plain": [
       "'Hello'"
      ]
     },
     "execution_count": 19,
     "metadata": {},
     "output_type": "execute_result"
    }
   ],
   "source": [
    "# let's create a class with a method. All methods accept at least one argument;\n",
    "# the first argument is called \"self\" and refers to whatever instance the method\n",
    "# is called on.\n",
    "\n",
    "class SimpleClass(object):\n",
    "    def hello(self):\n",
    "        return 'Hello'\n",
    "\n",
    "# when you call the method, instead of passing an instance to it, you dereference it\n",
    "# from an expression returning the instance, and you don't have to pass \"self\" to it.\n",
    "o = SimpleClass()\n",
    "o.hello()"
   ]
  },
  {
   "cell_type": "code",
   "execution_count": 20,
   "id": "0009823c",
   "metadata": {
    "collapsed": false
   },
   "outputs": [
    {
     "data": {
      "text/plain": [
       "'Hello, everyone.'"
      ]
     },
     "execution_count": 20,
     "metadata": {},
     "output_type": "execute_result"
    }
   ],
   "source": [
    "# a method that takes arguments takes them after \"self\"\n",
    "\n",
    "class SimpleClass(object):\n",
    "    def hello(self, who='world'):\n",
    "        return 'Hello, %s.' % who\n",
    "    \n",
    "o = SimpleClass()\n",
    "o.hello('everyone')"
   ]
  },
  {
   "cell_type": "code",
   "execution_count": 21,
   "id": "88031d53",
   "metadata": {
    "collapsed": false
   },
   "outputs": [
    {
     "data": {
      "text/plain": [
       "<__main__.Thing at 0x7fbcc02ac910>"
      ]
     },
     "execution_count": 21,
     "metadata": {},
     "output_type": "execute_result"
    }
   ],
   "source": [
    "# \"self\" can have properties set on it, which are per-instance\n",
    "\n",
    "a = SimpleClass()\n",
    "b = SimpleClass()\n",
    "a.name = 'Joe'\n",
    "\n",
    "class Thing(object):\n",
    "    pass\n",
    "\n",
    "o = Thing()\n",
    "\n",
    "o.something = 3\n",
    "o.bar = 8\n",
    "o"
   ]
  },
  {
   "cell_type": "code",
   "execution_count": 22,
   "id": "23b6aeca",
   "metadata": {
    "collapsed": false
   },
   "outputs": [
    {
     "ename": "AttributeError",
     "evalue": "'dict' object has no attribute 'name'",
     "output_type": "error",
     "traceback": [
      "\u001b[0;31m---------------------------------------------------------------------------\u001b[0m\n\u001b[0;31mAttributeError\u001b[0m                            Traceback (most recent call last)",
      "\u001b[0;32m<ipython-input-22-c996a83897e1>\u001b[0m in \u001b[0;36m<module>\u001b[0;34m()\u001b[0m\n\u001b[1;32m      3\u001b[0m \u001b[0md\u001b[0m \u001b[0;34m=\u001b[0m \u001b[0;34m{\u001b[0m \u001b[0;34m'one'\u001b[0m\u001b[0;34m:\u001b[0m \u001b[0;36m1\u001b[0m\u001b[0;34m,\u001b[0m \u001b[0;34m'two'\u001b[0m\u001b[0;34m:\u001b[0m \u001b[0;36m2\u001b[0m \u001b[0;34m}\u001b[0m\u001b[0;34m\u001b[0m\u001b[0m\n\u001b[1;32m      4\u001b[0m \u001b[0;34m\u001b[0m\u001b[0m\n\u001b[0;32m----> 5\u001b[0;31m \u001b[0md\u001b[0m\u001b[0;34m.\u001b[0m\u001b[0mname\u001b[0m \u001b[0;34m=\u001b[0m \u001b[0;34m'Joe'\u001b[0m\u001b[0;34m\u001b[0m\u001b[0m\n\u001b[0m",
      "\u001b[0;31mAttributeError\u001b[0m: 'dict' object has no attribute 'name'"
     ]
    }
   ],
   "source": [
    "# only classes can have their attributes set, and not, say, dicts\n",
    "\n",
    "d = { 'one': 1, 'two': 2 }\n",
    "\n",
    "d.name = 'Joe'"
   ]
  },
  {
   "cell_type": "code",
   "execution_count": 23,
   "id": "94231295",
   "metadata": {
    "collapsed": false
   },
   "outputs": [
    {
     "data": {
      "text/plain": [
       "('Hello, Joe.', 'Hello, Bethany.')"
      ]
     },
     "execution_count": 23,
     "metadata": {},
     "output_type": "execute_result"
    }
   ],
   "source": [
    "# inside methods, properties belong to \"self\"\n",
    "\n",
    "class SimpleClass(object):\n",
    "    def hello(self):\n",
    "        return 'Hello, %s.' % self.name\n",
    "    \n",
    "joe = SimpleClass()\n",
    "bethany = SimpleClass()\n",
    "\n",
    "joe.name = 'Joe'\n",
    "bethany.name = 'Bethany'\n",
    "\n",
    "joe.hello(), bethany.hello()"
   ]
  },
  {
   "cell_type": "code",
   "execution_count": 24,
   "id": "79e2730b",
   "metadata": {
    "collapsed": false
   },
   "outputs": [
    {
     "data": {
      "text/plain": [
       "'Hello, Joe.'"
      ]
     },
     "execution_count": 24,
     "metadata": {},
     "output_type": "execute_result"
    }
   ],
   "source": [
    "# methods can set properties\n",
    "\n",
    "class SimpleClass(object):\n",
    "    def hello(self):\n",
    "        msg = 'Hello, %s.' % self.name\n",
    "        self.name = 'person I already said hello to'\n",
    "        return msg\n",
    "    \n",
    "joe = SimpleClass()\n",
    "joe.name = 'Joe'\n",
    "joe.hello()"
   ]
  },
  {
   "cell_type": "code",
   "execution_count": 25,
   "id": "7b552fc5",
   "metadata": {
    "collapsed": false
   },
   "outputs": [
    {
     "data": {
      "text/plain": [
       "'Hello, person I already said hello to.'"
      ]
     },
     "execution_count": 25,
     "metadata": {},
     "output_type": "execute_result"
    }
   ],
   "source": [
    "joe.hello()"
   ]
  },
  {
   "cell_type": "code",
   "execution_count": 26,
   "id": "80987968",
   "metadata": {
    "collapsed": false
   },
   "outputs": [
    {
     "data": {
      "text/plain": [
       "'Hello, Joe.'"
      ]
     },
     "execution_count": 26,
     "metadata": {},
     "output_type": "execute_result"
    }
   ],
   "source": [
    "# each class has a special method called __init__ that is called when you construct an instance\n",
    "\n",
    "class SimpleClass(object):\n",
    "    def __init__(self, name):\n",
    "        self.name = name\n",
    "    def hello(self):\n",
    "        return 'Hello, %s.' % self.name\n",
    "\n",
    "joe = SimpleClass('Joe')\n",
    "joe.hello()"
   ]
  },
  {
   "cell_type": "code",
   "execution_count": 27,
   "id": "c32a1fd0",
   "metadata": {
    "collapsed": false
   },
   "outputs": [
    {
     "name": "stdout",
     "output_type": "stream",
     "text": [
      "Hello, Joe.\n"
     ]
    },
    {
     "data": {
      "text/plain": [
       "5"
      ]
     },
     "execution_count": 27,
     "metadata": {},
     "output_type": "execute_result"
    }
   ],
   "source": [
    "# methods can call each other using \"self\"\n",
    "\n",
    "class SimpleClass(object):\n",
    "    def __init__(self, name):\n",
    "        self.name = name\n",
    "    def hello(self):\n",
    "        return 'Hello, %s.' % self.name\n",
    "    def say_hello(self):\n",
    "        print self.hello()\n",
    "        return 5\n",
    "\n",
    "SimpleClass('Joe').say_hello()"
   ]
  },
  {
   "cell_type": "code",
   "execution_count": 28,
   "id": "e88cf2e0",
   "metadata": {
    "collapsed": false
   },
   "outputs": [
    {
     "name": "stdout",
     "output_type": "stream",
     "text": [
      "Oh hai Joe.\n"
     ]
    },
    {
     "data": {
      "text/plain": [
       "5"
      ]
     },
     "execution_count": 28,
     "metadata": {},
     "output_type": "execute_result"
    }
   ],
   "source": [
    "# you can \"subclass\" a class. the subclass will \"inherit\" methods from its \"superclass\"\n",
    "# and you can \"override\" methods.\n",
    "\n",
    "class SimpleSubclass(SimpleClass):\n",
    "    def hello(self):\n",
    "        return 'Oh hai %s.' % self.name\n",
    "\n",
    "SimpleSubclass('Joe').say_hello()"
   ]
  },
  {
   "cell_type": "code",
   "execution_count": 29,
   "id": "6cd1ce7d",
   "metadata": {
    "collapsed": false
   },
   "outputs": [
    {
     "ename": "AttributeError",
     "evalue": "'SimpleSubclass' object has no attribute 'name'",
     "output_type": "error",
     "traceback": [
      "\u001b[0;31m---------------------------------------------------------------------------\u001b[0m\n\u001b[0;31mAttributeError\u001b[0m                            Traceback (most recent call last)",
      "\u001b[0;32m<ipython-input-29-40c2b7aaf9e3>\u001b[0m in \u001b[0;36m<module>\u001b[0;34m()\u001b[0m\n\u001b[1;32m      9\u001b[0m \u001b[0;31m# this will not work\u001b[0m\u001b[0;34m\u001b[0m\u001b[0;34m\u001b[0m\u001b[0m\n\u001b[1;32m     10\u001b[0m \u001b[0;34m\u001b[0m\u001b[0m\n\u001b[0;32m---> 11\u001b[0;31m \u001b[0mSimpleSubclass\u001b[0m\u001b[0;34m(\u001b[0m\u001b[0;34m'Joe'\u001b[0m\u001b[0;34m,\u001b[0m \u001b[0;34m'Hi there'\u001b[0m\u001b[0;34m)\u001b[0m\u001b[0;34m.\u001b[0m\u001b[0msay_hello\u001b[0m\u001b[0;34m(\u001b[0m\u001b[0;34m)\u001b[0m\u001b[0;34m\u001b[0m\u001b[0m\n\u001b[0m",
      "\u001b[0;32m<ipython-input-27-7865f9e4fe3d>\u001b[0m in \u001b[0;36msay_hello\u001b[0;34m(self)\u001b[0m\n\u001b[1;32m      7\u001b[0m         \u001b[0;32mreturn\u001b[0m \u001b[0;34m'Hello, %s.'\u001b[0m \u001b[0;34m%\u001b[0m \u001b[0mself\u001b[0m\u001b[0;34m.\u001b[0m\u001b[0mname\u001b[0m\u001b[0;34m\u001b[0m\u001b[0m\n\u001b[1;32m      8\u001b[0m     \u001b[0;32mdef\u001b[0m \u001b[0msay_hello\u001b[0m\u001b[0;34m(\u001b[0m\u001b[0mself\u001b[0m\u001b[0;34m)\u001b[0m\u001b[0;34m:\u001b[0m\u001b[0;34m\u001b[0m\u001b[0m\n\u001b[0;32m----> 9\u001b[0;31m         \u001b[0;32mprint\u001b[0m \u001b[0mself\u001b[0m\u001b[0;34m.\u001b[0m\u001b[0mhello\u001b[0m\u001b[0;34m(\u001b[0m\u001b[0;34m)\u001b[0m\u001b[0;34m\u001b[0m\u001b[0m\n\u001b[0m\u001b[1;32m     10\u001b[0m         \u001b[0;32mreturn\u001b[0m \u001b[0;36m5\u001b[0m\u001b[0;34m\u001b[0m\u001b[0m\n\u001b[1;32m     11\u001b[0m \u001b[0;34m\u001b[0m\u001b[0m\n",
      "\u001b[0;32m<ipython-input-29-40c2b7aaf9e3>\u001b[0m in \u001b[0;36mhello\u001b[0;34m(self)\u001b[0m\n\u001b[1;32m      5\u001b[0m         \u001b[0mself\u001b[0m\u001b[0;34m.\u001b[0m\u001b[0mgreeting\u001b[0m \u001b[0;34m=\u001b[0m \u001b[0mgreeting\u001b[0m\u001b[0;34m\u001b[0m\u001b[0m\n\u001b[1;32m      6\u001b[0m     \u001b[0;32mdef\u001b[0m \u001b[0mhello\u001b[0m\u001b[0;34m(\u001b[0m\u001b[0mself\u001b[0m\u001b[0;34m)\u001b[0m\u001b[0;34m:\u001b[0m\u001b[0;34m\u001b[0m\u001b[0m\n\u001b[0;32m----> 7\u001b[0;31m         \u001b[0;32mreturn\u001b[0m \u001b[0;34m'%s, %s.'\u001b[0m \u001b[0;34m%\u001b[0m \u001b[0;34m(\u001b[0m\u001b[0mself\u001b[0m\u001b[0;34m.\u001b[0m\u001b[0mgreeting\u001b[0m\u001b[0;34m,\u001b[0m \u001b[0mself\u001b[0m\u001b[0;34m.\u001b[0m\u001b[0mname\u001b[0m\u001b[0;34m)\u001b[0m\u001b[0;34m\u001b[0m\u001b[0m\n\u001b[0m\u001b[1;32m      8\u001b[0m \u001b[0;34m\u001b[0m\u001b[0m\n\u001b[1;32m      9\u001b[0m \u001b[0;31m# this will not work\u001b[0m\u001b[0;34m\u001b[0m\u001b[0;34m\u001b[0m\u001b[0m\n",
      "\u001b[0;31mAttributeError\u001b[0m: 'SimpleSubclass' object has no attribute 'name'"
     ]
    }
   ],
   "source": [
    "# be careful when overriding __init__, as the superclass's __init__ is not automatically called\n",
    "\n",
    "class SimpleSubclass(SimpleClass):\n",
    "    def __init__(self, name, greeting):\n",
    "        self.greeting = greeting\n",
    "    def hello(self):\n",
    "        return '%s, %s.' % (self.greeting, self.name)\n",
    "    \n",
    "# this will not work\n",
    "\n",
    "SimpleSubclass('Joe', 'Hi there').say_hello()"
   ]
  },
  {
   "cell_type": "code",
   "execution_count": 30,
   "id": "2d0d3dc0",
   "metadata": {
    "collapsed": false
   },
   "outputs": [
    {
     "name": "stdout",
     "output_type": "stream",
     "text": [
      "Greetings, Joe.\n"
     ]
    },
    {
     "data": {
      "text/plain": [
       "5"
      ]
     },
     "execution_count": 30,
     "metadata": {},
     "output_type": "execute_result"
    }
   ],
   "source": [
    "# there is a very specific idiom that must be used to call a superclass constructor\n",
    "\n",
    "class SimpleSubclass(SimpleClass):\n",
    "    def __init__(self, name, greeting):\n",
    "        super(SimpleSubclass, self).__init__(name)\n",
    "        self.greeting = greeting\n",
    "    def hello(self):\n",
    "        return '%s, %s.' % (self.greeting, self.name)\n",
    "    \n",
    "SimpleSubclass('Joe', 'Greetings').say_hello()"
   ]
  },
  {
   "cell_type": "code",
   "execution_count": 31,
   "id": "4ea7e672",
   "metadata": {
    "collapsed": false
   },
   "outputs": [
    {
     "name": "stdout",
     "output_type": "stream",
     "text": [
      "Greetings, Joe.\n"
     ]
    },
    {
     "data": {
      "text/plain": [
       "7"
      ]
     },
     "execution_count": 31,
     "metadata": {},
     "output_type": "execute_result"
    }
   ],
   "source": [
    "# you can also call any other superclass method the same way\n",
    "\n",
    "class SimpleSubclass(SimpleClass):\n",
    "    def __init__(self, name, greeting):\n",
    "        super(SimpleSubclass, self).__init__(name)\n",
    "        self.greeting = greeting\n",
    "    def hello(self):\n",
    "        return '%s, %s.' % (self.greeting, self.name)\n",
    "    def say_hello(self):\n",
    "        super(SimpleSubclass, self).say_hello()\n",
    "        return 7\n",
    "    \n",
    "SimpleSubclass('Joe', 'Greetings').say_hello()"
   ]
  },
  {
   "cell_type": "code",
   "execution_count": 32,
   "id": "fa79bcab",
   "metadata": {
    "collapsed": false
   },
   "outputs": [
    {
     "name": "stdout",
     "output_type": "stream",
     "text": [
      "Greetings, Joe.\n"
     ]
    },
    {
     "data": {
      "text/plain": [
       "7"
      ]
     },
     "execution_count": 32,
     "metadata": {},
     "output_type": "execute_result"
    }
   ],
   "source": [
    "# remember, once we create a class we can set its properties and call its methods\n",
    "# and it will keep track of its properties as they change\n",
    "\n",
    "o = SimpleSubclass('Joe','Greetings')\n",
    "o.say_hello()"
   ]
  },
  {
   "cell_type": "code",
   "execution_count": 33,
   "id": "5e72f43f",
   "metadata": {
    "collapsed": false
   },
   "outputs": [
    {
     "name": "stdout",
     "output_type": "stream",
     "text": [
      "Greetings, everyone.\n"
     ]
    },
    {
     "data": {
      "text/plain": [
       "7"
      ]
     },
     "execution_count": 33,
     "metadata": {},
     "output_type": "execute_result"
    }
   ],
   "source": [
    "o.name = 'everyone'\n",
    "o.say_hello()"
   ]
  },
  {
   "cell_type": "code",
   "execution_count": 34,
   "id": "cb471e38",
   "metadata": {
    "collapsed": false
   },
   "outputs": [
    {
     "name": "stdout",
     "output_type": "stream",
     "text": [
      "Howdy, everyone.\n"
     ]
    },
    {
     "data": {
      "text/plain": [
       "7"
      ]
     },
     "execution_count": 34,
     "metadata": {},
     "output_type": "execute_result"
    }
   ],
   "source": [
    "o.greeting = 'Howdy'\n",
    "o.say_hello()"
   ]
  },
  {
   "cell_type": "code",
   "execution_count": 35,
   "id": "2a6fab77",
   "metadata": {
    "collapsed": false
   },
   "outputs": [
    {
     "name": "stdout",
     "output_type": "stream",
     "text": [
      "Howdy, everyone.\n"
     ]
    },
    {
     "data": {
      "text/plain": [
       "7"
      ]
     },
     "execution_count": 35,
     "metadata": {},
     "output_type": "execute_result"
    }
   ],
   "source": [
    "# you can set properties that are never used in any methods and that works too:\n",
    "\n",
    "o.foobar = 3\n",
    "o.say_hello()"
   ]
  },
  {
   "cell_type": "code",
   "execution_count": 36,
   "id": "bff09c68",
   "metadata": {
    "collapsed": false
   },
   "outputs": [
    {
     "data": {
      "text/plain": [
       "3"
      ]
     },
     "execution_count": 36,
     "metadata": {},
     "output_type": "execute_result"
    }
   ],
   "source": [
    "o.foobar"
   ]
  }
 ],
 "metadata": {},
 "nbformat": 4,
 "nbformat_minor": 5
}
