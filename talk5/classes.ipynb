{
 "metadata": {
  "name": "",
  "signature": "sha256:0792155ab4a38816f05b439057a995a58835ba469862980da15300f0983bc8a8"
 },
 "nbformat": 3,
 "nbformat_minor": 0,
 "worksheets": [
  {
   "cells": [
    {
     "cell_type": "code",
     "collapsed": false,
     "input": [
      "# huge topic. this is the basics\n",
      "# classes \"encapsulate\" state and behavior\n",
      "# in other words variables and functions (called methods).\n",
      "# objects or instances of a class can use these variables\n",
      "# to store per-object state, and the methods can access that\n",
      "# per-object state.\n",
      "\n",
      "# classes form a hierarchy, but I won't cover that today. Just\n",
      "# know that each class is a \"subclass\" of one other class, which is\n",
      "# called its \"superclass\". The base class--one with no superclass,\n",
      "# is called \"object\".\n",
      "# (there is an old style of defining classes in Python 2 which I\n",
      "# will not cover as it is generally considered bad practice to use it)\n",
      "\n",
      "# by conventions, class names are in capitalized camel case\n",
      "\n",
      "# Here is the simplest class:\n",
      "\n",
      "class EmptyClass(object):\n",
      "    pass"
     ],
     "language": "python",
     "metadata": {},
     "outputs": [],
     "prompt_number": 2
    },
    {
     "cell_type": "code",
     "collapsed": false,
     "input": [
      "# to make an instance, call the class's \"constructor\". it is named after\n",
      "# the class. The default constructor does nothing, so it works with our\n",
      "# EmptyClass:\n",
      "\n",
      "EmptyClass()"
     ],
     "language": "python",
     "metadata": {},
     "outputs": [
      {
       "metadata": {},
       "output_type": "pyout",
       "prompt_number": 3,
       "text": [
        "<__main__.EmptyClass at 0x7f369c12fc10>"
       ]
      }
     ],
     "prompt_number": 3
    },
    {
     "cell_type": "code",
     "collapsed": false,
     "input": [
      "# let's create a class with a method. All methods accept at least one argument;\n",
      "# the first argument is called \"self\" and refers to whatever instance the method\n",
      "# is called on.\n",
      "\n",
      "class SimpleClass(object):\n",
      "    def hello(self):\n",
      "        return 'Hello'\n",
      "\n",
      "# when you call the method, instead of passing an instance to it, you dereference it\n",
      "# from an expression returning the instance, and you don't have to pass \"self\" to it.\n",
      "o = SimpleClass()\n",
      "o.hello()"
     ],
     "language": "python",
     "metadata": {},
     "outputs": [
      {
       "metadata": {},
       "output_type": "pyout",
       "prompt_number": 5,
       "text": [
        "'Hello'"
       ]
      }
     ],
     "prompt_number": 5
    },
    {
     "cell_type": "code",
     "collapsed": false,
     "input": [
      "# a method that takes arguments takes them after \"self\"\n",
      "\n",
      "class SimpleClass(object):\n",
      "    def hello(self, who='world'):\n",
      "        return 'Hello, %s.' % who\n",
      "    \n",
      "o = SimpleClass()\n",
      "o.hello('everyone')"
     ],
     "language": "python",
     "metadata": {},
     "outputs": [
      {
       "metadata": {},
       "output_type": "pyout",
       "prompt_number": 6,
       "text": [
        "'Hello, everyone.'"
       ]
      }
     ],
     "prompt_number": 6
    },
    {
     "cell_type": "code",
     "collapsed": false,
     "input": [
      "# \"self\" can have properties set on it, which are per-instance\n",
      "\n",
      "a = SimpleClass()\n",
      "b = SimpleClass()\n",
      "a.name = 'Joe'\n",
      "b.name = 'Bethany'\n",
      "\n",
      "a.name, b.name"
     ],
     "language": "python",
     "metadata": {},
     "outputs": [
      {
       "metadata": {},
       "output_type": "pyout",
       "prompt_number": 8,
       "text": [
        "('Joe', 'Bethany')"
       ]
      }
     ],
     "prompt_number": 8
    },
    {
     "cell_type": "code",
     "collapsed": false,
     "input": [
      "# inside methods, properties belong to \"self\"\n",
      "\n",
      "class SimpleClass(object):\n",
      "    def hello(self):\n",
      "        return 'Hello, %s.' % self.name\n",
      "    \n",
      "joe = SimpleClass()\n",
      "joe.name = 'Joe'\n",
      "joe.hello()"
     ],
     "language": "python",
     "metadata": {},
     "outputs": [
      {
       "metadata": {},
       "output_type": "pyout",
       "prompt_number": 9,
       "text": [
        "'Hello, Joe.'"
       ]
      }
     ],
     "prompt_number": 9
    },
    {
     "cell_type": "code",
     "collapsed": false,
     "input": [
      "# methods can set properties\n",
      "\n",
      "class SimpleClass(object):\n",
      "    def hello(self):\n",
      "        msg = 'Hello, %s.' % self.name\n",
      "        self.name = 'person I already said hello to'\n",
      "        return msg\n",
      "    \n",
      "joe = SimpleClass()\n",
      "joe.name = 'Joe'\n",
      "joe.hello()"
     ],
     "language": "python",
     "metadata": {},
     "outputs": [
      {
       "metadata": {},
       "output_type": "pyout",
       "prompt_number": 10,
       "text": [
        "'Hello, Joe.'"
       ]
      }
     ],
     "prompt_number": 10
    },
    {
     "cell_type": "code",
     "collapsed": false,
     "input": [
      "joe.hello()"
     ],
     "language": "python",
     "metadata": {},
     "outputs": [
      {
       "metadata": {},
       "output_type": "pyout",
       "prompt_number": 11,
       "text": [
        "'Hello, person I already said hello to.'"
       ]
      }
     ],
     "prompt_number": 11
    },
    {
     "cell_type": "code",
     "collapsed": false,
     "input": [
      "# each class has a special method called __init__ that is called when you construct an instance\n",
      "\n",
      "class SimpleClass(object):\n",
      "    def __init__(self, name):\n",
      "        self.name = name\n",
      "    def hello(self):\n",
      "        return 'Hello, %s.' % self.name\n",
      "    \n",
      "joe = SimpleClass('Joe')\n",
      "joe.hello()"
     ],
     "language": "python",
     "metadata": {},
     "outputs": [
      {
       "metadata": {},
       "output_type": "pyout",
       "prompt_number": 12,
       "text": [
        "'Hello, Joe.'"
       ]
      }
     ],
     "prompt_number": 12
    }
   ],
   "metadata": {}
  }
 ]
}