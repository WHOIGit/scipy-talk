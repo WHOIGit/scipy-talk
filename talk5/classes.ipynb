{
 "metadata": {
  "name": "",
  "signature": "sha256:3ecbd030c57e1faeb7ced1a676cc2f7ad3e6e2f058a3ba7825e1958413d7090d"
 },
 "nbformat": 3,
 "nbformat_minor": 0,
 "worksheets": [
  {
   "cells": [
    {
     "cell_type": "code",
     "collapsed": false,
     "input": [
      "# huge topic. this is the basics\n",
      "# classes \"encapsulate\" state and behavior\n",
      "# in other words variables and functions (called methods).\n",
      "# objects or instances of a class can use these variables\n",
      "# to store per-object state, and the methods can access that\n",
      "# per-object state.\n",
      "\n",
      "# classes form a hierarchy.\n",
      "# each class is a \"subclass\" of one other class, which is\n",
      "# called its \"superclass\". The base class--one with no superclass,\n",
      "# is called \"object\".\n",
      "# (there is an old style of defining classes in Python 2 which I\n",
      "# will not cover as it is generally considered bad practice to use it)\n",
      "\n",
      "# by convention, class names are in capitalized camel case\n",
      "\n",
      "# Here is the simplest class:\n",
      "\n",
      "class EmptyClass(object):\n",
      "    pass"
     ],
     "language": "python",
     "metadata": {},
     "outputs": [],
     "prompt_number": 1
    },
    {
     "cell_type": "code",
     "collapsed": false,
     "input": [
      "# to make an instance, call the class's \"constructor\". it is named after\n",
      "# the class. The default constructor does nothing, so it works with our\n",
      "# EmptyClass:\n",
      "\n",
      "EmptyClass()"
     ],
     "language": "python",
     "metadata": {},
     "outputs": [
      {
       "metadata": {},
       "output_type": "pyout",
       "prompt_number": 10,
       "text": [
        "<__main__.EmptyClass at 0x7f3c5c0cedd0>"
       ]
      }
     ],
     "prompt_number": 10
    },
    {
     "cell_type": "code",
     "collapsed": false,
     "input": [
      "# let's create a class with a method. All methods accept at least one argument;\n",
      "# the first argument is called \"self\" and refers to whatever instance the method\n",
      "# is called on.\n",
      "\n",
      "class SimpleClass(object):\n",
      "    def hello(self):\n",
      "        return 'Hello'\n",
      "\n",
      "# when you call the method, instead of passing an instance to it, you dereference it\n",
      "# from an expression returning the instance, and you don't have to pass \"self\" to it.\n",
      "o = SimpleClass()\n",
      "o.hello()"
     ],
     "language": "python",
     "metadata": {},
     "outputs": [
      {
       "ename": "TypeError",
       "evalue": "hello() takes exactly 1 argument (2 given)",
       "output_type": "pyerr",
       "traceback": [
        "\u001b[0;31m---------------------------------------------------------------------------\u001b[0m\n\u001b[0;31mTypeError\u001b[0m                                 Traceback (most recent call last)",
        "\u001b[0;32m<ipython-input-12-c22b68ac4993>\u001b[0m in \u001b[0;36m<module>\u001b[0;34m()\u001b[0m\n\u001b[1;32m     10\u001b[0m \u001b[0;31m# from an expression returning the instance, and you don't have to pass \"self\" to it.\u001b[0m\u001b[0;34m\u001b[0m\u001b[0;34m\u001b[0m\u001b[0m\n\u001b[1;32m     11\u001b[0m \u001b[0mo\u001b[0m \u001b[0;34m=\u001b[0m \u001b[0mSimpleClass\u001b[0m\u001b[0;34m(\u001b[0m\u001b[0;34m)\u001b[0m\u001b[0;34m\u001b[0m\u001b[0m\n\u001b[0;32m---> 12\u001b[0;31m \u001b[0mo\u001b[0m\u001b[0;34m.\u001b[0m\u001b[0mhello\u001b[0m\u001b[0;34m(\u001b[0m\u001b[0;36m1\u001b[0m\u001b[0;34m)\u001b[0m\u001b[0;34m\u001b[0m\u001b[0m\n\u001b[0m",
        "\u001b[0;31mTypeError\u001b[0m: hello() takes exactly 1 argument (2 given)"
       ]
      }
     ],
     "prompt_number": 12
    },
    {
     "cell_type": "code",
     "collapsed": false,
     "input": [
      "# a method that takes arguments takes them after \"self\"\n",
      "\n",
      "class SimpleClass(object):\n",
      "    def hello(self, who='world'):\n",
      "        return 'Hello, %s.' % who\n",
      "    \n",
      "o = SimpleClass()\n",
      "o.hello('everyone')"
     ],
     "language": "python",
     "metadata": {},
     "outputs": [
      {
       "metadata": {},
       "output_type": "pyout",
       "prompt_number": 13,
       "text": [
        "'Hello, everyone.'"
       ]
      }
     ],
     "prompt_number": 13
    },
    {
     "cell_type": "code",
     "collapsed": false,
     "input": [
      "# \"self\" can have properties set on it, which are per-instance\n",
      "\n",
      "a = SimpleClass()\n",
      "b = SimpleClass()\n",
      "a.name = 'Joe'\n",
      "\n",
      "class Thing(object):\n",
      "    pass\n",
      "\n",
      "o = Thing()\n",
      "\n",
      "o.something = 3\n",
      "o.bar = 8\n",
      "o"
     ],
     "language": "python",
     "metadata": {},
     "outputs": [
      {
       "metadata": {},
       "output_type": "pyout",
       "prompt_number": 18,
       "text": [
        "<__main__.Thing at 0x7f3c5c055f10>"
       ]
      }
     ],
     "prompt_number": 18
    },
    {
     "cell_type": "code",
     "collapsed": false,
     "input": [
      "d = { 'one': 1, 'two': 2 }\n",
      "\n",
      "d.name = 'Joe'"
     ],
     "language": "python",
     "metadata": {},
     "outputs": [
      {
       "ename": "AttributeError",
       "evalue": "'dict' object has no attribute 'name'",
       "output_type": "pyerr",
       "traceback": [
        "\u001b[0;31m---------------------------------------------------------------------------\u001b[0m\n\u001b[0;31mAttributeError\u001b[0m                            Traceback (most recent call last)",
        "\u001b[0;32m<ipython-input-15-8f84a7779ab7>\u001b[0m in \u001b[0;36m<module>\u001b[0;34m()\u001b[0m\n\u001b[1;32m      1\u001b[0m \u001b[0md\u001b[0m \u001b[0;34m=\u001b[0m \u001b[0;34m{\u001b[0m \u001b[0;34m'one'\u001b[0m\u001b[0;34m:\u001b[0m \u001b[0;36m1\u001b[0m\u001b[0;34m,\u001b[0m \u001b[0;34m'two'\u001b[0m\u001b[0;34m:\u001b[0m \u001b[0;36m2\u001b[0m \u001b[0;34m}\u001b[0m\u001b[0;34m\u001b[0m\u001b[0m\n\u001b[1;32m      2\u001b[0m \u001b[0;34m\u001b[0m\u001b[0m\n\u001b[0;32m----> 3\u001b[0;31m \u001b[0md\u001b[0m\u001b[0;34m.\u001b[0m\u001b[0mname\u001b[0m \u001b[0;34m=\u001b[0m \u001b[0;34m'Joe'\u001b[0m\u001b[0;34m\u001b[0m\u001b[0m\n\u001b[0m",
        "\u001b[0;31mAttributeError\u001b[0m: 'dict' object has no attribute 'name'"
       ]
      }
     ],
     "prompt_number": 15
    },
    {
     "cell_type": "code",
     "collapsed": false,
     "input": [
      "# inside methods, properties belong to \"self\"\n",
      "\n",
      "class SimpleClass(object):\n",
      "    def hello(self):\n",
      "        return 'Hello, %s.' % self.name\n",
      "    \n",
      "joe = SimpleClass()\n",
      "bethany = SimpleClass()\n",
      "\n",
      "joe.name = 'Joe'\n",
      "bethany.name = 'Bethany'\n",
      "\n",
      "joe.hello(), bethany.hello()"
     ],
     "language": "python",
     "metadata": {},
     "outputs": [
      {
       "metadata": {},
       "output_type": "pyout",
       "prompt_number": 21,
       "text": [
        "('Hello, Joe.', 'Hello, Bethany.')"
       ]
      }
     ],
     "prompt_number": 21
    },
    {
     "cell_type": "code",
     "collapsed": false,
     "input": [
      "# methods can set properties\n",
      "\n",
      "class SimpleClass(object):\n",
      "    def hello(self):\n",
      "        msg = 'Hello, %s.' % self.name\n",
      "        self.name = 'person I already said hello to'\n",
      "        return msg\n",
      "    \n",
      "joe = SimpleClass()\n",
      "joe.name = 'Joe'\n",
      "joe.hello()"
     ],
     "language": "python",
     "metadata": {},
     "outputs": [
      {
       "metadata": {},
       "output_type": "pyout",
       "prompt_number": 22,
       "text": [
        "'Hello, Joe.'"
       ]
      }
     ],
     "prompt_number": 22
    },
    {
     "cell_type": "code",
     "collapsed": false,
     "input": [
      "joe.hello()"
     ],
     "language": "python",
     "metadata": {},
     "outputs": [
      {
       "metadata": {},
       "output_type": "pyout",
       "prompt_number": 23,
       "text": [
        "'Hello, person I already said hello to.'"
       ]
      }
     ],
     "prompt_number": 23
    },
    {
     "cell_type": "code",
     "collapsed": false,
     "input": [
      "# each class has a special method called __init__ that is called when you construct an instance\n",
      "\n",
      "class SimpleClass(object):\n",
      "    def __init__(self, name):\n",
      "        self.name = name\n",
      "    def hello(self):\n",
      "        return 'Hello, %s.' % self.name\n",
      "\n",
      "joe = SimpleClass('Joe')\n",
      "joe.hello()"
     ],
     "language": "python",
     "metadata": {},
     "outputs": [
      {
       "metadata": {},
       "output_type": "pyout",
       "prompt_number": 24,
       "text": [
        "'Hello, Joe.'"
       ]
      }
     ],
     "prompt_number": 24
    },
    {
     "cell_type": "code",
     "collapsed": false,
     "input": [
      "# methods can call each other using \"self\"\n",
      "\n",
      "class SimpleClass(object):\n",
      "    def __init__(self, name):\n",
      "        self.name = name\n",
      "    def hello(self):\n",
      "        return 'Hello, %s.' % self.name\n",
      "    def say_hello(self):\n",
      "        print self.hello()\n",
      "        return 5\n",
      "\n",
      "SimpleClass('Joe').say_hello()"
     ],
     "language": "python",
     "metadata": {},
     "outputs": [
      {
       "output_type": "stream",
       "stream": "stdout",
       "text": [
        "Hello, Joe.\n"
       ]
      },
      {
       "metadata": {},
       "output_type": "pyout",
       "prompt_number": 34,
       "text": [
        "5"
       ]
      }
     ],
     "prompt_number": 34
    },
    {
     "cell_type": "code",
     "collapsed": false,
     "input": [
      "# you can \"subclass\" a class. the subclass will \"inherit\" methods from its \"superclass\"\n",
      "# and you can \"override\" methods.\n",
      "\n",
      "class SimpleSubclass(SimpleClass):\n",
      "    def hello(self):\n",
      "        return 'Oh hai %s.' % self.name\n",
      "\n",
      "SimpleSubclass('Joe').say_hello()"
     ],
     "language": "python",
     "metadata": {},
     "outputs": [
      {
       "output_type": "stream",
       "stream": "stdout",
       "text": [
        "Oh hai Joe.\n"
       ]
      },
      {
       "metadata": {},
       "output_type": "pyout",
       "prompt_number": 35,
       "text": [
        "5"
       ]
      }
     ],
     "prompt_number": 35
    },
    {
     "cell_type": "code",
     "collapsed": false,
     "input": [
      "# be careful when overriding __init__, as the superclass's __init__ is not automatically called\n",
      "\n",
      "class SimpleSubclass(SimpleClass):\n",
      "    def __init__(self, name, greeting):\n",
      "        self.greeting = greeting\n",
      "    def hello(self):\n",
      "        return '%s, %s.' % (self.greeting, self.name)\n",
      "    \n",
      "# this will not work\n",
      "\n",
      "SimpleSubclass('Joe', 'Hi there').say_hello()"
     ],
     "language": "python",
     "metadata": {},
     "outputs": [
      {
       "ename": "AttributeError",
       "evalue": "'SimpleSubclass' object has no attribute 'name'",
       "output_type": "pyerr",
       "traceback": [
        "\u001b[0;31m---------------------------------------------------------------------------\u001b[0m\n\u001b[0;31mAttributeError\u001b[0m                            Traceback (most recent call last)",
        "\u001b[0;32m<ipython-input-36-40c2b7aaf9e3>\u001b[0m in \u001b[0;36m<module>\u001b[0;34m()\u001b[0m\n\u001b[1;32m      9\u001b[0m \u001b[0;31m# this will not work\u001b[0m\u001b[0;34m\u001b[0m\u001b[0;34m\u001b[0m\u001b[0m\n\u001b[1;32m     10\u001b[0m \u001b[0;34m\u001b[0m\u001b[0m\n\u001b[0;32m---> 11\u001b[0;31m \u001b[0mSimpleSubclass\u001b[0m\u001b[0;34m(\u001b[0m\u001b[0;34m'Joe'\u001b[0m\u001b[0;34m,\u001b[0m \u001b[0;34m'Hi there'\u001b[0m\u001b[0;34m)\u001b[0m\u001b[0;34m.\u001b[0m\u001b[0msay_hello\u001b[0m\u001b[0;34m(\u001b[0m\u001b[0;34m)\u001b[0m\u001b[0;34m\u001b[0m\u001b[0m\n\u001b[0m",
        "\u001b[0;32m<ipython-input-34-7865f9e4fe3d>\u001b[0m in \u001b[0;36msay_hello\u001b[0;34m(self)\u001b[0m\n\u001b[1;32m      7\u001b[0m         \u001b[0;32mreturn\u001b[0m \u001b[0;34m'Hello, %s.'\u001b[0m \u001b[0;34m%\u001b[0m \u001b[0mself\u001b[0m\u001b[0;34m.\u001b[0m\u001b[0mname\u001b[0m\u001b[0;34m\u001b[0m\u001b[0m\n\u001b[1;32m      8\u001b[0m     \u001b[0;32mdef\u001b[0m \u001b[0msay_hello\u001b[0m\u001b[0;34m(\u001b[0m\u001b[0mself\u001b[0m\u001b[0;34m)\u001b[0m\u001b[0;34m:\u001b[0m\u001b[0;34m\u001b[0m\u001b[0m\n\u001b[0;32m----> 9\u001b[0;31m         \u001b[0;32mprint\u001b[0m \u001b[0mself\u001b[0m\u001b[0;34m.\u001b[0m\u001b[0mhello\u001b[0m\u001b[0;34m(\u001b[0m\u001b[0;34m)\u001b[0m\u001b[0;34m\u001b[0m\u001b[0m\n\u001b[0m\u001b[1;32m     10\u001b[0m         \u001b[0;32mreturn\u001b[0m \u001b[0;36m5\u001b[0m\u001b[0;34m\u001b[0m\u001b[0m\n\u001b[1;32m     11\u001b[0m \u001b[0;34m\u001b[0m\u001b[0m\n",
        "\u001b[0;32m<ipython-input-36-40c2b7aaf9e3>\u001b[0m in \u001b[0;36mhello\u001b[0;34m(self)\u001b[0m\n\u001b[1;32m      5\u001b[0m         \u001b[0mself\u001b[0m\u001b[0;34m.\u001b[0m\u001b[0mgreeting\u001b[0m \u001b[0;34m=\u001b[0m \u001b[0mgreeting\u001b[0m\u001b[0;34m\u001b[0m\u001b[0m\n\u001b[1;32m      6\u001b[0m     \u001b[0;32mdef\u001b[0m \u001b[0mhello\u001b[0m\u001b[0;34m(\u001b[0m\u001b[0mself\u001b[0m\u001b[0;34m)\u001b[0m\u001b[0;34m:\u001b[0m\u001b[0;34m\u001b[0m\u001b[0m\n\u001b[0;32m----> 7\u001b[0;31m         \u001b[0;32mreturn\u001b[0m \u001b[0;34m'%s, %s.'\u001b[0m \u001b[0;34m%\u001b[0m \u001b[0;34m(\u001b[0m\u001b[0mself\u001b[0m\u001b[0;34m.\u001b[0m\u001b[0mgreeting\u001b[0m\u001b[0;34m,\u001b[0m \u001b[0mself\u001b[0m\u001b[0;34m.\u001b[0m\u001b[0mname\u001b[0m\u001b[0;34m)\u001b[0m\u001b[0;34m\u001b[0m\u001b[0m\n\u001b[0m\u001b[1;32m      8\u001b[0m \u001b[0;34m\u001b[0m\u001b[0m\n\u001b[1;32m      9\u001b[0m \u001b[0;31m# this will not work\u001b[0m\u001b[0;34m\u001b[0m\u001b[0;34m\u001b[0m\u001b[0m\n",
        "\u001b[0;31mAttributeError\u001b[0m: 'SimpleSubclass' object has no attribute 'name'"
       ]
      }
     ],
     "prompt_number": 36
    },
    {
     "cell_type": "code",
     "collapsed": false,
     "input": [
      "# there is a very specific idiom that must be used to call a superclass constructor\n",
      "\n",
      "class SimpleSubclass(SimpleClass):\n",
      "    def __init__(self, name, greeting):\n",
      "        super(SimpleSubclass, self).__init__(name)\n",
      "        self.greeting = greeting\n",
      "    def hello(self):\n",
      "        return '%s, %s.' % (self.greeting, self.name)\n",
      "    \n",
      "SimpleSubclass('Joe', 'Greetings').say_hello()"
     ],
     "language": "python",
     "metadata": {},
     "outputs": [
      {
       "output_type": "stream",
       "stream": "stdout",
       "text": [
        "Greetings, Joe.\n"
       ]
      },
      {
       "metadata": {},
       "output_type": "pyout",
       "prompt_number": 37,
       "text": [
        "5"
       ]
      }
     ],
     "prompt_number": 37
    },
    {
     "cell_type": "code",
     "collapsed": false,
     "input": [
      "# you can also call any other superclass method the same way\n",
      "\n",
      "class SimpleSubclass(SimpleClass):\n",
      "    def __init__(self, name, greeting):\n",
      "        super(SimpleSubclass, self).__init__(name)\n",
      "        self.greeting = greeting\n",
      "    def hello(self):\n",
      "        return '%s, %s.' % (self.greeting, self.name)\n",
      "    def say_hello(self):\n",
      "        super(SimpleSubclass, self).say_hello()\n",
      "        return 7\n",
      "    \n",
      "SimpleSubclass('Joe', 'Greetings').say_hello()"
     ],
     "language": "python",
     "metadata": {},
     "outputs": [
      {
       "output_type": "stream",
       "stream": "stdout",
       "text": [
        "Greetings, Joe.\n"
       ]
      },
      {
       "metadata": {},
       "output_type": "pyout",
       "prompt_number": 20,
       "text": [
        "7"
       ]
      }
     ],
     "prompt_number": 20
    },
    {
     "cell_type": "code",
     "collapsed": false,
     "input": [
      "# remember, once we create a class we can set its properties and call its methods\n",
      "# and it will keep track of its properties as they change\n",
      "\n",
      "o = SimpleSubclass('Joe','Greetings')\n",
      "o.say_hello()"
     ],
     "language": "python",
     "metadata": {},
     "outputs": [
      {
       "output_type": "stream",
       "stream": "stdout",
       "text": [
        "Greetings, Joe.\n"
       ]
      },
      {
       "metadata": {},
       "output_type": "pyout",
       "prompt_number": 26,
       "text": [
        "7"
       ]
      }
     ],
     "prompt_number": 26
    },
    {
     "cell_type": "code",
     "collapsed": false,
     "input": [
      "o.name = 'everyone'\n",
      "o.say_hello()"
     ],
     "language": "python",
     "metadata": {},
     "outputs": [
      {
       "output_type": "stream",
       "stream": "stdout",
       "text": [
        "Greetings, everyone.\n"
       ]
      },
      {
       "metadata": {},
       "output_type": "pyout",
       "prompt_number": 27,
       "text": [
        "7"
       ]
      }
     ],
     "prompt_number": 27
    },
    {
     "cell_type": "code",
     "collapsed": false,
     "input": [
      "o.greeting = 'Howdy'\n",
      "o.say_hello()"
     ],
     "language": "python",
     "metadata": {},
     "outputs": [
      {
       "output_type": "stream",
       "stream": "stdout",
       "text": [
        "Howdy, everyone.\n"
       ]
      },
      {
       "metadata": {},
       "output_type": "pyout",
       "prompt_number": 28,
       "text": [
        "7"
       ]
      }
     ],
     "prompt_number": 28
    },
    {
     "cell_type": "code",
     "collapsed": false,
     "input": [
      "# you can set properties that are never used in any methods and that works too:\n",
      "\n",
      "o.foobar = 3\n",
      "o.say_hello()"
     ],
     "language": "python",
     "metadata": {},
     "outputs": [
      {
       "output_type": "stream",
       "stream": "stdout",
       "text": [
        "Howdy, everyone.\n"
       ]
      },
      {
       "metadata": {},
       "output_type": "pyout",
       "prompt_number": 29,
       "text": [
        "7"
       ]
      }
     ],
     "prompt_number": 29
    },
    {
     "cell_type": "code",
     "collapsed": false,
     "input": [
      "o.foobar"
     ],
     "language": "python",
     "metadata": {},
     "outputs": [
      {
       "metadata": {},
       "output_type": "pyout",
       "prompt_number": 30,
       "text": [
        "3"
       ]
      }
     ],
     "prompt_number": 30
    }
   ],
   "metadata": {}
  }
 ]
}