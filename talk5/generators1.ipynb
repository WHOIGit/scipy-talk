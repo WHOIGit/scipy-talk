{
 "cells": [
  {
   "cell_type": "code",
   "execution_count": 15,
   "id": "3cddccd2",
   "metadata": {
    "collapsed": false
   },
   "outputs": [
    {
     "data": {
      "text/plain": [
       "<generator object <genexpr> at 0x7f90286c89b0>"
      ]
     },
     "execution_count": 15,
     "metadata": {},
     "output_type": "execute_result"
    }
   ],
   "source": [
    "# generators are iterable objects that return successive values on demand\n",
    "# instead of storing them all like a list.\n",
    "\n",
    "# there are two ways to make generators. first, generator comprehensions\n",
    "\n",
    "g = (x for x in range(10))\n",
    "g"
   ]
  },
  {
   "cell_type": "code",
   "execution_count": 18,
   "id": "6904a201",
   "metadata": {
    "collapsed": false
   },
   "outputs": [
    {
     "ename": "StopIteration",
     "evalue": "",
     "output_type": "error",
     "traceback": [
      "\u001b[0;31m---------------------------------------------------------------------------\u001b[0m\n\u001b[0;31mStopIteration\u001b[0m                             Traceback (most recent call last)",
      "\u001b[0;32m<ipython-input-18-d7e53364a9a7>\u001b[0m in \u001b[0;36m<module>\u001b[0;34m()\u001b[0m\n\u001b[0;32m----> 1\u001b[0;31m \u001b[0mg\u001b[0m\u001b[0;34m.\u001b[0m\u001b[0mnext\u001b[0m\u001b[0;34m(\u001b[0m\u001b[0;34m)\u001b[0m\u001b[0;34m\u001b[0m\u001b[0m\n\u001b[0m",
      "\u001b[0;31mStopIteration\u001b[0m: "
     ]
    }
   ],
   "source": [
    "g.next()"
   ]
  },
  {
   "cell_type": "code",
   "execution_count": 19,
   "id": "29dbccb5",
   "metadata": {
    "collapsed": false
   },
   "outputs": [
    {
     "data": {
      "text/plain": [
       "<generator object gen_range at 0x7f90286c8a50>"
      ]
     },
     "execution_count": 19,
     "metadata": {},
     "output_type": "execute_result"
    }
   ],
   "source": [
    "# the second one is using \"yield\" instead of \"return\" in a function\n",
    "\n",
    "def gen_range(n):\n",
    "    for i in range(n):\n",
    "        yield i\n",
    "        \n",
    "g = gen_range(10)\n",
    "g"
   ]
  },
  {
   "cell_type": "code",
   "execution_count": 30,
   "id": "efa01c85",
   "metadata": {
    "collapsed": false
   },
   "outputs": [
    {
     "ename": "StopIteration",
     "evalue": "",
     "output_type": "error",
     "traceback": [
      "\u001b[0;31m---------------------------------------------------------------------------\u001b[0m\n\u001b[0;31mStopIteration\u001b[0m                             Traceback (most recent call last)",
      "\u001b[0;32m<ipython-input-30-d7e53364a9a7>\u001b[0m in \u001b[0;36m<module>\u001b[0;34m()\u001b[0m\n\u001b[0;32m----> 1\u001b[0;31m \u001b[0mg\u001b[0m\u001b[0;34m.\u001b[0m\u001b[0mnext\u001b[0m\u001b[0;34m(\u001b[0m\u001b[0;34m)\u001b[0m\u001b[0;34m\u001b[0m\u001b[0m\n\u001b[0m",
      "\u001b[0;31mStopIteration\u001b[0m: "
     ]
    }
   ],
   "source": [
    "g.next()"
   ]
  },
  {
   "cell_type": "code",
   "execution_count": 27,
   "id": "099b015d",
   "metadata": {
    "collapsed": false
   },
   "outputs": [
    {
     "name": "stdout",
     "output_type": "stream",
     "text": [
      "0\n",
      "1\n"
     ]
    }
   ],
   "source": [
    "# a generator is iterable, but only once after which it is used up\n",
    "\n",
    "g = gen_range(2)\n",
    "\n",
    "for i in g:\n",
    "    print i"
   ]
  },
  {
   "cell_type": "code",
   "execution_count": 28,
   "id": "b57257a5",
   "metadata": {
    "collapsed": false
   },
   "outputs": [],
   "source": [
    "for i in g:\n",
    "    print i"
   ]
  },
  {
   "cell_type": "code",
   "execution_count": 31,
   "id": "f0ae71d7",
   "metadata": {
    "collapsed": false
   },
   "outputs": [
    {
     "name": "stdout",
     "output_type": "stream",
     "text": [
      "-1\n",
      "0\n",
      "1\n",
      "2\n",
      "3\n",
      "-2\n"
     ]
    }
   ],
   "source": [
    "# \"yield\" can occur anywhere in a function\n",
    "\n",
    "def gen_range(n, before=0, after=0):\n",
    "    yield before\n",
    "    for i in range(n):\n",
    "        yield i\n",
    "    yield after\n",
    "    \n",
    "for x in gen_range(4, -1, -2):\n",
    "    print x"
   ]
  },
  {
   "cell_type": "code",
   "execution_count": 32,
   "id": "cab7e755",
   "metadata": {
    "collapsed": false
   },
   "outputs": [
    {
     "data": {
      "text/plain": [
       "[0, 0, 1, 2, 3, 4, 0]"
      ]
     },
     "execution_count": 32,
     "metadata": {},
     "output_type": "execute_result"
    }
   ],
   "source": [
    "# if you want to store everything that a generator generates, use \"list\" or \"tuple\"\n",
    "\n",
    "list(gen_range(5))"
   ]
  },
  {
   "cell_type": "code",
   "execution_count": 33,
   "id": "511fd2f2",
   "metadata": {
    "collapsed": false
   },
   "outputs": [
    {
     "data": {
      "text/plain": [
       "(0, 0, 1, 2, 3, 4, 0)"
      ]
     },
     "execution_count": 33,
     "metadata": {},
     "output_type": "execute_result"
    }
   ],
   "source": [
    "tuple(gen_range(5))"
   ]
  },
  {
   "cell_type": "code",
   "execution_count": 34,
   "id": "b6f60db2",
   "metadata": {
    "collapsed": false
   },
   "outputs": [
    {
     "ename": "TypeError",
     "evalue": "'generator' object has no attribute '__getitem__'",
     "output_type": "error",
     "traceback": [
      "\u001b[0;31m---------------------------------------------------------------------------\u001b[0m\n\u001b[0;31mTypeError\u001b[0m                                 Traceback (most recent call last)",
      "\u001b[0;32m<ipython-input-34-a051550d1656>\u001b[0m in \u001b[0;36m<module>\u001b[0;34m()\u001b[0m\n\u001b[1;32m      1\u001b[0m \u001b[0;31m# indexing does not work on generators\u001b[0m\u001b[0;34m\u001b[0m\u001b[0;34m\u001b[0m\u001b[0m\n\u001b[1;32m      2\u001b[0m \u001b[0;34m\u001b[0m\u001b[0m\n\u001b[0;32m----> 3\u001b[0;31m \u001b[0mgen_range\u001b[0m\u001b[0;34m(\u001b[0m\u001b[0;36m5\u001b[0m\u001b[0;34m)\u001b[0m\u001b[0;34m[\u001b[0m\u001b[0;36m0\u001b[0m\u001b[0;34m]\u001b[0m\u001b[0;34m\u001b[0m\u001b[0m\n\u001b[0m",
      "\u001b[0;31mTypeError\u001b[0m: 'generator' object has no attribute '__getitem__'"
     ]
    }
   ],
   "source": [
    "# indexing does not work on generators\n",
    "\n",
    "gen_range(5)[0]"
   ]
  },
  {
   "cell_type": "code",
   "execution_count": 42,
   "id": "adcfe311",
   "metadata": {
    "collapsed": false
   },
   "outputs": [
    {
     "data": {
      "text/plain": [
       "False"
      ]
     },
     "execution_count": 42,
     "metadata": {},
     "output_type": "execute_result"
    }
   ],
   "source": [
    "# but \"in\" does\n",
    "g = gen_range(5)\n",
    "75 in g"
   ]
  },
  {
   "cell_type": "code",
   "execution_count": 134,
   "id": "bfd66a19",
   "metadata": {
    "collapsed": false
   },
   "outputs": [
    {
     "data": {
      "text/plain": [
       "<generator object count_forever at 0x7f90286c8be0>"
      ]
     },
     "execution_count": 134,
     "metadata": {},
     "output_type": "execute_result"
    }
   ],
   "source": [
    "# generators can run forever, so be very careful about converting them to lists or tuples;\n",
    "# that will cause an infinite loop and your program will freeze\n",
    "\n",
    "def count_forever():\n",
    "    n = 0\n",
    "    while True:\n",
    "        yield n\n",
    "        n = n + 1\n",
    "        if n == 8:\n",
    "            return\n",
    "        \n",
    "g = count_forever()\n",
    "g"
   ]
  },
  {
   "cell_type": "code",
   "execution_count": 144,
   "id": "3edafe48",
   "metadata": {
    "collapsed": false
   },
   "outputs": [
    {
     "ename": "StopIteration",
     "evalue": "",
     "output_type": "error",
     "traceback": [
      "\u001b[0;31m---------------------------------------------------------------------------\u001b[0m\n\u001b[0;31mStopIteration\u001b[0m                             Traceback (most recent call last)",
      "\u001b[0;32m<ipython-input-144-d7e53364a9a7>\u001b[0m in \u001b[0;36m<module>\u001b[0;34m()\u001b[0m\n\u001b[0;32m----> 1\u001b[0;31m \u001b[0mg\u001b[0m\u001b[0;34m.\u001b[0m\u001b[0mnext\u001b[0m\u001b[0;34m(\u001b[0m\u001b[0;34m)\u001b[0m\u001b[0;34m\u001b[0m\u001b[0m\n\u001b[0m",
      "\u001b[0;31mStopIteration\u001b[0m: "
     ]
    }
   ],
   "source": [
    "g.next()"
   ]
  }
 ],
 "metadata": {},
 "nbformat": 4,
 "nbformat_minor": 5
}
