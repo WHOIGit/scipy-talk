{
 "cells": [
  {
   "cell_type": "code",
   "execution_count": 1,
   "id": "610630c0",
   "metadata": {
    "collapsed": false
   },
   "outputs": [
    {
     "ename": "ZeroDivisionError",
     "evalue": "integer division or modulo by zero",
     "output_type": "error",
     "traceback": [
      "\u001b[0;31m---------------------------------------------------------------------------\u001b[0m\n\u001b[0;31mZeroDivisionError\u001b[0m                         Traceback (most recent call last)",
      "\u001b[0;32m<ipython-input-1-d4f1fd7bd966>\u001b[0m in \u001b[0;36m<module>\u001b[0;34m()\u001b[0m\n\u001b[1;32m      7\u001b[0m \u001b[0;31m# For example:\u001b[0m\u001b[0;34m\u001b[0m\u001b[0;34m\u001b[0m\u001b[0m\n\u001b[1;32m      8\u001b[0m \u001b[0;34m\u001b[0m\u001b[0m\n\u001b[0;32m----> 9\u001b[0;31m \u001b[0;36m23\u001b[0m \u001b[0;34m/\u001b[0m \u001b[0;36m0\u001b[0m\u001b[0;34m\u001b[0m\u001b[0m\n\u001b[0m",
      "\u001b[0;31mZeroDivisionError\u001b[0m: integer division or modulo by zero"
     ]
    }
   ],
   "source": [
    "# exceptions are used to indicate that an error has occurred\n",
    "# that prevents proceeding further\n",
    "\n",
    "# Python defines exceptions for a number of typical cases.\n",
    "# When those cases, the exception is \"raised\"\n",
    "\n",
    "# For example:\n",
    "\n",
    "23 / 0"
   ]
  },
  {
   "cell_type": "code",
   "execution_count": 2,
   "id": "f6d55462",
   "metadata": {
    "collapsed": false
   },
   "outputs": [
    {
     "ename": "KeyError",
     "evalue": "'enormous'",
     "output_type": "error",
     "traceback": [
      "\u001b[0;31m---------------------------------------------------------------------------\u001b[0m\n\u001b[0;31mKeyError\u001b[0m                                  Traceback (most recent call last)",
      "\u001b[0;32m<ipython-input-2-bb0c19ec605c>\u001b[0m in \u001b[0;36m<module>\u001b[0;34m()\u001b[0m\n\u001b[1;32m      5\u001b[0m }\n\u001b[1;32m      6\u001b[0m \u001b[0;34m\u001b[0m\u001b[0m\n\u001b[0;32m----> 7\u001b[0;31m \u001b[0mbig_numbers\u001b[0m\u001b[0;34m[\u001b[0m\u001b[0;34m'enormous'\u001b[0m\u001b[0;34m]\u001b[0m\u001b[0;34m\u001b[0m\u001b[0m\n\u001b[0m",
      "\u001b[0;31mKeyError\u001b[0m: 'enormous'"
     ]
    }
   ],
   "source": [
    "big_numbers = {\n",
    "    'big': 100,\n",
    "    'huge': 1000000,\n",
    "    'vast': 1000000000000\n",
    "}\n",
    "\n",
    "big_numbers['enormous']"
   ]
  },
  {
   "cell_type": "code",
   "execution_count": null,
   "id": "11254811",
   "metadata": {
    "collapsed": false
   },
   "outputs": [],
   "source": [
    "# \"ZeroDivisionError\" and \"KeyError\" are classes of exceptions."
   ]
  },
  {
   "cell_type": "code",
   "execution_count": 3,
   "id": "a1c9c6cb",
   "metadata": {
    "collapsed": false
   },
   "outputs": [
    {
     "name": "stdout",
     "output_type": "stream",
     "text": [
      "Doing something\n"
     ]
    }
   ],
   "source": [
    "# Sometimes you want to proceed even after an exception has been raised.\n",
    "# In this case you can protect a block of code from halting on an exception\n",
    "# using this syntax\n",
    "\n",
    "try:\n",
    "    print 'Doing something'\n",
    "except:\n",
    "    print 'There was a problem'"
   ]
  },
  {
   "cell_type": "code",
   "execution_count": 5,
   "id": "4c95bc39",
   "metadata": {
    "collapsed": false
   },
   "outputs": [
    {
     "name": "stdout",
     "output_type": "stream",
     "text": [
      "Warning: dividing by zero\n"
     ]
    },
    {
     "data": {
      "text/plain": [
       "99999999"
      ]
     },
     "execution_count": 5,
     "metadata": {},
     "output_type": "execute_result"
    }
   ],
   "source": [
    "try:\n",
    "    value = 23 / 0\n",
    "    print 'We did it!!!!'\n",
    "except:\n",
    "    print 'Warning: dividing by zero'\n",
    "    value = 99999999\n",
    "    \n",
    "value"
   ]
  },
  {
   "cell_type": "code",
   "execution_count": 6,
   "id": "cbfd5807",
   "metadata": {
    "collapsed": false
   },
   "outputs": [
    {
     "ename": "ZeroDivisionError",
     "evalue": "integer division or modulo by zero",
     "output_type": "error",
     "traceback": [
      "\u001b[0;31m---------------------------------------------------------------------------\u001b[0m\n\u001b[0;31mZeroDivisionError\u001b[0m                         Traceback (most recent call last)",
      "\u001b[0;32m<ipython-input-6-4d99884566b4>\u001b[0m in \u001b[0;36m<module>\u001b[0;34m()\u001b[0m\n\u001b[1;32m      6\u001b[0m     \u001b[0;32mreturn\u001b[0m \u001b[0mnumber\u001b[0m \u001b[0;34m/\u001b[0m \u001b[0;36m0\u001b[0m\u001b[0;34m\u001b[0m\u001b[0m\n\u001b[1;32m      7\u001b[0m \u001b[0;34m\u001b[0m\u001b[0m\n\u001b[0;32m----> 8\u001b[0;31m \u001b[0mdivide_by_zero\u001b[0m\u001b[0;34m(\u001b[0m\u001b[0;36m3\u001b[0m\u001b[0;34m)\u001b[0m\u001b[0;34m\u001b[0m\u001b[0m\n\u001b[0m",
      "\u001b[0;32m<ipython-input-6-4d99884566b4>\u001b[0m in \u001b[0;36mdivide_by_zero\u001b[0;34m(number)\u001b[0m\n\u001b[1;32m      4\u001b[0m \u001b[0;34m\u001b[0m\u001b[0m\n\u001b[1;32m      5\u001b[0m \u001b[0;32mdef\u001b[0m \u001b[0mdivide_by_zero\u001b[0m\u001b[0;34m(\u001b[0m\u001b[0mnumber\u001b[0m\u001b[0;34m)\u001b[0m\u001b[0;34m:\u001b[0m\u001b[0;34m\u001b[0m\u001b[0m\n\u001b[0;32m----> 6\u001b[0;31m     \u001b[0;32mreturn\u001b[0m \u001b[0mnumber\u001b[0m \u001b[0;34m/\u001b[0m \u001b[0;36m0\u001b[0m\u001b[0;34m\u001b[0m\u001b[0m\n\u001b[0m\u001b[1;32m      7\u001b[0m \u001b[0;34m\u001b[0m\u001b[0m\n\u001b[1;32m      8\u001b[0m \u001b[0mdivide_by_zero\u001b[0m\u001b[0;34m(\u001b[0m\u001b[0;36m3\u001b[0m\u001b[0;34m)\u001b[0m\u001b[0;34m\u001b[0m\u001b[0m\n",
      "\u001b[0;31mZeroDivisionError\u001b[0m: integer division or modulo by zero"
     ]
    }
   ],
   "source": [
    "# If an exception is raised in a function, the exception will propagate\n",
    "# up the calling stack until there is an except clause to handle it, or\n",
    "# it gets to the top of the stack, in which case the program will terminate.\n",
    "\n",
    "def divide_by_zero(number):\n",
    "    return number / 0\n",
    "\n",
    "divide_by_zero(3)"
   ]
  },
  {
   "cell_type": "code",
   "execution_count": 18,
   "id": "7d60ad6d",
   "metadata": {
    "collapsed": false
   },
   "outputs": [
    {
     "name": "stdout",
     "output_type": "stream",
     "text": [
      "Warning: dividing by zero\n"
     ]
    },
    {
     "data": {
      "text/plain": [
       "99999999"
      ]
     },
     "execution_count": 18,
     "metadata": {},
     "output_type": "execute_result"
    }
   ],
   "source": [
    "try:\n",
    "    value = divide_by_zero(23)\n",
    "except:\n",
    "    print 'Warning: dividing by zero'\n",
    "    value = 99999999\n",
    "\n",
    "value"
   ]
  },
  {
   "cell_type": "code",
   "execution_count": 26,
   "id": "e369c272",
   "metadata": {
    "collapsed": false
   },
   "outputs": [
    {
     "data": {
      "text/plain": [
       "99999999"
      ]
     },
     "execution_count": 26,
     "metadata": {},
     "output_type": "execute_result"
    }
   ],
   "source": [
    "def safe_divide_by_zero(number):\n",
    "    try:\n",
    "        return number / 0\n",
    "    except:\n",
    "        return 99999999\n",
    "\n",
    "try:\n",
    "    value = safe_divide_by_zero(23)\n",
    "except:\n",
    "    print 'Warning: dividing by zero'\n",
    "    value = -1\n",
    "    \n",
    "value"
   ]
  },
  {
   "cell_type": "code",
   "execution_count": 7,
   "id": "2638f82d",
   "metadata": {
    "collapsed": false
   },
   "outputs": [
    {
     "ename": "ZeroDivisionError",
     "evalue": "integer division or modulo by zero",
     "output_type": "error",
     "traceback": [
      "\u001b[0;31m---------------------------------------------------------------------------\u001b[0m\n\u001b[0;31mZeroDivisionError\u001b[0m                         Traceback (most recent call last)",
      "\u001b[0;32m<ipython-input-7-c94c4beb0961>\u001b[0m in \u001b[0;36m<module>\u001b[0;34m()\u001b[0m\n\u001b[1;32m     16\u001b[0m     \u001b[0;32mreturn\u001b[0m \u001b[0mvalue\u001b[0m\u001b[0;34m,\u001b[0m \u001b[0mstep4\u001b[0m\u001b[0;34m\u001b[0m\u001b[0m\n\u001b[1;32m     17\u001b[0m \u001b[0;34m\u001b[0m\u001b[0m\n\u001b[0;32m---> 18\u001b[0;31m \u001b[0mmisbehave\u001b[0m\u001b[0;34m(\u001b[0m\u001b[0;34m)\u001b[0m\u001b[0;34m\u001b[0m\u001b[0m\n\u001b[0m\u001b[1;32m     19\u001b[0m \u001b[0;32mprint\u001b[0m \u001b[0;34m'Successfully misbehaved'\u001b[0m\u001b[0;34m\u001b[0m\u001b[0m\n",
      "\u001b[0;32m<ipython-input-7-c94c4beb0961>\u001b[0m in \u001b[0;36mmisbehave\u001b[0;34m()\u001b[0m\n\u001b[1;32m     12\u001b[0m \u001b[0;34m\u001b[0m\u001b[0m\n\u001b[1;32m     13\u001b[0m \u001b[0;32mdef\u001b[0m \u001b[0mmisbehave\u001b[0m\u001b[0;34m(\u001b[0m\u001b[0;34m)\u001b[0m\u001b[0;34m:\u001b[0m\u001b[0;34m\u001b[0m\u001b[0m\n\u001b[0;32m---> 14\u001b[0;31m     \u001b[0mvalue\u001b[0m \u001b[0;34m=\u001b[0m \u001b[0;36m23\u001b[0m \u001b[0;34m/\u001b[0m \u001b[0;36m0\u001b[0m\u001b[0;34m\u001b[0m\u001b[0m\n\u001b[0m\u001b[1;32m     15\u001b[0m     \u001b[0mstep4\u001b[0m \u001b[0;34m=\u001b[0m \u001b[0md\u001b[0m\u001b[0;34m[\u001b[0m\u001b[0;34m'step 4'\u001b[0m\u001b[0;34m]\u001b[0m\u001b[0;34m\u001b[0m\u001b[0m\n\u001b[1;32m     16\u001b[0m     \u001b[0;32mreturn\u001b[0m \u001b[0mvalue\u001b[0m\u001b[0;34m,\u001b[0m \u001b[0mstep4\u001b[0m\u001b[0;34m\u001b[0m\u001b[0m\n",
      "\u001b[0;31mZeroDivisionError\u001b[0m: integer division or modulo by zero"
     ]
    }
   ],
   "source": [
    "# you can have more than one \"except\" block and you can specify which\n",
    "# class of exception each one handles. Whichever one is raised first\n",
    "# will execute the appropriate except block. An except block that does\n",
    "# not specify a class of exception (as seen above) will handle any class\n",
    "# of exception\n",
    "\n",
    "d = {\n",
    "    'step 1': 'Learn Python',\n",
    "    'step 2': 'Write some code',\n",
    "    'step 3': 'Profit!'\n",
    "}\n",
    "\n",
    "def misbehave():\n",
    "    value = 23 / 0\n",
    "    step4 = d['step 4']\n",
    "    return value, step4\n",
    "\n",
    "misbehave()\n",
    "print 'Successfully misbehaved'"
   ]
  },
  {
   "cell_type": "code",
   "execution_count": 24,
   "id": "9fc70ef4",
   "metadata": {
    "collapsed": false
   },
   "outputs": [
    {
     "name": "stdout",
     "output_type": "stream",
     "text": [
      "Divided by zero\n",
      "Successfully misbehaved\n"
     ]
    }
   ],
   "source": [
    "try:\n",
    "    misbehave()\n",
    "except ZeroDivisionError:\n",
    "    print 'Divided by zero'\n",
    "\n",
    "print 'Successfully misbehaved'"
   ]
  },
  {
   "cell_type": "code",
   "execution_count": 25,
   "id": "2a6fb121",
   "metadata": {
    "collapsed": false
   },
   "outputs": [
    {
     "ename": "KeyError",
     "evalue": "'step 4'",
     "output_type": "error",
     "traceback": [
      "\u001b[0;31m---------------------------------------------------------------------------\u001b[0m\n\u001b[0;31mKeyError\u001b[0m                                  Traceback (most recent call last)",
      "\u001b[0;32m<ipython-input-25-bb09075630b6>\u001b[0m in \u001b[0;36m<module>\u001b[0;34m()\u001b[0m\n\u001b[1;32m      5\u001b[0m \u001b[0;34m\u001b[0m\u001b[0m\n\u001b[1;32m      6\u001b[0m \u001b[0;32mtry\u001b[0m\u001b[0;34m:\u001b[0m\u001b[0;34m\u001b[0m\u001b[0m\n\u001b[0;32m----> 7\u001b[0;31m     \u001b[0mmisbehave2\u001b[0m\u001b[0;34m(\u001b[0m\u001b[0;34m)\u001b[0m\u001b[0;34m\u001b[0m\u001b[0m\n\u001b[0m\u001b[1;32m      8\u001b[0m \u001b[0;32mexcept\u001b[0m \u001b[0mZeroDivisionError\u001b[0m\u001b[0;34m:\u001b[0m\u001b[0;34m\u001b[0m\u001b[0m\n\u001b[1;32m      9\u001b[0m     \u001b[0;32mprint\u001b[0m \u001b[0;34m'Divided by zero'\u001b[0m\u001b[0;34m\u001b[0m\u001b[0m\n",
      "\u001b[0;32m<ipython-input-25-bb09075630b6>\u001b[0m in \u001b[0;36mmisbehave2\u001b[0;34m()\u001b[0m\n\u001b[1;32m      1\u001b[0m \u001b[0;32mdef\u001b[0m \u001b[0mmisbehave2\u001b[0m\u001b[0;34m(\u001b[0m\u001b[0;34m)\u001b[0m\u001b[0;34m:\u001b[0m\u001b[0;34m\u001b[0m\u001b[0m\n\u001b[0;32m----> 2\u001b[0;31m     \u001b[0mstep4\u001b[0m \u001b[0;34m=\u001b[0m \u001b[0md\u001b[0m\u001b[0;34m[\u001b[0m\u001b[0;34m'step 4'\u001b[0m\u001b[0;34m]\u001b[0m\u001b[0;34m\u001b[0m\u001b[0m\n\u001b[0m\u001b[1;32m      3\u001b[0m     \u001b[0mvalue\u001b[0m \u001b[0;34m=\u001b[0m \u001b[0;36m23\u001b[0m \u001b[0;34m/\u001b[0m \u001b[0;36m0\u001b[0m\u001b[0;34m\u001b[0m\u001b[0m\n\u001b[1;32m      4\u001b[0m     \u001b[0;32mreturn\u001b[0m \u001b[0mvalue\u001b[0m\u001b[0;34m,\u001b[0m \u001b[0mstep4\u001b[0m\u001b[0;34m\u001b[0m\u001b[0m\n\u001b[1;32m      5\u001b[0m \u001b[0;34m\u001b[0m\u001b[0m\n",
      "\u001b[0;31mKeyError\u001b[0m: 'step 4'"
     ]
    }
   ],
   "source": [
    "def misbehave2():\n",
    "    step4 = d['step 4']\n",
    "    value = 23 / 0\n",
    "    return value, step4\n",
    "\n",
    "try:\n",
    "    misbehave2()\n",
    "except ZeroDivisionError:\n",
    "    print 'Divided by zero'\n",
    "\n",
    "print 'Successfully misbehaved'"
   ]
  },
  {
   "cell_type": "code",
   "execution_count": 9,
   "id": "8dfa7d87",
   "metadata": {
    "collapsed": false
   },
   "outputs": [
    {
     "name": "stdout",
     "output_type": "stream",
     "text": [
      "4 Profit!\n"
     ]
    }
   ],
   "source": [
    "def misbehave3(numerator, denominator, key):\n",
    "    value = numerator / denominator\n",
    "    step = d[key]\n",
    "    return value, step\n",
    "\n",
    "try:\n",
    "    value, step = misbehave3(23, 5, 'step 3')\n",
    "    print value, step\n",
    "except ZeroDivisionError:\n",
    "    print 'Divided by zero'\n",
    "except KeyError:\n",
    "    print 'Missing key'"
   ]
  },
  {
   "cell_type": "code",
   "execution_count": 10,
   "id": "875bd8fd",
   "metadata": {
    "collapsed": false
   },
   "outputs": [
    {
     "name": "stdout",
     "output_type": "stream",
     "text": [
      "Divided by zero\n"
     ]
    }
   ],
   "source": [
    "try:\n",
    "    value, step = misbehave3(23, 0, 'step 3')\n",
    "    print value, step\n",
    "except ZeroDivisionError:\n",
    "    print 'Divided by zero'\n",
    "except KeyError:\n",
    "    print 'Missing key'"
   ]
  },
  {
   "cell_type": "code",
   "execution_count": 12,
   "id": "8db56658",
   "metadata": {
    "collapsed": false
   },
   "outputs": [
    {
     "name": "stdout",
     "output_type": "stream",
     "text": [
      "Divided by zero\n"
     ]
    }
   ],
   "source": [
    "try:\n",
    "    value, step = misbehave3(23, 0, 'step 4')\n",
    "    print value, step\n",
    "except KeyError:\n",
    "    print 'Missing key'\n",
    "except ZeroDivisionError:\n",
    "    print 'Divided by zero'"
   ]
  },
  {
   "cell_type": "code",
   "execution_count": 36,
   "id": "0c3677a2",
   "metadata": {
    "collapsed": false
   },
   "outputs": [
    {
     "ename": "ZeroDivisionError",
     "evalue": "Just raising this because I can",
     "output_type": "error",
     "traceback": [
      "\u001b[0;31m---------------------------------------------------------------------------\u001b[0m\n\u001b[0;31mZeroDivisionError\u001b[0m                         Traceback (most recent call last)",
      "\u001b[0;32m<ipython-input-36-debf23fc876c>\u001b[0m in \u001b[0;36m<module>\u001b[0;34m()\u001b[0m\n\u001b[1;32m      4\u001b[0m \u001b[0;34m\u001b[0m\u001b[0m\n\u001b[1;32m      5\u001b[0m \u001b[0mvalue\u001b[0m \u001b[0;34m=\u001b[0m \u001b[0;36m25\u001b[0m \u001b[0;34m/\u001b[0m \u001b[0;36m5\u001b[0m\u001b[0;34m\u001b[0m\u001b[0m\n\u001b[0;32m----> 6\u001b[0;31m \u001b[0;32mraise\u001b[0m \u001b[0mZeroDivisionError\u001b[0m\u001b[0;34m(\u001b[0m\u001b[0;34m'Just raising this because I can'\u001b[0m\u001b[0;34m)\u001b[0m\u001b[0;34m\u001b[0m\u001b[0m\n\u001b[0m",
      "\u001b[0;31mZeroDivisionError\u001b[0m: Just raising this because I can"
     ]
    }
   ],
   "source": [
    "# you can raise exceptions yourself. they don't have to be \"true\"\n",
    "# and you can give a message that will be accessible when the exception\n",
    "# is handled or it causes the program to terminate\n",
    "\n",
    "value = 25 / 5\n",
    "raise ZeroDivisionError('Just raising this because I can')"
   ]
  },
  {
   "cell_type": "code",
   "execution_count": 14,
   "id": "1874d720",
   "metadata": {
    "collapsed": false
   },
   "outputs": [
    {
     "name": "stdout",
     "output_type": "stream",
     "text": [
      "Got zero division error\n"
     ]
    },
    {
     "ename": "ZeroDivisionError",
     "evalue": "integer division or modulo by zero",
     "output_type": "error",
     "traceback": [
      "\u001b[0;31m---------------------------------------------------------------------------\u001b[0m\n\u001b[0;31mZeroDivisionError\u001b[0m                         Traceback (most recent call last)",
      "\u001b[0;32m<ipython-input-14-63ba4a454f37>\u001b[0m in \u001b[0;36m<module>\u001b[0;34m()\u001b[0m\n\u001b[1;32m      1\u001b[0m \u001b[0;32mtry\u001b[0m\u001b[0;34m:\u001b[0m\u001b[0;34m\u001b[0m\u001b[0m\n\u001b[0;32m----> 2\u001b[0;31m     \u001b[0mvalue\u001b[0m \u001b[0;34m=\u001b[0m \u001b[0;36m25\u001b[0m \u001b[0;34m/\u001b[0m \u001b[0;36m0\u001b[0m\u001b[0;34m\u001b[0m\u001b[0m\n\u001b[0m\u001b[1;32m      3\u001b[0m \u001b[0;32mexcept\u001b[0m \u001b[0mZeroDivisionError\u001b[0m\u001b[0;34m:\u001b[0m\u001b[0;34m\u001b[0m\u001b[0m\n\u001b[1;32m      4\u001b[0m     \u001b[0;32mprint\u001b[0m \u001b[0;34m'Got zero division error'\u001b[0m\u001b[0;34m\u001b[0m\u001b[0m\n\u001b[1;32m      5\u001b[0m     \u001b[0;32mraise\u001b[0m\u001b[0;34m\u001b[0m\u001b[0m\n",
      "\u001b[0;31mZeroDivisionError\u001b[0m: integer division or modulo by zero"
     ]
    }
   ],
   "source": [
    "# after handling an exception, you can re-raise it and it will continue\n",
    "# propagating up the stack\n",
    "\n",
    "try:\n",
    "    value = 25 / 0\n",
    "except ZeroDivisionError:\n",
    "    print 'Got zero division error'\n",
    "    raise"
   ]
  }
 ],
 "metadata": {},
 "nbformat": 4,
 "nbformat_minor": 5
}
