{
 "metadata": {
  "name": "",
  "signature": "sha256:e0a2a49449456f87b559b5240b1628eb9c9330b0093a57cd05e6e73a4da0459f"
 },
 "nbformat": 3,
 "nbformat_minor": 0,
 "worksheets": [
  {
   "cells": [
    {
     "cell_type": "code",
     "collapsed": false,
     "input": [
      "# a function can call itself.\n",
      "\n",
      "seq = range(10)\n",
      "seq"
     ],
     "language": "python",
     "metadata": {},
     "outputs": [
      {
       "metadata": {},
       "output_type": "pyout",
       "prompt_number": 1,
       "text": [
        "[0, 1, 2, 3, 4, 5, 6, 7, 8, 9]"
       ]
      }
     ],
     "prompt_number": 1
    },
    {
     "cell_type": "code",
     "collapsed": false,
     "input": [
      "s = 0\n",
      "for i in seq:\n",
      "    s += i\n",
      "s"
     ],
     "language": "python",
     "metadata": {},
     "outputs": [
      {
       "metadata": {},
       "output_type": "pyout",
       "prompt_number": 2,
       "text": [
        "45"
       ]
      }
     ],
     "prompt_number": 2
    },
    {
     "cell_type": "code",
     "collapsed": false,
     "input": [
      "def seq_sum(seq):\n",
      "    if not seq:\n",
      "        return 0\n",
      "    else:\n",
      "        return seq[0] + seq_sum(seq[1:])\n",
      "    \n",
      "seq_sum(seq)"
     ],
     "language": "python",
     "metadata": {},
     "outputs": [
      {
       "metadata": {},
       "output_type": "pyout",
       "prompt_number": 3,
       "text": [
        "45"
       ]
      }
     ],
     "prompt_number": 3
    },
    {
     "cell_type": "code",
     "collapsed": false,
     "input": [
      "def seq_sum(seq):\n",
      "    print 'In seq_sum with %s' % str(seq)\n",
      "    if not seq:\n",
      "        print 'Exiting seq_sum with 0'\n",
      "        return 0\n",
      "    else:\n",
      "        print 'First element of seq is %g' % seq[0]\n",
      "        print 'Calling seq_sum with %s' % str(seq[1:])\n",
      "        ss = seq_sum(seq[1:])\n",
      "        print 'Returned from seq_sum of %s, got %g' % (str(seq[1:]), ss)\n",
      "        result = seq[0] + ss\n",
      "        print 'Adding %g to %g gives %g' % (seq[0], ss, result)\n",
      "        print 'Returning %g from seq_sum' % result\n",
      "        return result\n",
      "\n",
      "seq = [1, 2]\n",
      "seq_sum(seq)"
     ],
     "language": "python",
     "metadata": {},
     "outputs": [
      {
       "output_type": "stream",
       "stream": "stdout",
       "text": [
        "In seq_sum with [1, 2]\n",
        "First element of seq is 1\n",
        "Calling seq_sum with [2]\n",
        "In seq_sum with [2]\n",
        "First element of seq is 2\n",
        "Calling seq_sum with []\n",
        "In seq_sum with []\n",
        "Exiting seq_sum with 0\n",
        "Returned from seq_sum of [], got 0\n",
        "Adding 2 to 0 gives 2\n",
        "Returning 2 from seq_sum\n",
        "Returned from seq_sum of [2], got 2\n",
        "Adding 1 to 2 gives 3\n",
        "Returning 3 from seq_sum\n"
       ]
      },
      {
       "metadata": {},
       "output_type": "pyout",
       "prompt_number": 7,
       "text": [
        "3"
       ]
      }
     ],
     "prompt_number": 7
    }
   ],
   "metadata": {}
  }
 ]
}