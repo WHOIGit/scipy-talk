{
 "cells": [
  {
   "cell_type": "code",
   "execution_count": 1,
   "id": "36c42a2a",
   "metadata": {
    "collapsed": false
   },
   "outputs": [
    {
     "data": {
      "text/plain": [
       "[0, 1, 2, 3, 4, 5, 6, 7, 8, 9]"
      ]
     },
     "execution_count": 1,
     "metadata": {},
     "output_type": "execute_result"
    }
   ],
   "source": [
    "# a function can call itself.\n",
    "\n",
    "seq = range(10)\n",
    "seq"
   ]
  },
  {
   "cell_type": "code",
   "execution_count": 2,
   "id": "129cb556",
   "metadata": {
    "collapsed": false
   },
   "outputs": [
    {
     "data": {
      "text/plain": [
       "45"
      ]
     },
     "execution_count": 2,
     "metadata": {},
     "output_type": "execute_result"
    }
   ],
   "source": [
    "s = 0\n",
    "for i in seq:\n",
    "    s += i\n",
    "s"
   ]
  },
  {
   "cell_type": "code",
   "execution_count": 3,
   "id": "21021488",
   "metadata": {
    "collapsed": false
   },
   "outputs": [
    {
     "data": {
      "text/plain": [
       "45"
      ]
     },
     "execution_count": 3,
     "metadata": {},
     "output_type": "execute_result"
    }
   ],
   "source": [
    "def seq_sum(seq):\n",
    "    if not seq:\n",
    "        return 0\n",
    "    else:\n",
    "        return seq[0] + seq_sum(seq[1:])\n",
    "    \n",
    "seq_sum(seq)"
   ]
  },
  {
   "cell_type": "code",
   "execution_count": 7,
   "id": "3120cd43",
   "metadata": {
    "collapsed": false
   },
   "outputs": [
    {
     "name": "stdout",
     "output_type": "stream",
     "text": [
      "In seq_sum with [1, 2]\n",
      "First element of seq is 1\n",
      "Calling seq_sum with [2]\n",
      "In seq_sum with [2]\n",
      "First element of seq is 2\n",
      "Calling seq_sum with []\n",
      "In seq_sum with []\n",
      "Exiting seq_sum with 0\n",
      "Returned from seq_sum of [], got 0\n",
      "Adding 2 to 0 gives 2\n",
      "Returning 2 from seq_sum\n",
      "Returned from seq_sum of [2], got 2\n",
      "Adding 1 to 2 gives 3\n",
      "Returning 3 from seq_sum\n"
     ]
    },
    {
     "data": {
      "text/plain": [
       "3"
      ]
     },
     "execution_count": 7,
     "metadata": {},
     "output_type": "execute_result"
    }
   ],
   "source": [
    "def seq_sum(seq):\n",
    "    print 'In seq_sum with %s' % str(seq)\n",
    "    if not seq:\n",
    "        print 'Exiting seq_sum with 0'\n",
    "        return 0\n",
    "    else:\n",
    "        print 'First element of seq is %g' % seq[0]\n",
    "        print 'Calling seq_sum with %s' % str(seq[1:])\n",
    "        ss = seq_sum(seq[1:])\n",
    "        print 'Returned from seq_sum of %s, got %g' % (str(seq[1:]), ss)\n",
    "        result = seq[0] + ss\n",
    "        print 'Adding %g to %g gives %g' % (seq[0], ss, result)\n",
    "        print 'Returning %g from seq_sum' % result\n",
    "        return result\n",
    "\n",
    "seq = [1, 2]\n",
    "seq_sum(seq)"
   ]
  }
 ],
 "metadata": {},
 "nbformat": 4,
 "nbformat_minor": 5
}
