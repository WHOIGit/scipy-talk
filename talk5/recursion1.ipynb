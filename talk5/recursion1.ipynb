{
 "metadata": {
  "name": "",
  "signature": "sha256:a203ce1ca599487e4d77706a717b011f8c78e08489f028b3ad557dd5c96ed031"
 },
 "nbformat": 3,
 "nbformat_minor": 0,
 "worksheets": [
  {
   "cells": [
    {
     "cell_type": "code",
     "collapsed": false,
     "input": [
      "# a function can call itself.\n",
      "\n",
      "seq = range(10)\n",
      "seq"
     ],
     "language": "python",
     "metadata": {},
     "outputs": [
      {
       "metadata": {},
       "output_type": "pyout",
       "prompt_number": 6,
       "text": [
        "[0, 1, 2, 3, 4, 5, 6, 7, 8, 9]"
       ]
      }
     ],
     "prompt_number": 6
    },
    {
     "cell_type": "code",
     "collapsed": false,
     "input": [
      "def seq_sum(seq):\n",
      "    if not seq:\n",
      "        return 0\n",
      "    else:\n",
      "        return seq[0] + seq_sum(seq[1:])\n",
      "    \n",
      "seq_sum(seq)"
     ],
     "language": "python",
     "metadata": {},
     "outputs": [
      {
       "metadata": {},
       "output_type": "pyout",
       "prompt_number": 16,
       "text": [
        "45"
       ]
      }
     ],
     "prompt_number": 16
    },
    {
     "cell_type": "code",
     "collapsed": false,
     "input": [
      "def seq_sum(seq):\n",
      "    print 'In seq_sum with %s' % str(seq)\n",
      "    if not seq:\n",
      "        print 'Exiting seq_sum with 0'\n",
      "        return 0\n",
      "    else:\n",
      "        print 'First element of seq is %g' % seq[0]\n",
      "        print 'Calling seq_sum with %s' % str(seq[1:])\n",
      "        ss = seq_sum(seq[1:])\n",
      "        print 'Returned from seq_sum of %s, got %g' % (str(seq[1:]), ss)\n",
      "        result = seq[0] + ss\n",
      "        print 'Adding %g to %g gives %g' % (seq[0], ss, result)\n",
      "        print 'Returning %g from seq_sum' % result\n",
      "        return result\n",
      "    \n",
      "seq_sum(seq)"
     ],
     "language": "python",
     "metadata": {},
     "outputs": [
      {
       "output_type": "stream",
       "stream": "stdout",
       "text": [
        "In seq_sum with [0, 1, 2, 3, 4, 5, 6, 7, 8, 9]\n",
        "First element of seq is 0\n",
        "Calling seq_sum with [1, 2, 3, 4, 5, 6, 7, 8, 9]\n",
        "In seq_sum with [1, 2, 3, 4, 5, 6, 7, 8, 9]\n",
        "First element of seq is 1\n",
        "Calling seq_sum with [2, 3, 4, 5, 6, 7, 8, 9]\n",
        "In seq_sum with [2, 3, 4, 5, 6, 7, 8, 9]\n",
        "First element of seq is 2\n",
        "Calling seq_sum with [3, 4, 5, 6, 7, 8, 9]\n",
        "In seq_sum with [3, 4, 5, 6, 7, 8, 9]\n",
        "First element of seq is 3\n",
        "Calling seq_sum with [4, 5, 6, 7, 8, 9]\n",
        "In seq_sum with [4, 5, 6, 7, 8, 9]\n",
        "First element of seq is 4\n",
        "Calling seq_sum with [5, 6, 7, 8, 9]\n",
        "In seq_sum with [5, 6, 7, 8, 9]\n",
        "First element of seq is 5\n",
        "Calling seq_sum with [6, 7, 8, 9]\n",
        "In seq_sum with [6, 7, 8, 9]\n",
        "First element of seq is 6\n",
        "Calling seq_sum with [7, 8, 9]\n",
        "In seq_sum with [7, 8, 9]\n",
        "First element of seq is 7\n",
        "Calling seq_sum with [8, 9]\n",
        "In seq_sum with [8, 9]\n",
        "First element of seq is 8\n",
        "Calling seq_sum with [9]\n",
        "In seq_sum with [9]\n",
        "First element of seq is 9\n",
        "Calling seq_sum with []\n",
        "In seq_sum with []\n",
        "Exiting seq_sum with 0\n",
        "Returned from seq_sum of [], got 0\n",
        "Adding 9 to 0 gives 9\n",
        "Returning 9 from seq_sum\n",
        "Returned from seq_sum of [9], got 9\n",
        "Adding 8 to 9 gives 17\n",
        "Returning 17 from seq_sum\n",
        "Returned from seq_sum of [8, 9], got 17\n",
        "Adding 7 to 17 gives 24\n",
        "Returning 24 from seq_sum\n",
        "Returned from seq_sum of [7, 8, 9], got 24\n",
        "Adding 6 to 24 gives 30\n",
        "Returning 30 from seq_sum\n",
        "Returned from seq_sum of [6, 7, 8, 9], got 30\n",
        "Adding 5 to 30 gives 35\n",
        "Returning 35 from seq_sum\n",
        "Returned from seq_sum of [5, 6, 7, 8, 9], got 35\n",
        "Adding 4 to 35 gives 39\n",
        "Returning 39 from seq_sum\n",
        "Returned from seq_sum of [4, 5, 6, 7, 8, 9], got 39\n",
        "Adding 3 to 39 gives 42\n",
        "Returning 42 from seq_sum\n",
        "Returned from seq_sum of [3, 4, 5, 6, 7, 8, 9], got 42\n",
        "Adding 2 to 42 gives 44\n",
        "Returning 44 from seq_sum\n",
        "Returned from seq_sum of [2, 3, 4, 5, 6, 7, 8, 9], got 44\n",
        "Adding 1 to 44 gives 45\n",
        "Returning 45 from seq_sum\n",
        "Returned from seq_sum of [1, 2, 3, 4, 5, 6, 7, 8, 9], got 45\n",
        "Adding 0 to 45 gives 45\n",
        "Returning 45 from seq_sum\n"
       ]
      },
      {
       "metadata": {},
       "output_type": "pyout",
       "prompt_number": 21,
       "text": [
        "45"
       ]
      }
     ],
     "prompt_number": 21
    }
   ],
   "metadata": {}
  }
 ]
}