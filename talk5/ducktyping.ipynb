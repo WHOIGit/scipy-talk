{
 "cells": [
  {
   "cell_type": "code",
   "execution_count": 2,
   "id": "40715b3b",
   "metadata": {
    "collapsed": false
   },
   "outputs": [
    {
     "data": {
      "text/plain": [
       "'3'"
      ]
     },
     "execution_count": 2,
     "metadata": {},
     "output_type": "execute_result"
    }
   ],
   "source": [
    "# in languages like C, each variable has a type.\n",
    "# in Python, each value has a type, and a variable can have any value\n",
    "# the \"type\" builtin function returns the type of an object\n",
    "\n",
    "str(3)"
   ]
  },
  {
   "cell_type": "code",
   "execution_count": 3,
   "id": "cbf41608",
   "metadata": {
    "collapsed": false
   },
   "outputs": [
    {
     "data": {
      "text/plain": [
       "str"
      ]
     },
     "execution_count": 3,
     "metadata": {},
     "output_type": "execute_result"
    }
   ],
   "source": [
    "v = 'fish'\n",
    "type(v)"
   ]
  },
  {
   "cell_type": "code",
   "execution_count": 4,
   "id": "1fef8ed4",
   "metadata": {
    "collapsed": false
   },
   "outputs": [
    {
     "data": {
      "text/plain": [
       "int"
      ]
     },
     "execution_count": 4,
     "metadata": {},
     "output_type": "execute_result"
    }
   ],
   "source": [
    "v = 3\n",
    "type(v)"
   ]
  },
  {
   "cell_type": "code",
   "execution_count": 5,
   "id": "e542078f",
   "metadata": {
    "collapsed": false
   },
   "outputs": [
    {
     "data": {
      "text/plain": [
       "[0, 1, 2, 3]"
      ]
     },
     "execution_count": 5,
     "metadata": {},
     "output_type": "execute_result"
    }
   ],
   "source": [
    "# suppose you want a function that behaves differently depending on what\n",
    "# type of object it receives as an argument. You can do it this way:\n",
    "\n",
    "def count(thing):\n",
    "    if type(thing) == str:\n",
    "        return range(len(thing))\n",
    "    elif type(thing) == int:\n",
    "        return range(thing)\n",
    "    \n",
    "count('fish')"
   ]
  },
  {
   "cell_type": "code",
   "execution_count": 6,
   "id": "3e3ca844",
   "metadata": {
    "collapsed": false
   },
   "outputs": [
    {
     "data": {
      "text/plain": [
       "[0, 1, 2, 3]"
      ]
     },
     "execution_count": 6,
     "metadata": {},
     "output_type": "execute_result"
    }
   ],
   "source": [
    "count(4)"
   ]
  },
  {
   "cell_type": "code",
   "execution_count": 7,
   "id": "9e278c85",
   "metadata": {
    "collapsed": false
   },
   "outputs": [
    {
     "ename": "TypeError",
     "evalue": "range() integer end argument expected, got str.",
     "output_type": "error",
     "traceback": [
      "\u001b[0;31m---------------------------------------------------------------------------\u001b[0m\n\u001b[0;31mTypeError\u001b[0m                                 Traceback (most recent call last)",
      "\u001b[0;32m<ipython-input-7-daa31fe9e0f2>\u001b[0m in \u001b[0;36m<module>\u001b[0;34m()\u001b[0m\n\u001b[1;32m     12\u001b[0m     \u001b[0;32mreturn\u001b[0m \u001b[0mrange\u001b[0m\u001b[0;34m(\u001b[0m\u001b[0mthing\u001b[0m\u001b[0;34m)\u001b[0m\u001b[0;34m\u001b[0m\u001b[0m\n\u001b[1;32m     13\u001b[0m \u001b[0;34m\u001b[0m\u001b[0m\n\u001b[0;32m---> 14\u001b[0;31m \u001b[0mcount\u001b[0m\u001b[0;34m(\u001b[0m\u001b[0;34m'fish'\u001b[0m\u001b[0;34m)\u001b[0m\u001b[0;34m\u001b[0m\u001b[0m\n\u001b[0m",
      "\u001b[0;32m<ipython-input-7-daa31fe9e0f2>\u001b[0m in \u001b[0;36mcount\u001b[0;34m(thing)\u001b[0m\n\u001b[1;32m     10\u001b[0m \u001b[0;34m\u001b[0m\u001b[0m\n\u001b[1;32m     11\u001b[0m \u001b[0;32mdef\u001b[0m \u001b[0mcount\u001b[0m\u001b[0;34m(\u001b[0m\u001b[0mthing\u001b[0m\u001b[0;34m)\u001b[0m\u001b[0;34m:\u001b[0m\u001b[0;34m\u001b[0m\u001b[0m\n\u001b[0;32m---> 12\u001b[0;31m     \u001b[0;32mreturn\u001b[0m \u001b[0mrange\u001b[0m\u001b[0;34m(\u001b[0m\u001b[0mthing\u001b[0m\u001b[0;34m)\u001b[0m\u001b[0;34m\u001b[0m\u001b[0m\n\u001b[0m\u001b[1;32m     13\u001b[0m \u001b[0;34m\u001b[0m\u001b[0m\n\u001b[1;32m     14\u001b[0m \u001b[0mcount\u001b[0m\u001b[0;34m(\u001b[0m\u001b[0;34m'fish'\u001b[0m\u001b[0;34m)\u001b[0m\u001b[0;34m\u001b[0m\u001b[0m\n",
      "\u001b[0;31mTypeError\u001b[0m: range() integer end argument expected, got str."
     ]
    }
   ],
   "source": [
    "# this is not the recommended way to do it, for a variety of complex reasons having to\n",
    "# do with how types are defined and referred to. the more idiomatic approach is \"duck typing\"\n",
    "\n",
    "# duck typing is based on the idea that if it walks like a duck and quacks like a duck, it's a duck.\n",
    "\n",
    "# to duck type, take an action that assumes that a value is a given type, and if it raises an exception,\n",
    "# then drop that assumption and move on to trying other actions.\n",
    "\n",
    "# first, let's reimplement count assuming that \"thing\" has a length:\n",
    "\n",
    "def count(thing):\n",
    "    return range(thing)\n",
    "\n",
    "count('fish')"
   ]
  },
  {
   "cell_type": "code",
   "execution_count": 8,
   "id": "ae16a32f",
   "metadata": {
    "collapsed": false
   },
   "outputs": [
    {
     "data": {
      "text/plain": [
       "[0, 1, 2, 3]"
      ]
     },
     "execution_count": 8,
     "metadata": {},
     "output_type": "execute_result"
    }
   ],
   "source": [
    "# now let's handle the case where thing has a length\n",
    "\n",
    "def count(thing):\n",
    "    try:\n",
    "        return range(thing)\n",
    "    except TypeError:\n",
    "        pass\n",
    "    return range(len(thing))\n",
    "\n",
    "count('fish')"
   ]
  },
  {
   "cell_type": "code",
   "execution_count": 16,
   "id": "cc99b092",
   "metadata": {
    "collapsed": false
   },
   "outputs": [
    {
     "data": {
      "text/plain": [
       "[0, 1, 2, 3]"
      ]
     },
     "execution_count": 16,
     "metadata": {},
     "output_type": "execute_result"
    }
   ],
   "source": [
    "count(4)"
   ]
  },
  {
   "cell_type": "code",
   "execution_count": 9,
   "id": "51715a11",
   "metadata": {
    "collapsed": false
   },
   "outputs": [
    {
     "ename": "TypeError",
     "evalue": "object of type 'float' has no len()",
     "output_type": "error",
     "traceback": [
      "\u001b[0;31m---------------------------------------------------------------------------\u001b[0m\n\u001b[0;31mTypeError\u001b[0m                                 Traceback (most recent call last)",
      "\u001b[0;32m<ipython-input-9-4f76a4acc0b2>\u001b[0m in \u001b[0;36m<module>\u001b[0;34m()\u001b[0m\n\u001b[1;32m      1\u001b[0m \u001b[0;31m# this still does not work.\u001b[0m\u001b[0;34m\u001b[0m\u001b[0;34m\u001b[0m\u001b[0m\n\u001b[1;32m      2\u001b[0m \u001b[0;34m\u001b[0m\u001b[0m\n\u001b[0;32m----> 3\u001b[0;31m \u001b[0mcount\u001b[0m\u001b[0;34m(\u001b[0m\u001b[0;36m3.7\u001b[0m\u001b[0;34m)\u001b[0m\u001b[0;34m\u001b[0m\u001b[0m\n\u001b[0m",
      "\u001b[0;32m<ipython-input-8-62488b9b0c47>\u001b[0m in \u001b[0;36mcount\u001b[0;34m(thing)\u001b[0m\n\u001b[1;32m      6\u001b[0m     \u001b[0;32mexcept\u001b[0m \u001b[0mTypeError\u001b[0m\u001b[0;34m:\u001b[0m\u001b[0;34m\u001b[0m\u001b[0m\n\u001b[1;32m      7\u001b[0m         \u001b[0;32mpass\u001b[0m\u001b[0;34m\u001b[0m\u001b[0m\n\u001b[0;32m----> 8\u001b[0;31m     \u001b[0;32mreturn\u001b[0m \u001b[0mrange\u001b[0m\u001b[0;34m(\u001b[0m\u001b[0mlen\u001b[0m\u001b[0;34m(\u001b[0m\u001b[0mthing\u001b[0m\u001b[0;34m)\u001b[0m\u001b[0;34m)\u001b[0m\u001b[0;34m\u001b[0m\u001b[0m\n\u001b[0m\u001b[1;32m      9\u001b[0m \u001b[0;34m\u001b[0m\u001b[0m\n\u001b[1;32m     10\u001b[0m \u001b[0mcount\u001b[0m\u001b[0;34m(\u001b[0m\u001b[0;34m'fish'\u001b[0m\u001b[0;34m)\u001b[0m\u001b[0;34m\u001b[0m\u001b[0m\n",
      "\u001b[0;31mTypeError\u001b[0m: object of type 'float' has no len()"
     ]
    }
   ],
   "source": [
    "# this still does not work.\n",
    "\n",
    "count(3.7)"
   ]
  },
  {
   "cell_type": "code",
   "execution_count": 10,
   "id": "bab38226",
   "metadata": {
    "collapsed": false
   },
   "outputs": [
    {
     "data": {
      "text/plain": [
       "[0, 1, 2, 3, 4]"
      ]
     },
     "execution_count": 10,
     "metadata": {},
     "output_type": "execute_result"
    }
   ],
   "source": [
    "# let's extend the duck typing to include floats\n",
    "import math\n",
    "\n",
    "def count(thing):\n",
    "    try:\n",
    "        return range(thing)\n",
    "    except TypeError:\n",
    "        pass\n",
    "    try:\n",
    "        return range(len(thing))\n",
    "    except TypeError:\n",
    "        pass\n",
    "    try:\n",
    "        return range(int(math.ceil(thing)))\n",
    "    except TypeError:\n",
    "        pass\n",
    "    raise TypeError\n",
    "        \n",
    "count(4.3)"
   ]
  },
  {
   "cell_type": "code",
   "execution_count": null,
   "id": "dc6ceeef",
   "metadata": {
    "collapsed": false
   },
   "outputs": [],
   "source": [
    "# duck typing is based on the idea that types in Python are best thought of\n",
    "# not as categorical definitions of allowable values, but rather sets of allowable\n",
    "# actions that are associated with some type."
   ]
  }
 ],
 "metadata": {},
 "nbformat": 4,
 "nbformat_minor": 5
}
