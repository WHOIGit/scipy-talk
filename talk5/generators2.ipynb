{
 "metadata": {
  "name": "",
  "signature": "sha256:45a7f35b014ed4a3e09be5b28a3b000c273d11d15d33e8b886d5bc7b66a41c26"
 },
 "nbformat": 3,
 "nbformat_minor": 0,
 "worksheets": [
  {
   "cells": [
    {
     "cell_type": "code",
     "collapsed": false,
     "input": [
      "# generators are extremely useful for recursive search\n",
      "\n",
      "import os\n",
      "\n",
      "DIR='/vagrant'\n",
      "os.listdir(DIR)"
     ],
     "language": "python",
     "metadata": {},
     "outputs": [
      {
       "metadata": {},
       "output_type": "pyout",
       "prompt_number": 1,
       "text": [
        "['#Vagrantfile#',\n",
        " '.git',\n",
        " '.ipynb_checkpoints',\n",
        " '.vagrant',\n",
        " '1 lists.ipynb',\n",
        " '1 performance.ipynb',\n",
        " '2 slicing reshaping and stacking.ipynb',\n",
        " '3 functions in 1d.ipynb',\n",
        " '3 random data in 1d.ipynb',\n",
        " '4 images and indexing.ipynb',\n",
        " '5 functions in 2d.ipynb',\n",
        " 'clouds.ipynb',\n",
        " 'convex hull.ipynb',\n",
        " 'ipn',\n",
        " 'islands.ipynb',\n",
        " 'KDTree.ipynb',\n",
        " 'kernel density estimate.ipynb',\n",
        " 'landscape.ipynb',\n",
        " 'LICENSE',\n",
        " 'random 2d.ipynb',\n",
        " 'Random forest regression.ipynb',\n",
        " 'README.md',\n",
        " 'scratch',\n",
        " 'square wave.ipynb',\n",
        " 'talk3',\n",
        " 'talk4',\n",
        " 'talk5',\n",
        " 'Vagrantfile']"
       ]
      }
     ],
     "prompt_number": 1
    },
    {
     "cell_type": "code",
     "collapsed": false,
     "input": [
      "[os.path.join(DIR,entry) for entry in os.listdir(DIR)]"
     ],
     "language": "python",
     "metadata": {},
     "outputs": [
      {
       "metadata": {},
       "output_type": "pyout",
       "prompt_number": 15,
       "text": [
        "['/vagrant/#Vagrantfile#',\n",
        " '/vagrant/.git',\n",
        " '/vagrant/.ipynb_checkpoints',\n",
        " '/vagrant/.vagrant',\n",
        " '/vagrant/1 lists.ipynb',\n",
        " '/vagrant/1 performance.ipynb',\n",
        " '/vagrant/2 slicing reshaping and stacking.ipynb',\n",
        " '/vagrant/3 functions in 1d.ipynb',\n",
        " '/vagrant/3 random data in 1d.ipynb',\n",
        " '/vagrant/4 images and indexing.ipynb',\n",
        " '/vagrant/5 functions in 2d.ipynb',\n",
        " '/vagrant/clouds.ipynb',\n",
        " '/vagrant/convex hull.ipynb',\n",
        " '/vagrant/ipn',\n",
        " '/vagrant/islands.ipynb',\n",
        " '/vagrant/KDTree.ipynb',\n",
        " '/vagrant/kernel density estimate.ipynb',\n",
        " '/vagrant/landscape.ipynb',\n",
        " '/vagrant/LICENSE',\n",
        " '/vagrant/random 2d.ipynb',\n",
        " '/vagrant/Random forest regression.ipynb',\n",
        " '/vagrant/README.md',\n",
        " '/vagrant/scratch',\n",
        " '/vagrant/square wave.ipynb',\n",
        " '/vagrant/talk3',\n",
        " '/vagrant/talk4',\n",
        " '/vagrant/talk5',\n",
        " '/vagrant/Vagrantfile']"
       ]
      }
     ],
     "prompt_number": 15
    },
    {
     "cell_type": "code",
     "collapsed": false,
     "input": [
      "def dirs(dr):\n",
      "    for entry in os.listdir(dr):\n",
      "        path = os.path.join(dr, entry)\n",
      "        if os.path.isdir(path):\n",
      "            yield path\n",
      "\n",
      "list(dirs(DIR))"
     ],
     "language": "python",
     "metadata": {},
     "outputs": [
      {
       "metadata": {},
       "output_type": "pyout",
       "prompt_number": 2,
       "text": [
        "['/vagrant/.git',\n",
        " '/vagrant/.ipynb_checkpoints',\n",
        " '/vagrant/.vagrant',\n",
        " '/vagrant/scratch',\n",
        " '/vagrant/talk3',\n",
        " '/vagrant/talk4',\n",
        " '/vagrant/talk5']"
       ]
      }
     ],
     "prompt_number": 2
    },
    {
     "cell_type": "code",
     "collapsed": false,
     "input": [
      "def tree(dr):\n",
      "    for entry in os.listdir(dr):\n",
      "        path = os.path.join(dr, entry)\n",
      "        if os.path.isdir(path):\n",
      "            for p in tree(path):\n",
      "                yield p\n",
      "        else:\n",
      "            yield path\n",
      "            \n",
      "list(tree(DIR))"
     ],
     "language": "python",
     "metadata": {},
     "outputs": [
      {
       "ename": "SyntaxError",
       "evalue": "'yield' outside function (<ipython-input-5-8c1d28c15685>, line 12)",
       "output_type": "pyerr",
       "traceback": [
        "\u001b[0;36m  File \u001b[0;32m\"<ipython-input-5-8c1d28c15685>\"\u001b[0;36m, line \u001b[0;32m12\u001b[0m\n\u001b[0;31m    v = yield\u001b[0m\n\u001b[0;31mSyntaxError\u001b[0m\u001b[0;31m:\u001b[0m 'yield' outside function\n"
       ]
      }
     ],
     "prompt_number": 5
    }
   ],
   "metadata": {}
  }
 ]
}