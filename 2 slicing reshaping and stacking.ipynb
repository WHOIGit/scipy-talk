{
 "cells": [
  {
   "cell_type": "code",
   "execution_count": 123,
   "id": "0bf950dc",
   "metadata": {
    "collapsed": false
   },
   "outputs": [
    {
     "data": {
      "text/plain": [
       "array([1, 2, 3, 4, 5])"
      ]
     },
     "execution_count": 123,
     "metadata": {},
     "output_type": "execute_result"
    }
   ],
   "source": [
    "import numpy as np\n",
    "\n",
    "# an array is not like a list; all items are the same type\n",
    "# arrays can be constructed from lists:\n",
    "\n",
    "np.array([1,2,3,4,5])"
   ]
  },
  {
   "cell_type": "code",
   "execution_count": 124,
   "id": "bee24edc",
   "metadata": {
    "collapsed": false
   },
   "outputs": [
    {
     "data": {
      "text/plain": [
       "array([[1, 2, 3],\n",
       "       [4, 5, 6]])"
      ]
     },
     "execution_count": 124,
     "metadata": {},
     "output_type": "execute_result"
    }
   ],
   "source": [
    "# in any number of dimentions\n",
    "np.array([[1,2,3],[4,5,6]])"
   ]
  },
  {
   "cell_type": "code",
   "execution_count": 125,
   "id": "e1f1c6ac",
   "metadata": {
    "collapsed": false
   },
   "outputs": [
    {
     "data": {
      "text/plain": [
       "array([[7, 6],\n",
       "       [6, 9],\n",
       "       [8, 3],\n",
       "       [4, 3],\n",
       "       [2, 8]])"
      ]
     },
     "execution_count": 125,
     "metadata": {},
     "output_type": "execute_result"
    }
   ],
   "source": [
    "# generate a 5x2 matrix of random integers between 0 and 10\n",
    "r = np.random.randint(10,size=(5,2))\n",
    "r"
   ]
  },
  {
   "cell_type": "code",
   "execution_count": 126,
   "id": "3a04ee69",
   "metadata": {
    "collapsed": false
   },
   "outputs": [
    {
     "data": {
      "text/plain": [
       "array([6, 9, 3, 3, 8])"
      ]
     },
     "execution_count": 126,
     "metadata": {},
     "output_type": "execute_result"
    }
   ],
   "source": [
    "# get the 2nd column (column #1)\n",
    "r[:,1]"
   ]
  },
  {
   "cell_type": "code",
   "execution_count": 127,
   "id": "4f7d3d69",
   "metadata": {
    "collapsed": false
   },
   "outputs": [
    {
     "data": {
      "text/plain": [
       "array([4, 3])"
      ]
     },
     "execution_count": 127,
     "metadata": {},
     "output_type": "execute_result"
    }
   ],
   "source": [
    "# get the 4th row (row #3)\n",
    "r[3,:]"
   ]
  },
  {
   "cell_type": "code",
   "execution_count": 128,
   "id": "6674b6ff",
   "metadata": {
    "collapsed": false
   },
   "outputs": [
    {
     "data": {
      "text/plain": [
       "array([[7, 6],\n",
       "       [6, 9]])"
      ]
     },
     "execution_count": 128,
     "metadata": {},
     "output_type": "execute_result"
    }
   ],
   "source": [
    "# get the first two rows\n",
    "r[:2,:]"
   ]
  },
  {
   "cell_type": "code",
   "execution_count": 129,
   "id": "f65403ba",
   "metadata": {
    "collapsed": false
   },
   "outputs": [
    {
     "data": {
      "text/plain": [
       "array([2, 8])"
      ]
     },
     "execution_count": 129,
     "metadata": {},
     "output_type": "execute_result"
    }
   ],
   "source": [
    "# get the last row\n",
    "r[-1,:]"
   ]
  },
  {
   "cell_type": "code",
   "execution_count": 130,
   "id": "04d91820",
   "metadata": {
    "collapsed": false
   },
   "outputs": [
    {
     "data": {
      "text/plain": [
       "array([[8, 3],\n",
       "       [4, 3],\n",
       "       [2, 8]])"
      ]
     },
     "execution_count": 130,
     "metadata": {},
     "output_type": "execute_result"
    }
   ],
   "source": [
    "# get the last 3 rows\n",
    "r[-3:,:]"
   ]
  },
  {
   "cell_type": "code",
   "execution_count": 131,
   "id": "5eeceef7",
   "metadata": {
    "collapsed": false
   },
   "outputs": [
    {
     "data": {
      "text/plain": [
       "array([[7, 6],\n",
       "       [8, 3],\n",
       "       [2, 8]])"
      ]
     },
     "execution_count": 131,
     "metadata": {},
     "output_type": "execute_result"
    }
   ],
   "source": [
    "# get every other row\n",
    "r[::2,:]"
   ]
  },
  {
   "cell_type": "code",
   "execution_count": 132,
   "id": "87862fc5",
   "metadata": {
    "collapsed": false
   },
   "outputs": [
    {
     "data": {
      "text/plain": [
       "array([[7, 6, 8, 4, 2],\n",
       "       [6, 9, 3, 3, 8]])"
      ]
     },
     "execution_count": 132,
     "metadata": {},
     "output_type": "execute_result"
    }
   ],
   "source": [
    "# transpose the axes to make a 2x5 array\n",
    "r.T"
   ]
  },
  {
   "cell_type": "code",
   "execution_count": 133,
   "id": "8396a5b0",
   "metadata": {
    "collapsed": false
   },
   "outputs": [
    {
     "data": {
      "text/plain": [
       "array([6, 9, 3, 3, 8])"
      ]
     },
     "execution_count": 133,
     "metadata": {},
     "output_type": "execute_result"
    }
   ],
   "source": [
    "# use multiple assignments to get the first and second columns\n",
    "# from the transposed array\n",
    "x, y = r.T\n",
    "y"
   ]
  },
  {
   "cell_type": "code",
   "execution_count": 134,
   "id": "f005176a",
   "metadata": {
    "collapsed": false
   },
   "outputs": [
    {
     "data": {
      "text/plain": [
       "array([[0, 1],\n",
       "       [2, 3],\n",
       "       [4, 5],\n",
       "       [6, 7],\n",
       "       [8, 9]])"
      ]
     },
     "execution_count": 134,
     "metadata": {},
     "output_type": "execute_result"
    }
   ],
   "source": [
    "# IMPORTANT: reshaping arrays does not copy any data;\n",
    "# it just changes the way the data is indexed. this is FAST.\n",
    "\n",
    "#\n",
    "r = np.array(range(10)).reshape((5,2))\n",
    "r"
   ]
  },
  {
   "cell_type": "code",
   "execution_count": 135,
   "id": "aa57c65c",
   "metadata": {
    "collapsed": false
   },
   "outputs": [
    {
     "data": {
      "text/plain": [
       "array([[0, 2, 4, 6, 8],\n",
       "       [1, 3, 5, 7, 9]])"
      ]
     },
     "execution_count": 135,
     "metadata": {},
     "output_type": "execute_result"
    }
   ],
   "source": [
    "# now set rt to the transposed array\n",
    "rt = r.T\n",
    "rt"
   ]
  },
  {
   "cell_type": "code",
   "execution_count": 136,
   "id": "d3e5ba44",
   "metadata": {
    "collapsed": false
   },
   "outputs": [
    {
     "data": {
      "text/plain": [
       "array([[ 0,  2,  4,  6,  8],\n",
       "       [ 1,  3,  5, 70,  9]])"
      ]
     },
     "execution_count": 136,
     "metadata": {},
     "output_type": "execute_result"
    }
   ],
   "source": [
    "# now multiply element 1,3 of the transposed array by 10\n",
    "rt[1,3] *= 10\n",
    "rt"
   ]
  },
  {
   "cell_type": "code",
   "execution_count": 137,
   "id": "8ad20eb7",
   "metadata": {
    "collapsed": false
   },
   "outputs": [
    {
     "data": {
      "text/plain": [
       "array([[ 0,  1],\n",
       "       [ 2,  3],\n",
       "       [ 4,  5],\n",
       "       [ 6, 70],\n",
       "       [ 8,  9]])"
      ]
     },
     "execution_count": 137,
     "metadata": {},
     "output_type": "execute_result"
    }
   ],
   "source": [
    "# r has also changed. they are interfaces to the same data\n",
    "r"
   ]
  },
  {
   "cell_type": "code",
   "execution_count": 138,
   "id": "f231ba56",
   "metadata": {
    "collapsed": false
   },
   "outputs": [
    {
     "data": {
      "text/plain": [
       "array([ 0,  1,  2,  3,  4,  5,  6, 70,  8,  9])"
      ]
     },
     "execution_count": 138,
     "metadata": {},
     "output_type": "execute_result"
    }
   ],
   "source": [
    "# flattening or \"raveling\" arrays\n",
    "# returns elements in order of axes\n",
    "r.ravel()"
   ]
  },
  {
   "cell_type": "code",
   "execution_count": 139,
   "id": "d6630a1a",
   "metadata": {
    "collapsed": false
   },
   "outputs": [
    {
     "data": {
      "text/plain": [
       "array([[ 0,  1],\n",
       "       [ 2,  3],\n",
       "       [ 4,  5],\n",
       "       [ 6, 70],\n",
       "       [ 8,  9]])"
      ]
     },
     "execution_count": 139,
     "metadata": {},
     "output_type": "execute_result"
    }
   ],
   "source": [
    "# reshape the flattened array to recover the original shape\n",
    "r.ravel().reshape((5,2))"
   ]
  },
  {
   "cell_type": "code",
   "execution_count": 140,
   "id": "dbb172fc",
   "metadata": {
    "collapsed": false
   },
   "outputs": [
    {
     "data": {
      "text/plain": [
       "array([[ 0,  1],\n",
       "       [ 2,  3],\n",
       "       [ 4,  5],\n",
       "       [ 6, 70],\n",
       "       [ 8,  9]])"
      ]
     },
     "execution_count": 140,
     "metadata": {},
     "output_type": "execute_result"
    }
   ],
   "source": [
    "# leave one dimension unspecified and it uses the appropriate\n",
    "# shape\n",
    "r.ravel().reshape((-1,2))"
   ]
  },
  {
   "cell_type": "code",
   "execution_count": 141,
   "id": "b972226f",
   "metadata": {
    "collapsed": false
   },
   "outputs": [
    {
     "data": {
      "text/plain": [
       "array([[ 0,  1,  2,  3,  4],\n",
       "       [ 5,  6, 70,  8,  9]])"
      ]
     },
     "execution_count": 141,
     "metadata": {},
     "output_type": "execute_result"
    }
   ],
   "source": [
    "# note that this does not produce r.T because\n",
    "# the raveled array is in order of axes\n",
    "r.ravel().reshape((2,-1))"
   ]
  },
  {
   "cell_type": "code",
   "execution_count": 142,
   "id": "3bb79a17",
   "metadata": {
    "collapsed": false
   },
   "outputs": [
    {
     "data": {
      "text/plain": [
       "array([[1],\n",
       "       [2],\n",
       "       [3],\n",
       "       [4],\n",
       "       [5]])"
      ]
     },
     "execution_count": 142,
     "metadata": {},
     "output_type": "execute_result"
    }
   ],
   "source": [
    "# to turn a row vector into a column vector, use reshape\n",
    "np.array([1,2,3,4,5]).reshape(-1,1)"
   ]
  },
  {
   "cell_type": "code",
   "execution_count": 143,
   "id": "74be8d13",
   "metadata": {
    "collapsed": false
   },
   "outputs": [
    {
     "data": {
      "text/plain": [
       "array([[[ 0,  1,  2],\n",
       "        [ 3,  4,  5],\n",
       "        [ 6,  7,  8]],\n",
       "\n",
       "       [[ 9, 10, 11],\n",
       "        [12, 13, 14],\n",
       "        [15, 16, 17]],\n",
       "\n",
       "       [[18, 19, 20],\n",
       "        [21, 22, 23],\n",
       "        [24, 25, 26]]])"
      ]
     },
     "execution_count": 143,
     "metadata": {},
     "output_type": "execute_result"
    }
   ],
   "source": [
    "# everything works in any number of dimensions\n",
    "d3 = np.array(range(27)).reshape((3,3,3))\n",
    "d3"
   ]
  },
  {
   "cell_type": "code",
   "execution_count": 144,
   "id": "87d0d709",
   "metadata": {
    "collapsed": false
   },
   "outputs": [
    {
     "data": {
      "text/plain": [
       "11"
      ]
     },
     "execution_count": 144,
     "metadata": {},
     "output_type": "execute_result"
    }
   ],
   "source": [
    "d3[1,0,2]"
   ]
  },
  {
   "cell_type": "code",
   "execution_count": 145,
   "id": "adf05c0c",
   "metadata": {
    "collapsed": false
   },
   "outputs": [
    {
     "data": {
      "text/plain": [
       "array([[21, 22],\n",
       "       [24, 25]])"
      ]
     },
     "execution_count": 145,
     "metadata": {},
     "output_type": "execute_result"
    }
   ],
   "source": [
    "d3[2,1:,:2]"
   ]
  },
  {
   "cell_type": "code",
   "execution_count": 146,
   "id": "40bc45b1",
   "metadata": {
    "collapsed": false
   },
   "outputs": [
    {
     "data": {
      "text/plain": [
       "array([[ 0,  1,  2,  3,  4,  5,  6,  7,  8],\n",
       "       [ 9, 10, 11, 12, 13, 14, 15, 16, 17],\n",
       "       [18, 19, 20, 21, 22, 23, 24, 25, 26]])"
      ]
     },
     "execution_count": 146,
     "metadata": {},
     "output_type": "execute_result"
    }
   ],
   "source": [
    "c = d3.reshape((3,-1))\n",
    "c"
   ]
  },
  {
   "cell_type": "code",
   "execution_count": 147,
   "id": "1453d43f",
   "metadata": {
    "collapsed": false
   },
   "outputs": [
    {
     "data": {
      "text/plain": [
       "array([ 2, 11, 20])"
      ]
     },
     "execution_count": 147,
     "metadata": {},
     "output_type": "execute_result"
    }
   ],
   "source": [
    "c[:,2]"
   ]
  },
  {
   "cell_type": "code",
   "execution_count": 148,
   "id": "d36924e6",
   "metadata": {
    "collapsed": false
   },
   "outputs": [
    {
     "data": {
      "text/plain": [
       "array([27, 28, 29, 30, 31, 32, 33, 34, 35])"
      ]
     },
     "execution_count": 148,
     "metadata": {},
     "output_type": "execute_result"
    }
   ],
   "source": [
    "row = np.array(range(9)) + 27\n",
    "row"
   ]
  },
  {
   "cell_type": "code",
   "execution_count": 149,
   "id": "1d78fb92",
   "metadata": {
    "collapsed": false
   },
   "outputs": [
    {
     "data": {
      "text/plain": [
       "array([[ 0,  1,  2,  3,  4,  5,  6,  7,  8],\n",
       "       [ 9, 10, 11, 12, 13, 14, 15, 16, 17],\n",
       "       [18, 19, 20, 21, 22, 23, 24, 25, 26],\n",
       "       [27, 28, 29, 30, 31, 32, 33, 34, 35]])"
      ]
     },
     "execution_count": 149,
     "metadata": {},
     "output_type": "execute_result"
    }
   ],
   "source": [
    "c2 = np.vstack((c,row))\n",
    "c2"
   ]
  },
  {
   "cell_type": "code",
   "execution_count": 150,
   "id": "dd2c9d1b",
   "metadata": {
    "collapsed": false
   },
   "outputs": [
    {
     "data": {
      "text/plain": [
       "array([[ 0,  1,  2,  3,  4,  5],\n",
       "       [ 6,  7,  8,  9, 10, 11],\n",
       "       [12, 13, 14, 15, 16, 17],\n",
       "       [18, 19, 20, 21, 22, 23],\n",
       "       [24, 25, 26, 27, 28, 29],\n",
       "       [30, 31, 32, 33, 34, 35]])"
      ]
     },
     "execution_count": 150,
     "metadata": {},
     "output_type": "execute_result"
    }
   ],
   "source": [
    "c3 = c2.reshape((6,6))\n",
    "c3"
   ]
  },
  {
   "cell_type": "code",
   "execution_count": 151,
   "id": "9b2894c5",
   "metadata": {
    "collapsed": false
   },
   "outputs": [
    {
     "data": {
      "text/plain": [
       "array([[1],\n",
       "       [1],\n",
       "       [1],\n",
       "       [1],\n",
       "       [1],\n",
       "       [1]])"
      ]
     },
     "execution_count": 151,
     "metadata": {},
     "output_type": "execute_result"
    }
   ],
   "source": [
    "col = np.ones((6,1),dtype=int)\n",
    "col"
   ]
  },
  {
   "cell_type": "code",
   "execution_count": 152,
   "id": "a27fb758",
   "metadata": {
    "collapsed": false
   },
   "outputs": [
    {
     "data": {
      "text/plain": [
       "array([[ 0,  1,  2,  3,  4,  5,  1],\n",
       "       [ 6,  7,  8,  9, 10, 11,  1],\n",
       "       [12, 13, 14, 15, 16, 17,  1],\n",
       "       [18, 19, 20, 21, 22, 23,  1],\n",
       "       [24, 25, 26, 27, 28, 29,  1],\n",
       "       [30, 31, 32, 33, 34, 35,  1]])"
      ]
     },
     "execution_count": 152,
     "metadata": {},
     "output_type": "execute_result"
    }
   ],
   "source": [
    "c4 = np.hstack((c3,col))\n",
    "c4"
   ]
  },
  {
   "cell_type": "code",
   "execution_count": 153,
   "id": "18f5d073",
   "metadata": {
    "collapsed": false
   },
   "outputs": [
    {
     "data": {
      "text/plain": [
       "array([[ 0,  1,  2,  3,  4,  5],\n",
       "       [ 6,  7,  8,  9, 10, 11],\n",
       "       [12, 13, 14, 15, 16, 17],\n",
       "       [18, 19, 20, 21, 22, 23]])"
      ]
     },
     "execution_count": 153,
     "metadata": {},
     "output_type": "execute_result"
    }
   ],
   "source": [
    "# numerical operations are convenient\n",
    "I = np.array(range(24)).reshape(4,6)\n",
    "I"
   ]
  },
  {
   "cell_type": "code",
   "execution_count": 154,
   "id": "c0dab05d",
   "metadata": {
    "collapsed": false
   },
   "outputs": [
    {
     "data": {
      "text/plain": [
       "array([[  0,  -1,  -2,  -3,  -4,  -5],\n",
       "       [ -6,  -7,  -8,  -9, -10, -11],\n",
       "       [-12, -13, -14, -15, -16, -17],\n",
       "       [-18, -19, -20, -21, -22, -23]])"
      ]
     },
     "execution_count": 154,
     "metadata": {},
     "output_type": "execute_result"
    }
   ],
   "source": [
    "# operation with a scalar performs operation elementwise\n",
    "0 - I"
   ]
  },
  {
   "cell_type": "code",
   "execution_count": 155,
   "id": "b6f217a4",
   "metadata": {
    "collapsed": false
   },
   "outputs": [
    {
     "data": {
      "text/plain": [
       "array([[  0. ,   2.5,   5. ,   7.5,  10. ,  12.5],\n",
       "       [ 15. ,  17.5,  20. ,  22.5,  25. ,  27.5],\n",
       "       [ 30. ,  32.5,  35. ,  37.5,  40. ,  42.5],\n",
       "       [ 45. ,  47.5,  50. ,  52.5,  55. ,  57.5]])"
      ]
     },
     "execution_count": 155,
     "metadata": {},
     "output_type": "execute_result"
    }
   ],
   "source": [
    "# any necessary type conversions are done\n",
    "I * 2.5"
   ]
  },
  {
   "cell_type": "code",
   "execution_count": 156,
   "id": "791638b3",
   "metadata": {
    "collapsed": false
   },
   "outputs": [
    {
     "data": {
      "text/plain": [
       "array([[False, False, False, False, False, False],\n",
       "       [False, False, False,  True,  True,  True],\n",
       "       [ True,  True,  True,  True,  True,  True],\n",
       "       [ True,  True,  True,  True,  True,  True]], dtype=bool)"
      ]
     },
     "execution_count": 156,
     "metadata": {},
     "output_type": "execute_result"
    }
   ],
   "source": [
    "# logical operations work too\n",
    "I > 8"
   ]
  },
  {
   "cell_type": "code",
   "execution_count": 157,
   "id": "25256aeb",
   "metadata": {
    "collapsed": false
   },
   "outputs": [
    {
     "data": {
      "text/plain": [
       "array([[  0, 101,   2, 203,   4, 305],\n",
       "       [  6, 107,   8, 209,  10, 311],\n",
       "       [ 12, 113,  14, 215,  16, 317],\n",
       "       [ 18, 119,  20, 221,  22, 323]])"
      ]
     },
     "execution_count": 157,
     "metadata": {},
     "output_type": "execute_result"
    }
   ],
   "source": [
    "# arithmetic operations can combine arrays in useful ways\n",
    "\n",
    "# operation on a 2d array by a row vector performs operation per-row\n",
    "# this avoids the MATLAB idiom of using \"repmat\" to tile copies of an array\n",
    "\n",
    "I + np.array([0, 100, 0, 200, 0, 300])"
   ]
  },
  {
   "cell_type": "code",
   "execution_count": 158,
   "id": "2758f8b4",
   "metadata": {
    "collapsed": false
   },
   "outputs": [
    {
     "data": {
      "text/plain": [
       "array([[ 0,  0,  0,  0,  0,  0],\n",
       "       [ 6,  7,  8,  9, 10, 11],\n",
       "       [12, 13, 14, 15, 16, 17],\n",
       "       [ 0,  0,  0,  0,  0,  0]])"
      ]
     },
     "execution_count": 158,
     "metadata": {},
     "output_type": "execute_result"
    }
   ],
   "source": [
    "# operation on a 2d array by a column vector performs operation per-column\n",
    "I * np.array([[0],\n",
    "              [1],\n",
    "              [1],\n",
    "              [0]])"
   ]
  },
  {
   "cell_type": "code",
   "execution_count": 159,
   "id": "7561276d",
   "metadata": {
    "collapsed": false
   },
   "outputs": [
    {
     "data": {
      "text/plain": [
       "array([[2, 0, 0, 0, 2, 2],\n",
       "       [0, 2, 0, 0, 0, 0],\n",
       "       [2, 0, 0, 2, 0, 0],\n",
       "       [0, 0, 2, 2, 0, 0]])"
      ]
     },
     "execution_count": 159,
     "metadata": {},
     "output_type": "execute_result"
    }
   ],
   "source": [
    "# operation on same-size array performs operation elementwise \n",
    "s = np.random.choice([0,2],size=(4,6))\n",
    "s"
   ]
  },
  {
   "cell_type": "code",
   "execution_count": 160,
   "id": "ab242e40",
   "metadata": {
    "collapsed": false
   },
   "outputs": [
    {
     "data": {
      "text/plain": [
       "array([[ 0,  0,  0,  0,  8, 10],\n",
       "       [ 0, 14,  0,  0,  0,  0],\n",
       "       [24,  0,  0, 30,  0,  0],\n",
       "       [ 0,  0, 40, 42,  0,  0]])"
      ]
     },
     "execution_count": 160,
     "metadata": {},
     "output_type": "execute_result"
    }
   ],
   "source": [
    "I * s"
   ]
  },
  {
   "cell_type": "code",
   "execution_count": 161,
   "id": "daa42bf8",
   "metadata": {
    "collapsed": false
   },
   "outputs": [
    {
     "data": {
      "text/plain": [
       "array([[ True, False, False, False, False,  True],\n",
       "       [False, False, False, False,  True, False],\n",
       "       [False, False, False,  True, False, False],\n",
       "       [False, False,  True, False, False, False]], dtype=bool)"
      ]
     },
     "execution_count": 161,
     "metadata": {},
     "output_type": "execute_result"
    }
   ],
   "source": [
    "# arithmetic operation using boolean converts boolean to 1,0\n",
    "div5 = I % 5 == 0\n",
    "div5"
   ]
  },
  {
   "cell_type": "code",
   "execution_count": 162,
   "id": "f91e880e",
   "metadata": {
    "collapsed": false
   },
   "outputs": [
    {
     "data": {
      "text/plain": [
       "array([[ 0,  0,  0,  0,  0,  5],\n",
       "       [ 0,  0,  0,  0, 10,  0],\n",
       "       [ 0,  0,  0, 15,  0,  0],\n",
       "       [ 0,  0, 20,  0,  0,  0]])"
      ]
     },
     "execution_count": 162,
     "metadata": {},
     "output_type": "execute_result"
    }
   ],
   "source": [
    "I * div5"
   ]
  },
  {
   "cell_type": "code",
   "execution_count": 163,
   "id": "e765535c",
   "metadata": {
    "collapsed": false
   },
   "outputs": [
    {
     "data": {
      "text/plain": [
       "array([8, 3, 4, 1])"
      ]
     },
     "execution_count": 163,
     "metadata": {},
     "output_type": "execute_result"
    }
   ],
   "source": [
    "# arrays can be used to index other arrays\n",
    "\n",
    "pi = np.array([3, 1, 4, 1, 5, 9, 2, 6, 5, 3, 5, 8, 9, 7, 9, 3, 2])\n",
    "pi[[11,0,2,1]]"
   ]
  },
  {
   "cell_type": "code",
   "execution_count": 164,
   "id": "175f3bbb",
   "metadata": {
    "collapsed": false
   },
   "outputs": [
    {
     "data": {
      "text/plain": [
       "(array([ 2,  6,  7, 11, 16]),)"
      ]
     },
     "execution_count": 164,
     "metadata": {},
     "output_type": "execute_result"
    }
   ],
   "source": [
    "# numpy.where can produce an index for a given condition\n",
    "\n",
    "np.where(pi % 2 == 0)"
   ]
  },
  {
   "cell_type": "code",
   "execution_count": 165,
   "id": "6312ba3b",
   "metadata": {
    "collapsed": false
   },
   "outputs": [
    {
     "data": {
      "text/plain": [
       "array([4, 2, 6, 8, 2])"
      ]
     },
     "execution_count": 165,
     "metadata": {},
     "output_type": "execute_result"
    }
   ],
   "source": [
    "# indexing by boolean works too\n",
    "\n",
    "pi[pi % 2 == 0]"
   ]
  },
  {
   "cell_type": "code",
   "execution_count": 166,
   "id": "39c86fec",
   "metadata": {
    "collapsed": false
   },
   "outputs": [
    {
     "data": {
      "text/plain": [
       "array([[ 1,  1,  2,  0,  1],\n",
       "       [ 2, -2,  0,  2,  0],\n",
       "       [ 2,  1,  2, -1, -1],\n",
       "       [ 1, -2, -1,  2,  1],\n",
       "       [-2,  0,  2,  0,  2]])"
      ]
     },
     "execution_count": 166,
     "metadata": {},
     "output_type": "execute_result"
    }
   ],
   "source": [
    "# indexing by boolean can be used for assignment\n",
    "J = np.random.randint(-2,3,size=(5,5))\n",
    "J"
   ]
  },
  {
   "cell_type": "code",
   "execution_count": 167,
   "id": "3e0eb05c",
   "metadata": {
    "collapsed": false
   },
   "outputs": [
    {
     "data": {
      "text/plain": [
       "array([[ 1,  1,  2,  0,  1],\n",
       "       [ 2, 99,  0,  2,  0],\n",
       "       [ 2,  1,  2, 99, 99],\n",
       "       [ 1, 99, 99,  2,  1],\n",
       "       [99,  0,  2,  0,  2]])"
      ]
     },
     "execution_count": 167,
     "metadata": {},
     "output_type": "execute_result"
    }
   ],
   "source": [
    "J[J < 0] = 99\n",
    "J"
   ]
  },
  {
   "cell_type": "code",
   "execution_count": 168,
   "id": "71e03f4e",
   "metadata": {
    "collapsed": false
   },
   "outputs": [
    {
     "data": {
      "text/plain": [
       "array([[1, 2, 3, 1, 2, 3],\n",
       "       [1, 2, 3, 1, 2, 3],\n",
       "       [1, 2, 3, 1, 2, 3]])"
      ]
     },
     "execution_count": 168,
     "metadata": {},
     "output_type": "execute_result"
    }
   ],
   "source": [
    "# by the way, if you want to tile an array as with MATLAB's repmat, you can\n",
    "\n",
    "t = np.array([1,2,3])\n",
    "np.tile(t,(3,2))"
   ]
  },
  {
   "cell_type": "code",
   "execution_count": 169,
   "id": "e0a2c6e7",
   "metadata": {
    "collapsed": false
   },
   "outputs": [
    {
     "data": {
      "text/plain": [
       "array([0, 1, 2, 3, 4])"
      ]
     },
     "execution_count": 169,
     "metadata": {},
     "output_type": "execute_result"
    }
   ],
   "source": [
    "# create a non-inclusive range with arange\n",
    "\n",
    "np.arange(5)"
   ]
  },
  {
   "cell_type": "code",
   "execution_count": 170,
   "id": "d436333d",
   "metadata": {
    "collapsed": false
   },
   "outputs": [
    {
     "data": {
      "text/plain": [
       "array([ 1. ,  1.2,  1.4,  1.6,  1.8,  2. ,  2.2,  2.4,  2.6,  2.8])"
      ]
     },
     "execution_count": 170,
     "metadata": {},
     "output_type": "execute_result"
    }
   ],
   "source": [
    "# give arange the inclusive minimum, exclusive maximum, and step\n",
    "\n",
    "np.arange(1,3,0.2)"
   ]
  },
  {
   "cell_type": "code",
   "execution_count": 171,
   "id": "76bb2bfd",
   "metadata": {
    "collapsed": false
   },
   "outputs": [
    {
     "data": {
      "text/plain": [
       "array([-1.        , -0.33333333,  0.33333333,  1.        ])"
      ]
     },
     "execution_count": 171,
     "metadata": {},
     "output_type": "execute_result"
    }
   ],
   "source": [
    "# to create an inclusive range use linspace\n",
    "# give it the inclusive minimum, inclusive maximum, and number of points\n",
    "np.linspace(-1,1,4)"
   ]
  }
 ],
 "metadata": {},
 "nbformat": 4,
 "nbformat_minor": 5
}
