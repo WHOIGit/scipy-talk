{
 "metadata": {
  "name": "",
  "signature": "sha256:0a13ee1b2f8333e84a80d63d98ee9055eb1077e94cc12238dcd94540a763536d"
 },
 "nbformat": 3,
 "nbformat_minor": 0,
 "worksheets": [
  {
   "cells": [
    {
     "cell_type": "code",
     "collapsed": false,
     "input": [
      "import numpy as np\n",
      "\n",
      "# an array is not like a list; all items are the same type\n",
      "# arrays can be constructed from lists:\n",
      "\n",
      "np.array([1,2,3,4,5])"
     ],
     "language": "python",
     "metadata": {},
     "outputs": [
      {
       "metadata": {},
       "output_type": "pyout",
       "prompt_number": 123,
       "text": [
        "array([1, 2, 3, 4, 5])"
       ]
      }
     ],
     "prompt_number": 123
    },
    {
     "cell_type": "code",
     "collapsed": false,
     "input": [
      "# in any number of dimentions\n",
      "np.array([[1,2,3],[4,5,6]])"
     ],
     "language": "python",
     "metadata": {},
     "outputs": [
      {
       "metadata": {},
       "output_type": "pyout",
       "prompt_number": 124,
       "text": [
        "array([[1, 2, 3],\n",
        "       [4, 5, 6]])"
       ]
      }
     ],
     "prompt_number": 124
    },
    {
     "cell_type": "code",
     "collapsed": false,
     "input": [
      "# generate a 5x2 matrix of random integers between 0 and 10\n",
      "r = np.random.randint(10,size=(5,2))\n",
      "r"
     ],
     "language": "python",
     "metadata": {},
     "outputs": [
      {
       "metadata": {},
       "output_type": "pyout",
       "prompt_number": 125,
       "text": [
        "array([[7, 6],\n",
        "       [6, 9],\n",
        "       [8, 3],\n",
        "       [4, 3],\n",
        "       [2, 8]])"
       ]
      }
     ],
     "prompt_number": 125
    },
    {
     "cell_type": "code",
     "collapsed": false,
     "input": [
      "# get the 2nd column (column #1)\n",
      "r[:,1]"
     ],
     "language": "python",
     "metadata": {},
     "outputs": [
      {
       "metadata": {},
       "output_type": "pyout",
       "prompt_number": 126,
       "text": [
        "array([6, 9, 3, 3, 8])"
       ]
      }
     ],
     "prompt_number": 126
    },
    {
     "cell_type": "code",
     "collapsed": false,
     "input": [
      "# get the 4th row (row #3)\n",
      "r[3,:]"
     ],
     "language": "python",
     "metadata": {},
     "outputs": [
      {
       "metadata": {},
       "output_type": "pyout",
       "prompt_number": 127,
       "text": [
        "array([4, 3])"
       ]
      }
     ],
     "prompt_number": 127
    },
    {
     "cell_type": "code",
     "collapsed": false,
     "input": [
      "# get the first two rows\n",
      "r[:2,:]"
     ],
     "language": "python",
     "metadata": {},
     "outputs": [
      {
       "metadata": {},
       "output_type": "pyout",
       "prompt_number": 128,
       "text": [
        "array([[7, 6],\n",
        "       [6, 9]])"
       ]
      }
     ],
     "prompt_number": 128
    },
    {
     "cell_type": "code",
     "collapsed": false,
     "input": [
      "# get the last row\n",
      "r[-1,:]"
     ],
     "language": "python",
     "metadata": {},
     "outputs": [
      {
       "metadata": {},
       "output_type": "pyout",
       "prompt_number": 129,
       "text": [
        "array([2, 8])"
       ]
      }
     ],
     "prompt_number": 129
    },
    {
     "cell_type": "code",
     "collapsed": false,
     "input": [
      "# get the last 3 rows\n",
      "r[-3:,:]"
     ],
     "language": "python",
     "metadata": {},
     "outputs": [
      {
       "metadata": {},
       "output_type": "pyout",
       "prompt_number": 130,
       "text": [
        "array([[8, 3],\n",
        "       [4, 3],\n",
        "       [2, 8]])"
       ]
      }
     ],
     "prompt_number": 130
    },
    {
     "cell_type": "code",
     "collapsed": false,
     "input": [
      "# get every other row\n",
      "r[::2,:]"
     ],
     "language": "python",
     "metadata": {},
     "outputs": [
      {
       "metadata": {},
       "output_type": "pyout",
       "prompt_number": 131,
       "text": [
        "array([[7, 6],\n",
        "       [8, 3],\n",
        "       [2, 8]])"
       ]
      }
     ],
     "prompt_number": 131
    },
    {
     "cell_type": "code",
     "collapsed": false,
     "input": [
      "# transpose the axes to make a 2x5 array\n",
      "r.T"
     ],
     "language": "python",
     "metadata": {},
     "outputs": [
      {
       "metadata": {},
       "output_type": "pyout",
       "prompt_number": 132,
       "text": [
        "array([[7, 6, 8, 4, 2],\n",
        "       [6, 9, 3, 3, 8]])"
       ]
      }
     ],
     "prompt_number": 132
    },
    {
     "cell_type": "code",
     "collapsed": false,
     "input": [
      "# use multiple assignments to get the first and second columns\n",
      "# from the transposed array\n",
      "x, y = r.T\n",
      "y"
     ],
     "language": "python",
     "metadata": {},
     "outputs": [
      {
       "metadata": {},
       "output_type": "pyout",
       "prompt_number": 133,
       "text": [
        "array([6, 9, 3, 3, 8])"
       ]
      }
     ],
     "prompt_number": 133
    },
    {
     "cell_type": "code",
     "collapsed": false,
     "input": [
      "# IMPORTANT: reshaping arrays does not copy any data;\n",
      "# it just changes the way the data is indexed. this is FAST.\n",
      "\n",
      "#\n",
      "r = np.array(range(10)).reshape((5,2))\n",
      "r"
     ],
     "language": "python",
     "metadata": {},
     "outputs": [
      {
       "metadata": {},
       "output_type": "pyout",
       "prompt_number": 134,
       "text": [
        "array([[0, 1],\n",
        "       [2, 3],\n",
        "       [4, 5],\n",
        "       [6, 7],\n",
        "       [8, 9]])"
       ]
      }
     ],
     "prompt_number": 134
    },
    {
     "cell_type": "code",
     "collapsed": false,
     "input": [
      "# now set rt to the transposed array\n",
      "rt = r.T\n",
      "rt"
     ],
     "language": "python",
     "metadata": {},
     "outputs": [
      {
       "metadata": {},
       "output_type": "pyout",
       "prompt_number": 135,
       "text": [
        "array([[0, 2, 4, 6, 8],\n",
        "       [1, 3, 5, 7, 9]])"
       ]
      }
     ],
     "prompt_number": 135
    },
    {
     "cell_type": "code",
     "collapsed": false,
     "input": [
      "# now multiply element 1,3 of the transposed array by 10\n",
      "rt[1,3] *= 10\n",
      "rt"
     ],
     "language": "python",
     "metadata": {},
     "outputs": [
      {
       "metadata": {},
       "output_type": "pyout",
       "prompt_number": 136,
       "text": [
        "array([[ 0,  2,  4,  6,  8],\n",
        "       [ 1,  3,  5, 70,  9]])"
       ]
      }
     ],
     "prompt_number": 136
    },
    {
     "cell_type": "code",
     "collapsed": false,
     "input": [
      "# r has also changed. they are interfaces to the same data\n",
      "r"
     ],
     "language": "python",
     "metadata": {},
     "outputs": [
      {
       "metadata": {},
       "output_type": "pyout",
       "prompt_number": 137,
       "text": [
        "array([[ 0,  1],\n",
        "       [ 2,  3],\n",
        "       [ 4,  5],\n",
        "       [ 6, 70],\n",
        "       [ 8,  9]])"
       ]
      }
     ],
     "prompt_number": 137
    },
    {
     "cell_type": "code",
     "collapsed": false,
     "input": [
      "# flattening or \"raveling\" arrays\n",
      "# returns elements in order of axes\n",
      "r.ravel()"
     ],
     "language": "python",
     "metadata": {},
     "outputs": [
      {
       "metadata": {},
       "output_type": "pyout",
       "prompt_number": 138,
       "text": [
        "array([ 0,  1,  2,  3,  4,  5,  6, 70,  8,  9])"
       ]
      }
     ],
     "prompt_number": 138
    },
    {
     "cell_type": "code",
     "collapsed": false,
     "input": [
      "# reshape the flattened array to recover the original shape\n",
      "r.ravel().reshape((5,2))"
     ],
     "language": "python",
     "metadata": {},
     "outputs": [
      {
       "metadata": {},
       "output_type": "pyout",
       "prompt_number": 139,
       "text": [
        "array([[ 0,  1],\n",
        "       [ 2,  3],\n",
        "       [ 4,  5],\n",
        "       [ 6, 70],\n",
        "       [ 8,  9]])"
       ]
      }
     ],
     "prompt_number": 139
    },
    {
     "cell_type": "code",
     "collapsed": false,
     "input": [
      "# leave one dimension unspecified and it uses the appropriate\n",
      "# shape\n",
      "r.ravel().reshape((-1,2))"
     ],
     "language": "python",
     "metadata": {},
     "outputs": [
      {
       "metadata": {},
       "output_type": "pyout",
       "prompt_number": 140,
       "text": [
        "array([[ 0,  1],\n",
        "       [ 2,  3],\n",
        "       [ 4,  5],\n",
        "       [ 6, 70],\n",
        "       [ 8,  9]])"
       ]
      }
     ],
     "prompt_number": 140
    },
    {
     "cell_type": "code",
     "collapsed": false,
     "input": [
      "# note that this does not produce r.T because\n",
      "# the raveled array is in order of axes\n",
      "r.ravel().reshape((2,-1))"
     ],
     "language": "python",
     "metadata": {},
     "outputs": [
      {
       "metadata": {},
       "output_type": "pyout",
       "prompt_number": 141,
       "text": [
        "array([[ 0,  1,  2,  3,  4],\n",
        "       [ 5,  6, 70,  8,  9]])"
       ]
      }
     ],
     "prompt_number": 141
    },
    {
     "cell_type": "code",
     "collapsed": false,
     "input": [
      "# to turn a row vector into a column vector, use reshape\n",
      "np.array([1,2,3,4,5]).reshape(-1,1)"
     ],
     "language": "python",
     "metadata": {},
     "outputs": [
      {
       "metadata": {},
       "output_type": "pyout",
       "prompt_number": 142,
       "text": [
        "array([[1],\n",
        "       [2],\n",
        "       [3],\n",
        "       [4],\n",
        "       [5]])"
       ]
      }
     ],
     "prompt_number": 142
    },
    {
     "cell_type": "code",
     "collapsed": false,
     "input": [
      "# everything works in any number of dimensions\n",
      "d3 = np.array(range(27)).reshape((3,3,3))\n",
      "d3"
     ],
     "language": "python",
     "metadata": {},
     "outputs": [
      {
       "metadata": {},
       "output_type": "pyout",
       "prompt_number": 143,
       "text": [
        "array([[[ 0,  1,  2],\n",
        "        [ 3,  4,  5],\n",
        "        [ 6,  7,  8]],\n",
        "\n",
        "       [[ 9, 10, 11],\n",
        "        [12, 13, 14],\n",
        "        [15, 16, 17]],\n",
        "\n",
        "       [[18, 19, 20],\n",
        "        [21, 22, 23],\n",
        "        [24, 25, 26]]])"
       ]
      }
     ],
     "prompt_number": 143
    },
    {
     "cell_type": "code",
     "collapsed": false,
     "input": [
      "d3[1,0,2]"
     ],
     "language": "python",
     "metadata": {},
     "outputs": [
      {
       "metadata": {},
       "output_type": "pyout",
       "prompt_number": 144,
       "text": [
        "11"
       ]
      }
     ],
     "prompt_number": 144
    },
    {
     "cell_type": "code",
     "collapsed": false,
     "input": [
      "d3[2,1:,:2]"
     ],
     "language": "python",
     "metadata": {},
     "outputs": [
      {
       "metadata": {},
       "output_type": "pyout",
       "prompt_number": 145,
       "text": [
        "array([[21, 22],\n",
        "       [24, 25]])"
       ]
      }
     ],
     "prompt_number": 145
    },
    {
     "cell_type": "code",
     "collapsed": false,
     "input": [
      "c = d3.reshape((3,-1))\n",
      "c"
     ],
     "language": "python",
     "metadata": {},
     "outputs": [
      {
       "metadata": {},
       "output_type": "pyout",
       "prompt_number": 146,
       "text": [
        "array([[ 0,  1,  2,  3,  4,  5,  6,  7,  8],\n",
        "       [ 9, 10, 11, 12, 13, 14, 15, 16, 17],\n",
        "       [18, 19, 20, 21, 22, 23, 24, 25, 26]])"
       ]
      }
     ],
     "prompt_number": 146
    },
    {
     "cell_type": "code",
     "collapsed": false,
     "input": [
      "c[:,2]"
     ],
     "language": "python",
     "metadata": {},
     "outputs": [
      {
       "metadata": {},
       "output_type": "pyout",
       "prompt_number": 147,
       "text": [
        "array([ 2, 11, 20])"
       ]
      }
     ],
     "prompt_number": 147
    },
    {
     "cell_type": "code",
     "collapsed": false,
     "input": [
      "row = np.array(range(9)) + 27\n",
      "row"
     ],
     "language": "python",
     "metadata": {},
     "outputs": [
      {
       "metadata": {},
       "output_type": "pyout",
       "prompt_number": 148,
       "text": [
        "array([27, 28, 29, 30, 31, 32, 33, 34, 35])"
       ]
      }
     ],
     "prompt_number": 148
    },
    {
     "cell_type": "code",
     "collapsed": false,
     "input": [
      "c2 = np.vstack((c,row))\n",
      "c2"
     ],
     "language": "python",
     "metadata": {},
     "outputs": [
      {
       "metadata": {},
       "output_type": "pyout",
       "prompt_number": 149,
       "text": [
        "array([[ 0,  1,  2,  3,  4,  5,  6,  7,  8],\n",
        "       [ 9, 10, 11, 12, 13, 14, 15, 16, 17],\n",
        "       [18, 19, 20, 21, 22, 23, 24, 25, 26],\n",
        "       [27, 28, 29, 30, 31, 32, 33, 34, 35]])"
       ]
      }
     ],
     "prompt_number": 149
    },
    {
     "cell_type": "code",
     "collapsed": false,
     "input": [
      "c3 = c2.reshape((6,6))\n",
      "c3"
     ],
     "language": "python",
     "metadata": {},
     "outputs": [
      {
       "metadata": {},
       "output_type": "pyout",
       "prompt_number": 150,
       "text": [
        "array([[ 0,  1,  2,  3,  4,  5],\n",
        "       [ 6,  7,  8,  9, 10, 11],\n",
        "       [12, 13, 14, 15, 16, 17],\n",
        "       [18, 19, 20, 21, 22, 23],\n",
        "       [24, 25, 26, 27, 28, 29],\n",
        "       [30, 31, 32, 33, 34, 35]])"
       ]
      }
     ],
     "prompt_number": 150
    },
    {
     "cell_type": "code",
     "collapsed": false,
     "input": [
      "col = np.ones((6,1),dtype=int)\n",
      "col"
     ],
     "language": "python",
     "metadata": {},
     "outputs": [
      {
       "metadata": {},
       "output_type": "pyout",
       "prompt_number": 151,
       "text": [
        "array([[1],\n",
        "       [1],\n",
        "       [1],\n",
        "       [1],\n",
        "       [1],\n",
        "       [1]])"
       ]
      }
     ],
     "prompt_number": 151
    },
    {
     "cell_type": "code",
     "collapsed": false,
     "input": [
      "c4 = np.hstack((c3,col))\n",
      "c4"
     ],
     "language": "python",
     "metadata": {},
     "outputs": [
      {
       "metadata": {},
       "output_type": "pyout",
       "prompt_number": 152,
       "text": [
        "array([[ 0,  1,  2,  3,  4,  5,  1],\n",
        "       [ 6,  7,  8,  9, 10, 11,  1],\n",
        "       [12, 13, 14, 15, 16, 17,  1],\n",
        "       [18, 19, 20, 21, 22, 23,  1],\n",
        "       [24, 25, 26, 27, 28, 29,  1],\n",
        "       [30, 31, 32, 33, 34, 35,  1]])"
       ]
      }
     ],
     "prompt_number": 152
    },
    {
     "cell_type": "code",
     "collapsed": false,
     "input": [
      "# numerical operations are convenient\n",
      "I = np.array(range(24)).reshape(4,6)\n",
      "I"
     ],
     "language": "python",
     "metadata": {},
     "outputs": [
      {
       "metadata": {},
       "output_type": "pyout",
       "prompt_number": 153,
       "text": [
        "array([[ 0,  1,  2,  3,  4,  5],\n",
        "       [ 6,  7,  8,  9, 10, 11],\n",
        "       [12, 13, 14, 15, 16, 17],\n",
        "       [18, 19, 20, 21, 22, 23]])"
       ]
      }
     ],
     "prompt_number": 153
    },
    {
     "cell_type": "code",
     "collapsed": false,
     "input": [
      "# operation with a scalar performs operation elementwise\n",
      "0 - I"
     ],
     "language": "python",
     "metadata": {},
     "outputs": [
      {
       "metadata": {},
       "output_type": "pyout",
       "prompt_number": 154,
       "text": [
        "array([[  0,  -1,  -2,  -3,  -4,  -5],\n",
        "       [ -6,  -7,  -8,  -9, -10, -11],\n",
        "       [-12, -13, -14, -15, -16, -17],\n",
        "       [-18, -19, -20, -21, -22, -23]])"
       ]
      }
     ],
     "prompt_number": 154
    },
    {
     "cell_type": "code",
     "collapsed": false,
     "input": [
      "# any necessary type conversions are done\n",
      "I * 2.5"
     ],
     "language": "python",
     "metadata": {},
     "outputs": [
      {
       "metadata": {},
       "output_type": "pyout",
       "prompt_number": 155,
       "text": [
        "array([[  0. ,   2.5,   5. ,   7.5,  10. ,  12.5],\n",
        "       [ 15. ,  17.5,  20. ,  22.5,  25. ,  27.5],\n",
        "       [ 30. ,  32.5,  35. ,  37.5,  40. ,  42.5],\n",
        "       [ 45. ,  47.5,  50. ,  52.5,  55. ,  57.5]])"
       ]
      }
     ],
     "prompt_number": 155
    },
    {
     "cell_type": "code",
     "collapsed": false,
     "input": [
      "# logical operations work too\n",
      "I > 8"
     ],
     "language": "python",
     "metadata": {},
     "outputs": [
      {
       "metadata": {},
       "output_type": "pyout",
       "prompt_number": 156,
       "text": [
        "array([[False, False, False, False, False, False],\n",
        "       [False, False, False,  True,  True,  True],\n",
        "       [ True,  True,  True,  True,  True,  True],\n",
        "       [ True,  True,  True,  True,  True,  True]], dtype=bool)"
       ]
      }
     ],
     "prompt_number": 156
    },
    {
     "cell_type": "code",
     "collapsed": false,
     "input": [
      "# arithmetic operations can combine arrays in useful ways\n",
      "\n",
      "# operation on a 2d array by a row vector performs operation per-row\n",
      "# this avoids the MATLAB idiom of using \"repmat\" to tile copies of an array\n",
      "\n",
      "I + np.array([0, 100, 0, 200, 0, 300])"
     ],
     "language": "python",
     "metadata": {},
     "outputs": [
      {
       "metadata": {},
       "output_type": "pyout",
       "prompt_number": 157,
       "text": [
        "array([[  0, 101,   2, 203,   4, 305],\n",
        "       [  6, 107,   8, 209,  10, 311],\n",
        "       [ 12, 113,  14, 215,  16, 317],\n",
        "       [ 18, 119,  20, 221,  22, 323]])"
       ]
      }
     ],
     "prompt_number": 157
    },
    {
     "cell_type": "code",
     "collapsed": false,
     "input": [
      "# operation on a 2d array by a column vector performs operation per-column\n",
      "I * np.array([[0],\n",
      "              [1],\n",
      "              [1],\n",
      "              [0]])"
     ],
     "language": "python",
     "metadata": {},
     "outputs": [
      {
       "metadata": {},
       "output_type": "pyout",
       "prompt_number": 158,
       "text": [
        "array([[ 0,  0,  0,  0,  0,  0],\n",
        "       [ 6,  7,  8,  9, 10, 11],\n",
        "       [12, 13, 14, 15, 16, 17],\n",
        "       [ 0,  0,  0,  0,  0,  0]])"
       ]
      }
     ],
     "prompt_number": 158
    },
    {
     "cell_type": "code",
     "collapsed": false,
     "input": [
      "# operation on same-size array performs operation elementwise \n",
      "s = np.random.choice([0,2],size=(4,6))\n",
      "s"
     ],
     "language": "python",
     "metadata": {},
     "outputs": [
      {
       "metadata": {},
       "output_type": "pyout",
       "prompt_number": 159,
       "text": [
        "array([[2, 0, 0, 0, 2, 2],\n",
        "       [0, 2, 0, 0, 0, 0],\n",
        "       [2, 0, 0, 2, 0, 0],\n",
        "       [0, 0, 2, 2, 0, 0]])"
       ]
      }
     ],
     "prompt_number": 159
    },
    {
     "cell_type": "code",
     "collapsed": false,
     "input": [
      "I * s"
     ],
     "language": "python",
     "metadata": {},
     "outputs": [
      {
       "metadata": {},
       "output_type": "pyout",
       "prompt_number": 160,
       "text": [
        "array([[ 0,  0,  0,  0,  8, 10],\n",
        "       [ 0, 14,  0,  0,  0,  0],\n",
        "       [24,  0,  0, 30,  0,  0],\n",
        "       [ 0,  0, 40, 42,  0,  0]])"
       ]
      }
     ],
     "prompt_number": 160
    },
    {
     "cell_type": "code",
     "collapsed": false,
     "input": [
      "# arithmetic operation using boolean converts boolean to 1,0\n",
      "div5 = I % 5 == 0\n",
      "div5"
     ],
     "language": "python",
     "metadata": {},
     "outputs": [
      {
       "metadata": {},
       "output_type": "pyout",
       "prompt_number": 161,
       "text": [
        "array([[ True, False, False, False, False,  True],\n",
        "       [False, False, False, False,  True, False],\n",
        "       [False, False, False,  True, False, False],\n",
        "       [False, False,  True, False, False, False]], dtype=bool)"
       ]
      }
     ],
     "prompt_number": 161
    },
    {
     "cell_type": "code",
     "collapsed": false,
     "input": [
      "I * div5"
     ],
     "language": "python",
     "metadata": {},
     "outputs": [
      {
       "metadata": {},
       "output_type": "pyout",
       "prompt_number": 162,
       "text": [
        "array([[ 0,  0,  0,  0,  0,  5],\n",
        "       [ 0,  0,  0,  0, 10,  0],\n",
        "       [ 0,  0,  0, 15,  0,  0],\n",
        "       [ 0,  0, 20,  0,  0,  0]])"
       ]
      }
     ],
     "prompt_number": 162
    },
    {
     "cell_type": "code",
     "collapsed": false,
     "input": [
      "# arrays can be used to index other arrays\n",
      "\n",
      "pi = np.array([3, 1, 4, 1, 5, 9, 2, 6, 5, 3, 5, 8, 9, 7, 9, 3, 2])\n",
      "pi[[11,0,2,1]]"
     ],
     "language": "python",
     "metadata": {},
     "outputs": [
      {
       "metadata": {},
       "output_type": "pyout",
       "prompt_number": 163,
       "text": [
        "array([8, 3, 4, 1])"
       ]
      }
     ],
     "prompt_number": 163
    },
    {
     "cell_type": "code",
     "collapsed": false,
     "input": [
      "# numpy.where can produce an index for a given condition\n",
      "\n",
      "np.where(pi % 2 == 0)"
     ],
     "language": "python",
     "metadata": {},
     "outputs": [
      {
       "metadata": {},
       "output_type": "pyout",
       "prompt_number": 164,
       "text": [
        "(array([ 2,  6,  7, 11, 16]),)"
       ]
      }
     ],
     "prompt_number": 164
    },
    {
     "cell_type": "code",
     "collapsed": false,
     "input": [
      "# indexing by boolean works too\n",
      "\n",
      "pi[pi % 2 == 0]"
     ],
     "language": "python",
     "metadata": {},
     "outputs": [
      {
       "metadata": {},
       "output_type": "pyout",
       "prompt_number": 165,
       "text": [
        "array([4, 2, 6, 8, 2])"
       ]
      }
     ],
     "prompt_number": 165
    },
    {
     "cell_type": "code",
     "collapsed": false,
     "input": [
      "# indexing by boolean can be used for assignment\n",
      "J = np.random.randint(-2,3,size=(5,5))\n",
      "J"
     ],
     "language": "python",
     "metadata": {},
     "outputs": [
      {
       "metadata": {},
       "output_type": "pyout",
       "prompt_number": 166,
       "text": [
        "array([[ 1,  1,  2,  0,  1],\n",
        "       [ 2, -2,  0,  2,  0],\n",
        "       [ 2,  1,  2, -1, -1],\n",
        "       [ 1, -2, -1,  2,  1],\n",
        "       [-2,  0,  2,  0,  2]])"
       ]
      }
     ],
     "prompt_number": 166
    },
    {
     "cell_type": "code",
     "collapsed": false,
     "input": [
      "J[J < 0] = 99\n",
      "J"
     ],
     "language": "python",
     "metadata": {},
     "outputs": [
      {
       "metadata": {},
       "output_type": "pyout",
       "prompt_number": 167,
       "text": [
        "array([[ 1,  1,  2,  0,  1],\n",
        "       [ 2, 99,  0,  2,  0],\n",
        "       [ 2,  1,  2, 99, 99],\n",
        "       [ 1, 99, 99,  2,  1],\n",
        "       [99,  0,  2,  0,  2]])"
       ]
      }
     ],
     "prompt_number": 167
    },
    {
     "cell_type": "code",
     "collapsed": false,
     "input": [
      "# by the way, if you want to tile an array as with MATLAB's repmat, you can\n",
      "\n",
      "t = np.array([1,2,3])\n",
      "np.tile(t,(3,2))"
     ],
     "language": "python",
     "metadata": {},
     "outputs": [
      {
       "metadata": {},
       "output_type": "pyout",
       "prompt_number": 168,
       "text": [
        "array([[1, 2, 3, 1, 2, 3],\n",
        "       [1, 2, 3, 1, 2, 3],\n",
        "       [1, 2, 3, 1, 2, 3]])"
       ]
      }
     ],
     "prompt_number": 168
    },
    {
     "cell_type": "code",
     "collapsed": false,
     "input": [
      "# create a non-inclusive range with arange\n",
      "\n",
      "np.arange(5)"
     ],
     "language": "python",
     "metadata": {},
     "outputs": [
      {
       "metadata": {},
       "output_type": "pyout",
       "prompt_number": 169,
       "text": [
        "array([0, 1, 2, 3, 4])"
       ]
      }
     ],
     "prompt_number": 169
    },
    {
     "cell_type": "code",
     "collapsed": false,
     "input": [
      "# give arange the inclusive minimum, exclusive maximum, and step\n",
      "\n",
      "np.arange(1,3,0.2)"
     ],
     "language": "python",
     "metadata": {},
     "outputs": [
      {
       "metadata": {},
       "output_type": "pyout",
       "prompt_number": 170,
       "text": [
        "array([ 1. ,  1.2,  1.4,  1.6,  1.8,  2. ,  2.2,  2.4,  2.6,  2.8])"
       ]
      }
     ],
     "prompt_number": 170
    },
    {
     "cell_type": "code",
     "collapsed": false,
     "input": [
      "# to create an inclusive range use linspace\n",
      "# give it the inclusive minimum, inclusive maximum, and number of points\n",
      "np.linspace(-1,1,4)"
     ],
     "language": "python",
     "metadata": {},
     "outputs": [
      {
       "metadata": {},
       "output_type": "pyout",
       "prompt_number": 171,
       "text": [
        "array([-1.        , -0.33333333,  0.33333333,  1.        ])"
       ]
      }
     ],
     "prompt_number": 171
    }
   ],
   "metadata": {}
  }
 ]
}