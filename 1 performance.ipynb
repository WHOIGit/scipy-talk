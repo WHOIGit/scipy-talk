{
 "cells": [
  {
   "cell_type": "code",
   "execution_count": 2,
   "id": "d35006e3",
   "metadata": {
    "collapsed": false
   },
   "outputs": [
    {
     "data": {
      "text/plain": [
       "0.5001795139728076"
      ]
     },
     "execution_count": 2,
     "metadata": {},
     "output_type": "execute_result"
    }
   ],
   "source": [
    "from random import random\n",
    "\n",
    "def random2d(n=1000):\n",
    "    return [[random() for j in range(n)] for i in range(n)]\n",
    "\n",
    "# now let's do 2d averaging\n",
    "def average2d(a):\n",
    "    # there's no way to tell how many elements\n",
    "    # there are because each list in the list of lists\n",
    "    # could be a different length\n",
    "    n, s = 0, 0\n",
    "    for row in a:\n",
    "        for element in row:\n",
    "            s += element\n",
    "            n += 1\n",
    "    return s / n\n",
    "\n",
    "n = 3000\n",
    "\n",
    "R = random2d(n)\n",
    "average2d(R)"
   ]
  },
  {
   "cell_type": "code",
   "execution_count": 3,
   "id": "3b908f7d",
   "metadata": {
    "collapsed": false
   },
   "outputs": [
    {
     "name": "stdout",
     "output_type": "stream",
     "text": [
      "1 loops, best of 3: 604 ms per loop\n"
     ]
    }
   ],
   "source": [
    "%%timeit\n",
    "\n",
    "# how fast is this?\n",
    "average2d(R)"
   ]
  },
  {
   "cell_type": "code",
   "execution_count": 10,
   "id": "bc87698d",
   "metadata": {
    "collapsed": false
   },
   "outputs": [
    {
     "data": {
      "text/plain": [
       "array([[ 0.16442591,  0.06019215,  0.13574315, ...,  0.95115628,\n",
       "         0.32276626,  0.69702153],\n",
       "       [ 0.31768723,  0.93409853,  0.34722531, ...,  0.52851659,\n",
       "         0.36773928,  0.9316535 ],\n",
       "       [ 0.91488032,  0.88127737,  0.87042717, ...,  0.85553466,\n",
       "         0.30377961,  0.95292511],\n",
       "       ..., \n",
       "       [ 0.86619297,  0.64068635,  0.0671692 , ...,  0.52829387,\n",
       "         0.52078797,  0.13971299],\n",
       "       [ 0.50046661,  0.2426449 ,  0.59872748, ...,  0.76729318,\n",
       "         0.5692301 ,  0.74018849],\n",
       "       [ 0.87473508,  0.64598814,  0.91931996, ...,  0.71743977,\n",
       "         0.27391853,  0.18721739]])"
      ]
     },
     "execution_count": 10,
     "metadata": {},
     "output_type": "execute_result"
    }
   ],
   "source": [
    "import numpy as np\n",
    "\n",
    "R = np.random.uniform(size=(n,n))\n",
    "R"
   ]
  },
  {
   "cell_type": "code",
   "execution_count": 11,
   "id": "1efa5cf4",
   "metadata": {
    "collapsed": false
   },
   "outputs": [
    {
     "data": {
      "text/plain": [
       "0.50023059066229336"
      ]
     },
     "execution_count": 11,
     "metadata": {},
     "output_type": "execute_result"
    }
   ],
   "source": [
    "np.mean(R)"
   ]
  },
  {
   "cell_type": "code",
   "execution_count": 12,
   "id": "761124d1",
   "metadata": {
    "collapsed": false
   },
   "outputs": [
    {
     "name": "stdout",
     "output_type": "stream",
     "text": [
      "100 loops, best of 3: 10.4 ms per loop\n"
     ]
    }
   ],
   "source": [
    "%%timeit\n",
    "\n",
    "np.mean(R)"
   ]
  }
 ],
 "metadata": {},
 "nbformat": 4,
 "nbformat_minor": 5
}
