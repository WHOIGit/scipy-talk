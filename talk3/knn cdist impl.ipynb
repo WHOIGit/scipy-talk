{
 "metadata": {
  "name": "",
  "signature": "sha256:498fc594995fda161e3e1efec79a47effaa578525d3184d616a4802c8aaf45cb"
 },
 "nbformat": 3,
 "nbformat_minor": 0,
 "worksheets": [
  {
   "cells": [
    {
     "cell_type": "code",
     "collapsed": false,
     "input": [
      "%matplotlib inline\n",
      "import numpy as np\n",
      "from matplotlib import pyplot as plt"
     ],
     "language": "python",
     "metadata": {},
     "outputs": [
      {
       "output_type": "stream",
       "stream": "stderr",
       "text": [
        "/usr/lib/python2.7/dist-packages/matplotlib/font_manager.py:273: UserWarning: Matplotlib is building the font cache using fc-list. This may take a moment.\n",
        "  warnings.warn('Matplotlib is building the font cache using fc-list. This may take a moment.')\n"
       ]
      }
     ],
     "prompt_number": 1
    },
    {
     "cell_type": "code",
     "collapsed": false,
     "input": [
      "# make datasets\n",
      "I = np.arange(4)\n",
      "J = np.arange(1,5)\n",
      "IJ = np.vstack((I,J)).T\n",
      "\n",
      "K = np.arange(2,5)\n",
      "L = np.arange(3,6)\n",
      "KL = np.vstack((K,L)).T\n",
      "\n",
      "IJ, KL"
     ],
     "language": "python",
     "metadata": {},
     "outputs": [
      {
       "metadata": {},
       "output_type": "pyout",
       "prompt_number": 2,
       "text": [
        "(array([[0, 1],\n",
        "        [1, 2],\n",
        "        [2, 3],\n",
        "        [3, 4]]), array([[2, 3],\n",
        "        [3, 4],\n",
        "        [4, 5]]))"
       ]
      }
     ],
     "prompt_number": 2
    },
    {
     "cell_type": "code",
     "collapsed": false,
     "input": [
      "# here's what cdist tells us\n",
      "from scipy.spatial import distance\n",
      "\n",
      "distance.cdist(IJ, KL)"
     ],
     "language": "python",
     "metadata": {},
     "outputs": [
      {
       "metadata": {},
       "output_type": "pyout",
       "prompt_number": 3,
       "text": [
        "array([[ 2.82842712,  4.24264069,  5.65685425],\n",
        "       [ 1.41421356,  2.82842712,  4.24264069],\n",
        "       [ 0.        ,  1.41421356,  2.82842712],\n",
        "       [ 1.41421356,  0.        ,  1.41421356]])"
       ]
      }
     ],
     "prompt_number": 3
    },
    {
     "cell_type": "code",
     "collapsed": false,
     "input": [
      "# dist is sqrt((x0-x1)**2 + (y0-y1)**2)\n",
      "M, N = np.mgrid[:IJ.shape[0],:KL.shape[0]]\n",
      "\n",
      "np.sqrt(np.sum((IJ[M] - KL[N])**2,axis=2))"
     ],
     "language": "python",
     "metadata": {},
     "outputs": [
      {
       "metadata": {},
       "output_type": "pyout",
       "prompt_number": 6,
       "text": [
        "array([[ 2.82842712,  4.24264069,  5.65685425],\n",
        "       [ 1.41421356,  2.82842712,  4.24264069],\n",
        "       [ 0.        ,  1.41421356,  2.82842712],\n",
        "       [ 1.41421356,  0.        ,  1.41421356]])"
       ]
      }
     ],
     "prompt_number": 6
    },
    {
     "cell_type": "code",
     "collapsed": false,
     "input": [
      "def cdist(XA, XB):\n",
      "    M, N = np.mgrid[:XA.shape[0],:XB.shape[0]]\n",
      "    return np.sqrt(np.sum((XA[M] - XB[N])**2,axis=2))\n",
      "\n",
      "cdist(IJ, KL)"
     ],
     "language": "python",
     "metadata": {},
     "outputs": [
      {
       "metadata": {},
       "output_type": "pyout",
       "prompt_number": 7,
       "text": [
        "array([[ 2.82842712,  4.24264069,  5.65685425],\n",
        "       [ 1.41421356,  2.82842712,  4.24264069],\n",
        "       [ 0.        ,  1.41421356,  2.82842712],\n",
        "       [ 1.41421356,  0.        ,  1.41421356]])"
       ]
      }
     ],
     "prompt_number": 7
    }
   ],
   "metadata": {}
  }
 ]
}