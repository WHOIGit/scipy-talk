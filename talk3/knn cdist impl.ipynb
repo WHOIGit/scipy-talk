{
 "metadata": {
  "name": "",
  "signature": "sha256:7d79cc46046c16e35c3088b7cee8fb952170a8d13056abdb2390120609de3d24"
 },
 "nbformat": 3,
 "nbformat_minor": 0,
 "worksheets": [
  {
   "cells": [
    {
     "cell_type": "code",
     "collapsed": false,
     "input": [
      "%matplotlib inline\n",
      "import numpy as np\n",
      "from matplotlib import pyplot as plt"
     ],
     "language": "python",
     "metadata": {},
     "outputs": [],
     "prompt_number": 2
    },
    {
     "cell_type": "code",
     "collapsed": false,
     "input": [
      "# make datasets\n",
      "a = np.arange(4)\n",
      "b = np.arange(1,5)\n",
      "I = np.vstack((a,b)).T\n",
      "\n",
      "a = np.arange(2,5)\n",
      "b = np.arange(3,6)\n",
      "J = np.vstack((a,b)).T\n",
      "\n",
      "I, J"
     ],
     "language": "python",
     "metadata": {},
     "outputs": [
      {
       "metadata": {},
       "output_type": "pyout",
       "prompt_number": 13,
       "text": [
        "(array([[0, 1],\n",
        "        [1, 2],\n",
        "        [2, 3],\n",
        "        [3, 4]]), array([[2, 3],\n",
        "        [3, 4],\n",
        "        [4, 5]]))"
       ]
      }
     ],
     "prompt_number": 13
    },
    {
     "cell_type": "code",
     "collapsed": false,
     "input": [
      "# here's what cdist tells us\n",
      "from scipy.spatial import distance\n",
      "\n",
      "distance.cdist(I, J)"
     ],
     "language": "python",
     "metadata": {},
     "outputs": [
      {
       "metadata": {},
       "output_type": "pyout",
       "prompt_number": 14,
       "text": [
        "array([[ 2.82842712,  4.24264069,  5.65685425],\n",
        "       [ 1.41421356,  2.82842712,  4.24264069],\n",
        "       [ 0.        ,  1.41421356,  2.82842712],\n",
        "       [ 1.41421356,  0.        ,  1.41421356]])"
       ]
      }
     ],
     "prompt_number": 14
    },
    {
     "cell_type": "code",
     "collapsed": false,
     "input": [
      "# dist is sqrt((x0-x1)**2 + (y0-y1)**2)\n",
      "i, j = np.mgrid[:I.shape[0],:J.shape[0]]"
     ],
     "language": "python",
     "metadata": {},
     "outputs": [],
     "prompt_number": 16
    },
    {
     "cell_type": "code",
     "collapsed": false,
     "input": [
      "np.sqrt(np.sum((I[i] - J[j])**2,axis=2))"
     ],
     "language": "python",
     "metadata": {},
     "outputs": [
      {
       "metadata": {},
       "output_type": "pyout",
       "prompt_number": 17,
       "text": [
        "array([[ 2.82842712,  4.24264069,  5.65685425],\n",
        "       [ 1.41421356,  2.82842712,  4.24264069],\n",
        "       [ 0.        ,  1.41421356,  2.82842712],\n",
        "       [ 1.41421356,  0.        ,  1.41421356]])"
       ]
      }
     ],
     "prompt_number": 17
    },
    {
     "cell_type": "code",
     "collapsed": false,
     "input": [
      "def cdist(I, J):\n",
      "    i, j = np.mgrid[:I.shape[0],:J.shape[0]]\n",
      "    return np.sqrt(np.sum((I[i] - J[j])**2,axis=2))\n",
      "\n",
      "cdist(I, J)"
     ],
     "language": "python",
     "metadata": {},
     "outputs": [
      {
       "metadata": {},
       "output_type": "pyout",
       "prompt_number": 18,
       "text": [
        "array([[ 2.82842712,  4.24264069,  5.65685425],\n",
        "       [ 1.41421356,  2.82842712,  4.24264069],\n",
        "       [ 0.        ,  1.41421356,  2.82842712],\n",
        "       [ 1.41421356,  0.        ,  1.41421356]])"
       ]
      }
     ],
     "prompt_number": 18
    }
   ],
   "metadata": {}
  }
 ]
}