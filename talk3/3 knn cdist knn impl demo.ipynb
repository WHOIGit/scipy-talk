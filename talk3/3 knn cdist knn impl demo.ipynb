{
 "metadata": {
  "name": "",
  "signature": "sha256:956a80871aa7eeb16b663e257f70ace65bff6602e6aaf9f984d5166875a54d2d"
 },
 "nbformat": 3,
 "nbformat_minor": 0,
 "worksheets": [
  {
   "cells": [
    {
     "cell_type": "code",
     "collapsed": false,
     "input": [
      "%matplotlib inline\n",
      "import numpy as np\n",
      "from matplotlib import pyplot as plt"
     ],
     "language": "python",
     "metadata": {},
     "outputs": [],
     "prompt_number": 8
    },
    {
     "cell_type": "code",
     "collapsed": false,
     "input": [
      "# use our cdist function developed in the previous notebook\n",
      "def cdist(I, J):\n",
      "    i, j = np.mgrid[:I.shape[0],:J.shape[0]]\n",
      "    return np.sqrt(np.sum((I[i] - J[j])**2,axis=2))"
     ],
     "language": "python",
     "metadata": {},
     "outputs": [],
     "prompt_number": 9
    },
    {
     "cell_type": "code",
     "collapsed": false,
     "input": [
      "# create some randomly-located points\n",
      "n_points=10\n",
      "I, J = np.random.uniform(size=(2,n_points))\n",
      "IJ = np.vstack((I,J)).T\n",
      "\n",
      "plt.figure(figsize=(7,7))\n",
      "plt.gca().set_aspect('equal')\n",
      "plt.scatter(I,J)"
     ],
     "language": "python",
     "metadata": {},
     "outputs": [
      {
       "metadata": {},
       "output_type": "pyout",
       "prompt_number": 10,
       "text": [
        "<matplotlib.collections.PathCollection at 0x7f48f7a38a10>"
       ]
      },
      {
       "metadata": {},
       "output_type": "display_data",
       "png": "[encoded data removed]",
       "text": [
        "<matplotlib.figure.Figure at 0x7f490014f750>"
       ]
      }
     ],
     "prompt_number": 10
    },
    {
     "cell_type": "code",
     "collapsed": false,
     "input": [
      "# compute the pairwise distances between all the points\n",
      "D = cdist(IJ,IJ)\n",
      "D"
     ],
     "language": "python",
     "metadata": {},
     "outputs": [
      {
       "metadata": {},
       "output_type": "pyout",
       "prompt_number": 11,
       "text": [
        "array([[ 0.        ,  0.59933659,  0.88355201,  0.36984971,  0.77510674,\n",
        "         0.85022589,  0.95970355,  0.74342719,  0.22454025,  0.77656111],\n",
        "       [ 0.59933659,  0.        ,  0.2882127 ,  0.319054  ,  0.80462574,\n",
        "         0.54808932,  0.49818126,  0.26935018,  0.56017889,  0.18146198],\n",
        "       [ 0.88355201,  0.2882127 ,  0.        ,  0.59768105,  1.00319126,\n",
        "         0.64575378,  0.48242405,  0.35727912,  0.84527223,  0.10722735],\n",
        "       [ 0.36984971,  0.319054  ,  0.59768105,  0.        ,  0.56481604,\n",
        "         0.49609494,  0.58994834,  0.37998906,  0.25221039,  0.49489536],\n",
        "       [ 0.77510674,  0.80462574,  1.00319126,  0.56481604,  0.        ,\n",
        "         0.43262158,  0.67372559,  0.65092198,  0.55063543,  0.92965416],\n",
        "       [ 0.85022589,  0.54808932,  0.64575378,  0.49609494,  0.43262158,\n",
        "         0.        ,  0.24169008,  0.29968322,  0.66340048,  0.60262147],\n",
        "       [ 0.95970355,  0.49818126,  0.48242405,  0.58994834,  0.67372559,\n",
        "         0.24169008,  0.        ,  0.23704398,  0.80986817,  0.47607054],\n",
        "       [ 0.74342719,  0.26935018,  0.35727912,  0.37998906,  0.65092198,\n",
        "         0.29968322,  0.23704398,  0.        ,  0.62156585,  0.30353172],\n",
        "       [ 0.22454025,  0.56017889,  0.84527223,  0.25221039,  0.55063543,\n",
        "         0.66340048,  0.80986817,  0.62156585,  0.        ,  0.7403559 ],\n",
        "       [ 0.77656111,  0.18146198,  0.10722735,  0.49489536,  0.92965416,\n",
        "         0.60262147,  0.47607054,  0.30353172,  0.7403559 ,  0.        ]])"
       ]
      }
     ],
     "prompt_number": 11
    },
    {
     "cell_type": "code",
     "collapsed": false,
     "input": [
      "# if we sort along one axis we get the distance to the nearest neighbors\n",
      "# of each point\n",
      "# note that the distances in the first column are zero because each point\n",
      "# is closest to itself\n",
      "nn_d = np.sort(D,axis=1)\n",
      "nn_d"
     ],
     "language": "python",
     "metadata": {},
     "outputs": [
      {
       "metadata": {},
       "output_type": "pyout",
       "prompt_number": 12,
       "text": [
        "array([[ 0.        ,  0.22454025,  0.36984971,  0.59933659,  0.74342719,\n",
        "         0.77510674,  0.77656111,  0.85022589,  0.88355201,  0.95970355],\n",
        "       [ 0.        ,  0.18146198,  0.26935018,  0.2882127 ,  0.319054  ,\n",
        "         0.49818126,  0.54808932,  0.56017889,  0.59933659,  0.80462574],\n",
        "       [ 0.        ,  0.10722735,  0.2882127 ,  0.35727912,  0.48242405,\n",
        "         0.59768105,  0.64575378,  0.84527223,  0.88355201,  1.00319126],\n",
        "       [ 0.        ,  0.25221039,  0.319054  ,  0.36984971,  0.37998906,\n",
        "         0.49489536,  0.49609494,  0.56481604,  0.58994834,  0.59768105],\n",
        "       [ 0.        ,  0.43262158,  0.55063543,  0.56481604,  0.65092198,\n",
        "         0.67372559,  0.77510674,  0.80462574,  0.92965416,  1.00319126],\n",
        "       [ 0.        ,  0.24169008,  0.29968322,  0.43262158,  0.49609494,\n",
        "         0.54808932,  0.60262147,  0.64575378,  0.66340048,  0.85022589],\n",
        "       [ 0.        ,  0.23704398,  0.24169008,  0.47607054,  0.48242405,\n",
        "         0.49818126,  0.58994834,  0.67372559,  0.80986817,  0.95970355],\n",
        "       [ 0.        ,  0.23704398,  0.26935018,  0.29968322,  0.30353172,\n",
        "         0.35727912,  0.37998906,  0.62156585,  0.65092198,  0.74342719],\n",
        "       [ 0.        ,  0.22454025,  0.25221039,  0.55063543,  0.56017889,\n",
        "         0.62156585,  0.66340048,  0.7403559 ,  0.80986817,  0.84527223],\n",
        "       [ 0.        ,  0.10722735,  0.18146198,  0.30353172,  0.47607054,\n",
        "         0.49489536,  0.60262147,  0.7403559 ,  0.77656111,  0.92965416]])"
       ]
      }
     ],
     "prompt_number": 12
    },
    {
     "cell_type": "code",
     "collapsed": false,
     "input": [
      "# to get the closest k distances, we just truncate this array along the second axis\n",
      "nn_d[:,:3]"
     ],
     "language": "python",
     "metadata": {},
     "outputs": [
      {
       "metadata": {},
       "output_type": "pyout",
       "prompt_number": 13,
       "text": [
        "array([[ 0.        ,  0.22454025,  0.36984971],\n",
        "       [ 0.        ,  0.18146198,  0.26935018],\n",
        "       [ 0.        ,  0.10722735,  0.2882127 ],\n",
        "       [ 0.        ,  0.25221039,  0.319054  ],\n",
        "       [ 0.        ,  0.43262158,  0.55063543],\n",
        "       [ 0.        ,  0.24169008,  0.29968322],\n",
        "       [ 0.        ,  0.23704398,  0.24169008],\n",
        "       [ 0.        ,  0.23704398,  0.26935018],\n",
        "       [ 0.        ,  0.22454025,  0.25221039],\n",
        "       [ 0.        ,  0.10722735,  0.18146198]])"
       ]
      }
     ],
     "prompt_number": 13
    },
    {
     "cell_type": "code",
     "collapsed": false,
     "input": [
      "# argsort of the distance array tells us *which* points are nearest.\n",
      "# note that the first column is sequential because each point is closest to itself\n",
      "nn_ix = np.argsort(D,axis=1)\n",
      "nn_ix"
     ],
     "language": "python",
     "metadata": {},
     "outputs": [
      {
       "metadata": {},
       "output_type": "pyout",
       "prompt_number": 14,
       "text": [
        "array([[0, 8, 3, 1, 7, 4, 9, 5, 2, 6],\n",
        "       [1, 9, 7, 2, 3, 6, 5, 8, 0, 4],\n",
        "       [2, 9, 1, 7, 6, 3, 5, 8, 0, 4],\n",
        "       [3, 8, 1, 0, 7, 9, 5, 4, 6, 2],\n",
        "       [4, 5, 8, 3, 7, 6, 0, 1, 9, 2],\n",
        "       [5, 6, 7, 4, 3, 1, 9, 2, 8, 0],\n",
        "       [6, 7, 5, 9, 2, 1, 3, 4, 8, 0],\n",
        "       [7, 6, 1, 5, 9, 2, 3, 8, 4, 0],\n",
        "       [8, 0, 3, 4, 1, 7, 5, 9, 6, 2],\n",
        "       [9, 2, 1, 7, 6, 3, 5, 8, 0, 4]])"
       ]
      }
     ],
     "prompt_number": 14
    },
    {
     "cell_type": "code",
     "collapsed": false,
     "input": [
      "# and we can subset it by whatever k we want\n",
      "k=3\n",
      "knn_ix = nn_ix[:,:k]\n",
      "knn_ix"
     ],
     "language": "python",
     "metadata": {},
     "outputs": [
      {
       "metadata": {},
       "output_type": "pyout",
       "prompt_number": 15,
       "text": [
        "array([[0, 8, 3],\n",
        "       [1, 9, 7],\n",
        "       [2, 9, 1],\n",
        "       [3, 8, 1],\n",
        "       [4, 5, 8],\n",
        "       [5, 6, 7],\n",
        "       [6, 7, 5],\n",
        "       [7, 6, 1],\n",
        "       [8, 0, 3],\n",
        "       [9, 2, 1]])"
       ]
      }
     ],
     "prompt_number": 15
    },
    {
     "cell_type": "code",
     "collapsed": false,
     "input": [
      "# to get the distances that correspond to the indices, we need\n",
      "# to use a fairly tricky indexing scheme."
     ],
     "language": "python",
     "metadata": {},
     "outputs": [],
     "prompt_number": 16
    },
    {
     "cell_type": "code",
     "collapsed": false,
     "input": [
      "# first create a matrix the same size as knn_ix of row numbers\n",
      "row, _ = np.mgrid[:IJ.shape[0],:k]\n",
      "row"
     ],
     "language": "python",
     "metadata": {},
     "outputs": [
      {
       "metadata": {},
       "output_type": "pyout",
       "prompt_number": 17,
       "text": [
        "array([[0, 0, 0],\n",
        "       [1, 1, 1],\n",
        "       [2, 2, 2],\n",
        "       [3, 3, 3],\n",
        "       [4, 4, 4],\n",
        "       [5, 5, 5],\n",
        "       [6, 6, 6],\n",
        "       [7, 7, 7],\n",
        "       [8, 8, 8],\n",
        "       [9, 9, 9]])"
       ]
      }
     ],
     "prompt_number": 17
    },
    {
     "cell_type": "code",
     "collapsed": false,
     "input": [
      "# now we can use the row matrix as the row index into D,\n",
      "# and the knn_ix matrix as the column index\n",
      "knn_dist = D[row,knn_ix]\n",
      "knn_dist"
     ],
     "language": "python",
     "metadata": {},
     "outputs": [
      {
       "metadata": {},
       "output_type": "pyout",
       "prompt_number": 18,
       "text": [
        "array([[ 0.        ,  0.22454025,  0.36984971],\n",
        "       [ 0.        ,  0.18146198,  0.26935018],\n",
        "       [ 0.        ,  0.10722735,  0.2882127 ],\n",
        "       [ 0.        ,  0.25221039,  0.319054  ],\n",
        "       [ 0.        ,  0.43262158,  0.55063543],\n",
        "       [ 0.        ,  0.24169008,  0.29968322],\n",
        "       [ 0.        ,  0.23704398,  0.24169008],\n",
        "       [ 0.        ,  0.23704398,  0.26935018],\n",
        "       [ 0.        ,  0.22454025,  0.25221039],\n",
        "       [ 0.        ,  0.10722735,  0.18146198]])"
       ]
      }
     ],
     "prompt_number": 18
    },
    {
     "cell_type": "code",
     "collapsed": false,
     "input": [
      "# here is the resulting function, allowing us to specify k\n",
      "\n",
      "def knn(query_pts, pts, k=3):\n",
      "    # brute force k nearest neighbors\n",
      "    D = cdist(query_pts, pts)\n",
      "    knn_ix = np.argsort(D,axis=1)[:,:k]\n",
      "    row, _ = np.mgrid[:query_pts.shape[0],:k]\n",
      "    knn_dist = D[row, knn_ix]\n",
      "    return knn_dist, knn_ix"
     ],
     "language": "python",
     "metadata": {},
     "outputs": [],
     "prompt_number": 19
    },
    {
     "cell_type": "code",
     "collapsed": false,
     "input": [
      "from scipy import stats\n",
      "\n",
      "# now make a grid\n",
      "resolution = 2000\n",
      "m = np.linspace(0, 1, resolution)\n",
      "n = np.linspace(0, 1, resolution)\n",
      "M, N = np.meshgrid(m,n)\n",
      "MN = np.dstack((M,N)).reshape(-1,2)\n",
      "\n",
      "# now find the distasnce to the nearest neighbor of each grid point\n",
      "dist, nabe = knn(MN,IJ,k=1)\n",
      "\n",
      "# turn that into an image\n",
      "dist_img = dist.reshape((resolution,resolution))\n",
      "\n",
      "plt.figure(figsize=(7,7))\n",
      "plt.gca().set_aspect('equal')\n",
      "plt.scatter(I, J, c='black')\n",
      "# we negate dist_img so that low distances are brighter\n",
      "plt.imshow(-dist_img,origin='lower',cmap='gray',extent=[0, 1, 0, 1])"
     ],
     "language": "python",
     "metadata": {},
     "outputs": [
      {
       "ename": "MemoryError",
       "evalue": "",
       "output_type": "pyerr",
       "traceback": [
        "\u001b[0;31m---------------------------------------------------------------------------\u001b[0m\n\u001b[0;31mMemoryError\u001b[0m                               Traceback (most recent call last)",
        "\u001b[0;32m<ipython-input-24-2f527e8f3d3b>\u001b[0m in \u001b[0;36m<module>\u001b[0;34m()\u001b[0m\n\u001b[1;32m      9\u001b[0m \u001b[0;34m\u001b[0m\u001b[0m\n\u001b[1;32m     10\u001b[0m \u001b[0;31m# now find the distasnce to the nearest neighbor of each grid point\u001b[0m\u001b[0;34m\u001b[0m\u001b[0;34m\u001b[0m\u001b[0m\n\u001b[0;32m---> 11\u001b[0;31m \u001b[0mdist\u001b[0m\u001b[0;34m,\u001b[0m \u001b[0mnabe\u001b[0m \u001b[0;34m=\u001b[0m \u001b[0mknn\u001b[0m\u001b[0;34m(\u001b[0m\u001b[0mMN\u001b[0m\u001b[0;34m,\u001b[0m\u001b[0mIJ\u001b[0m\u001b[0;34m,\u001b[0m\u001b[0mk\u001b[0m\u001b[0;34m=\u001b[0m\u001b[0;36m1\u001b[0m\u001b[0;34m)\u001b[0m\u001b[0;34m\u001b[0m\u001b[0m\n\u001b[0m\u001b[1;32m     12\u001b[0m \u001b[0;34m\u001b[0m\u001b[0m\n\u001b[1;32m     13\u001b[0m \u001b[0;31m# turn that into an image\u001b[0m\u001b[0;34m\u001b[0m\u001b[0;34m\u001b[0m\u001b[0m\n",
        "\u001b[0;32m<ipython-input-19-472453bd9302>\u001b[0m in \u001b[0;36mknn\u001b[0;34m(query_pts, pts, k)\u001b[0m\n\u001b[1;32m      3\u001b[0m \u001b[0;32mdef\u001b[0m \u001b[0mknn\u001b[0m\u001b[0;34m(\u001b[0m\u001b[0mquery_pts\u001b[0m\u001b[0;34m,\u001b[0m \u001b[0mpts\u001b[0m\u001b[0;34m,\u001b[0m \u001b[0mk\u001b[0m\u001b[0;34m=\u001b[0m\u001b[0;36m3\u001b[0m\u001b[0;34m)\u001b[0m\u001b[0;34m:\u001b[0m\u001b[0;34m\u001b[0m\u001b[0m\n\u001b[1;32m      4\u001b[0m     \u001b[0;31m# brute force k nearest neighbors\u001b[0m\u001b[0;34m\u001b[0m\u001b[0;34m\u001b[0m\u001b[0m\n\u001b[0;32m----> 5\u001b[0;31m     \u001b[0mD\u001b[0m \u001b[0;34m=\u001b[0m \u001b[0mcdist\u001b[0m\u001b[0;34m(\u001b[0m\u001b[0mquery_pts\u001b[0m\u001b[0;34m,\u001b[0m \u001b[0mpts\u001b[0m\u001b[0;34m)\u001b[0m\u001b[0;34m\u001b[0m\u001b[0m\n\u001b[0m\u001b[1;32m      6\u001b[0m     \u001b[0mknn_ix\u001b[0m \u001b[0;34m=\u001b[0m \u001b[0mnp\u001b[0m\u001b[0;34m.\u001b[0m\u001b[0margsort\u001b[0m\u001b[0;34m(\u001b[0m\u001b[0mD\u001b[0m\u001b[0;34m,\u001b[0m\u001b[0maxis\u001b[0m\u001b[0;34m=\u001b[0m\u001b[0;36m1\u001b[0m\u001b[0;34m)\u001b[0m\u001b[0;34m[\u001b[0m\u001b[0;34m:\u001b[0m\u001b[0;34m,\u001b[0m\u001b[0;34m:\u001b[0m\u001b[0mk\u001b[0m\u001b[0;34m]\u001b[0m\u001b[0;34m\u001b[0m\u001b[0m\n\u001b[1;32m      7\u001b[0m     \u001b[0mrow\u001b[0m\u001b[0;34m,\u001b[0m \u001b[0m_\u001b[0m \u001b[0;34m=\u001b[0m \u001b[0mnp\u001b[0m\u001b[0;34m.\u001b[0m\u001b[0mmgrid\u001b[0m\u001b[0;34m[\u001b[0m\u001b[0;34m:\u001b[0m\u001b[0mquery_pts\u001b[0m\u001b[0;34m.\u001b[0m\u001b[0mshape\u001b[0m\u001b[0;34m[\u001b[0m\u001b[0;36m0\u001b[0m\u001b[0;34m]\u001b[0m\u001b[0;34m,\u001b[0m\u001b[0;34m:\u001b[0m\u001b[0mk\u001b[0m\u001b[0;34m]\u001b[0m\u001b[0;34m\u001b[0m\u001b[0m\n",
        "\u001b[0;32m<ipython-input-9-b4b726c98584>\u001b[0m in \u001b[0;36mcdist\u001b[0;34m(I, J)\u001b[0m\n\u001b[1;32m      2\u001b[0m \u001b[0;32mdef\u001b[0m \u001b[0mcdist\u001b[0m\u001b[0;34m(\u001b[0m\u001b[0mI\u001b[0m\u001b[0;34m,\u001b[0m \u001b[0mJ\u001b[0m\u001b[0;34m)\u001b[0m\u001b[0;34m:\u001b[0m\u001b[0;34m\u001b[0m\u001b[0m\n\u001b[1;32m      3\u001b[0m     \u001b[0mi\u001b[0m\u001b[0;34m,\u001b[0m \u001b[0mj\u001b[0m \u001b[0;34m=\u001b[0m \u001b[0mnp\u001b[0m\u001b[0;34m.\u001b[0m\u001b[0mmgrid\u001b[0m\u001b[0;34m[\u001b[0m\u001b[0;34m:\u001b[0m\u001b[0mI\u001b[0m\u001b[0;34m.\u001b[0m\u001b[0mshape\u001b[0m\u001b[0;34m[\u001b[0m\u001b[0;36m0\u001b[0m\u001b[0;34m]\u001b[0m\u001b[0;34m,\u001b[0m\u001b[0;34m:\u001b[0m\u001b[0mJ\u001b[0m\u001b[0;34m.\u001b[0m\u001b[0mshape\u001b[0m\u001b[0;34m[\u001b[0m\u001b[0;36m0\u001b[0m\u001b[0;34m]\u001b[0m\u001b[0;34m]\u001b[0m\u001b[0;34m\u001b[0m\u001b[0m\n\u001b[0;32m----> 4\u001b[0;31m     \u001b[0;32mreturn\u001b[0m \u001b[0mnp\u001b[0m\u001b[0;34m.\u001b[0m\u001b[0msqrt\u001b[0m\u001b[0;34m(\u001b[0m\u001b[0mnp\u001b[0m\u001b[0;34m.\u001b[0m\u001b[0msum\u001b[0m\u001b[0;34m(\u001b[0m\u001b[0;34m(\u001b[0m\u001b[0mI\u001b[0m\u001b[0;34m[\u001b[0m\u001b[0mi\u001b[0m\u001b[0;34m]\u001b[0m \u001b[0;34m-\u001b[0m \u001b[0mJ\u001b[0m\u001b[0;34m[\u001b[0m\u001b[0mj\u001b[0m\u001b[0;34m]\u001b[0m\u001b[0;34m)\u001b[0m\u001b[0;34m**\u001b[0m\u001b[0;36m2\u001b[0m\u001b[0;34m,\u001b[0m\u001b[0maxis\u001b[0m\u001b[0;34m=\u001b[0m\u001b[0;36m2\u001b[0m\u001b[0;34m)\u001b[0m\u001b[0;34m)\u001b[0m\u001b[0;34m\u001b[0m\u001b[0m\n\u001b[0m",
        "\u001b[0;31mMemoryError\u001b[0m: "
       ]
      }
     ],
     "prompt_number": 24
    },
    {
     "cell_type": "code",
     "collapsed": false,
     "input": [
      "# now let's visualize which neighbor is nearest to each point\n",
      "\n",
      "# reshape the neighbor array into a label image\n",
      "# a label image has an integer for each pixel identifying its class\n",
      "# which in this case is the index of the neighboring point in the original\n",
      "# set of points\n",
      "label_img = nabe.reshape((resolution,resolution))\n",
      "label_img"
     ],
     "language": "python",
     "metadata": {},
     "outputs": [
      {
       "metadata": {},
       "output_type": "pyout",
       "prompt_number": 21,
       "text": [
        "array([[2, 2, 2, ..., 6, 6, 6],\n",
        "       [2, 2, 2, ..., 6, 6, 6],\n",
        "       [2, 2, 2, ..., 6, 6, 6],\n",
        "       ..., \n",
        "       [0, 0, 0, ..., 4, 4, 4],\n",
        "       [0, 0, 0, ..., 4, 4, 4],\n",
        "       [0, 0, 0, ..., 4, 4, 4]])"
       ]
      }
     ],
     "prompt_number": 21
    },
    {
     "cell_type": "code",
     "collapsed": false,
     "input": [
      "from skimage.color import label2rgb\n",
      "\n",
      "# now randomly pick colors for each value in the label image\n",
      "colors = np.random.uniform(low=0.25,size=(np.max(label_img)+1,3))\n",
      "\n",
      "plt.figure(figsize=(7,7))\n",
      "plt.gca().set_aspect('equal')\n",
      "plt.scatter(I, J, c='black')\n",
      "# label2rgb turns a label image into an rgb image given colors\n",
      "plt.imshow(label2rgb(label_img,colors=colors),interpolation='nearest',origin='lower',extent=[0, 1, 0, 1])"
     ],
     "language": "python",
     "metadata": {},
     "outputs": [
      {
       "metadata": {},
       "output_type": "pyout",
       "prompt_number": 23,
       "text": [
        "<matplotlib.image.AxesImage at 0x7f48f5d3ba90>"
       ]
      },
      {
       "metadata": {},
       "output_type": "display_data",
       "png": "[encoded data removed]",
       "text": [
        "<matplotlib.figure.Figure at 0x7f48f7650950>"
       ]
      }
     ],
     "prompt_number": 23
    },
    {
     "cell_type": "markdown",
     "metadata": {},
     "source": [
      "This is a Voronoi diagram\n",
      "\n",
      "https://en.wikipedia.org/wiki/Voronoi_diagram"
     ]
    }
   ],
   "metadata": {}
  }
 ]
}