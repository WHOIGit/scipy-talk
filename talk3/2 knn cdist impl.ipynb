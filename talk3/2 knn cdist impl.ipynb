{
 "cells": [
  {
   "cell_type": "code",
   "execution_count": 1,
   "id": "6a81a008",
   "metadata": {
    "collapsed": false
   },
   "outputs": [],
   "source": [
    "%matplotlib inline\n",
    "import numpy as np\n",
    "from matplotlib import pyplot as plt"
   ]
  },
  {
   "cell_type": "code",
   "execution_count": 2,
   "id": "c218a492",
   "metadata": {
    "collapsed": false
   },
   "outputs": [
    {
     "data": {
      "text/plain": [
       "array([[-4, -5],\n",
       "       [-9, -3],\n",
       "       [-7, -5],\n",
       "       [-2, -5]])"
      ]
     },
     "execution_count": 2,
     "metadata": {},
     "output_type": "execute_result"
    }
   ],
   "source": [
    "# implementation of pairwise distance function\n",
    "\n",
    "# make datasets of coordinates\n",
    "I = -np.random.randint(10,size=(4,2))\n",
    "J = -np.random.randint(10,size=(3,2))\n",
    "\n",
    "I"
   ]
  },
  {
   "cell_type": "code",
   "execution_count": 3,
   "id": "ca6ad9e0",
   "metadata": {
    "collapsed": false
   },
   "outputs": [
    {
     "data": {
      "text/plain": [
       "array([[-4, -2],\n",
       "       [ 0, -2],\n",
       "       [-6, -8]])"
      ]
     },
     "execution_count": 3,
     "metadata": {},
     "output_type": "execute_result"
    }
   ],
   "source": [
    "J"
   ]
  },
  {
   "cell_type": "markdown",
   "id": "ad861d07",
   "metadata": {},
   "source": [
    "We want to replicate what the scipy cdist function does:\n",
    "\n",
    "http://docs.scipy.org/doc/scipy-0.17.0/reference/generated/scipy.spatial.distance.cdist.html"
   ]
  },
  {
   "cell_type": "code",
   "execution_count": 4,
   "id": "cf2520d8",
   "metadata": {
    "collapsed": false
   },
   "outputs": [
    {
     "data": {
      "text/plain": [
       "array([[ 3.        ,  5.        ,  3.60555128],\n",
       "       [ 5.09901951,  9.05538514,  5.83095189],\n",
       "       [ 4.24264069,  7.61577311,  3.16227766],\n",
       "       [ 3.60555128,  3.60555128,  5.        ]])"
      ]
     },
     "execution_count": 4,
     "metadata": {},
     "output_type": "execute_result"
    }
   ],
   "source": [
    "from scipy.spatial import distance\n",
    "\n",
    "distance.cdist(I, J)"
   ]
  },
  {
   "cell_type": "code",
   "execution_count": 23,
   "id": "59ee3c22",
   "metadata": {
    "collapsed": false
   },
   "outputs": [],
   "source": [
    "# ignoring other metrics, we want to implement euclidean distance\n",
    "# sqrt((x0-x1)**2 + (y0-y1)**2)"
   ]
  },
  {
   "cell_type": "code",
   "execution_count": 12,
   "id": "533aea5c",
   "metadata": {
    "collapsed": false
   },
   "outputs": [
    {
     "data": {
      "text/plain": [
       "array([[[0, 0, 0],\n",
       "        [1, 1, 1],\n",
       "        [2, 2, 2],\n",
       "        [3, 3, 3]],\n",
       "\n",
       "       [[0, 1, 2],\n",
       "        [0, 1, 2],\n",
       "        [0, 1, 2],\n",
       "        [0, 1, 2]]])"
      ]
     },
     "execution_count": 12,
     "metadata": {},
     "output_type": "execute_result"
    }
   ],
   "source": [
    "np.mgrid[:I.shape[0],:J.shape[0]]"
   ]
  },
  {
   "cell_type": "code",
   "execution_count": 20,
   "id": "ded0068b",
   "metadata": {
    "collapsed": false
   },
   "outputs": [
    {
     "data": {
      "text/plain": [
       "array([[0, 0, 0],\n",
       "       [1, 1, 1],\n",
       "       [2, 2, 2],\n",
       "       [3, 3, 3]])"
      ]
     },
     "execution_count": 20,
     "metadata": {},
     "output_type": "execute_result"
    }
   ],
   "source": [
    "# create a rectangular grid that is Ni by Nj\n",
    "i, j = np.mgrid[:I.shape[0],:J.shape[0]]\n",
    "i"
   ]
  },
  {
   "cell_type": "code",
   "execution_count": 25,
   "id": "ef84cb10",
   "metadata": {
    "collapsed": false
   },
   "outputs": [
    {
     "data": {
      "text/plain": [
       "array([[0, 1, 2],\n",
       "       [0, 1, 2],\n",
       "       [0, 1, 2],\n",
       "       [0, 1, 2]])"
      ]
     },
     "execution_count": 25,
     "metadata": {},
     "output_type": "execute_result"
    }
   ],
   "source": [
    "j"
   ]
  },
  {
   "cell_type": "code",
   "execution_count": 24,
   "id": "67b4c910",
   "metadata": {
    "collapsed": false
   },
   "outputs": [
    {
     "data": {
      "text/plain": [
       "array([[[-4, -2],\n",
       "        [ 0, -2],\n",
       "        [-6, -8]],\n",
       "\n",
       "       [[-4, -2],\n",
       "        [ 0, -2],\n",
       "        [-6, -8]],\n",
       "\n",
       "       [[-4, -2],\n",
       "        [ 0, -2],\n",
       "        [-6, -8]],\n",
       "\n",
       "       [[-4, -2],\n",
       "        [ 0, -2],\n",
       "        [-6, -8]]])"
      ]
     },
     "execution_count": 24,
     "metadata": {},
     "output_type": "execute_result"
    }
   ],
   "source": [
    "# now we want the pairs of points I[i] and J[j]\n",
    "J[j]"
   ]
  },
  {
   "cell_type": "code",
   "execution_count": 32,
   "id": "c81459fa",
   "metadata": {
    "collapsed": false
   },
   "outputs": [
    {
     "data": {
      "text/plain": [
       "array([[[-6, -8],\n",
       "        [-1, -7],\n",
       "        [-7, -2]],\n",
       "\n",
       "       [[-6, -8],\n",
       "        [-1, -7],\n",
       "        [-7, -2]],\n",
       "\n",
       "       [[-6, -8],\n",
       "        [-1, -7],\n",
       "        [-7, -2]],\n",
       "\n",
       "       [[-6, -8],\n",
       "        [-1, -7],\n",
       "        [-7, -2]]])"
      ]
     },
     "execution_count": 32,
     "metadata": {},
     "output_type": "execute_result"
    }
   ],
   "source": [
    "J[j]"
   ]
  },
  {
   "cell_type": "code",
   "execution_count": 25,
   "id": "1d293c51",
   "metadata": {
    "collapsed": false
   },
   "outputs": [
    {
     "data": {
      "text/plain": [
       "array([[[ 0, -3],\n",
       "        [-4, -3],\n",
       "        [ 2,  3]],\n",
       "\n",
       "       [[-5, -1],\n",
       "        [-9, -1],\n",
       "        [-3,  5]],\n",
       "\n",
       "       [[-3, -3],\n",
       "        [-7, -3],\n",
       "        [-1,  3]],\n",
       "\n",
       "       [[ 2, -3],\n",
       "        [-2, -3],\n",
       "        [ 4,  3]]])"
      ]
     },
     "execution_count": 25,
     "metadata": {},
     "output_type": "execute_result"
    }
   ],
   "source": [
    "# to subtract x0-x1 and y0-y1 simultaneously, we need this expression\n",
    "I[i] - J[j]"
   ]
  },
  {
   "cell_type": "code",
   "execution_count": 28,
   "id": "ebb13811",
   "metadata": {
    "collapsed": false
   },
   "outputs": [
    {
     "data": {
      "text/plain": [
       "array([[[ 0,  9],\n",
       "        [16,  9],\n",
       "        [ 4,  9]],\n",
       "\n",
       "       [[25,  1],\n",
       "        [81,  1],\n",
       "        [ 9, 25]],\n",
       "\n",
       "       [[ 9,  9],\n",
       "        [49,  9],\n",
       "        [ 1,  9]],\n",
       "\n",
       "       [[ 4,  9],\n",
       "        [ 4,  9],\n",
       "        [16,  9]]])"
      ]
     },
     "execution_count": 28,
     "metadata": {},
     "output_type": "execute_result"
    }
   ],
   "source": [
    "# then we square it\n",
    "s = (I[i] - J[j])**2\n",
    "s"
   ]
  },
  {
   "cell_type": "code",
   "execution_count": 31,
   "id": "113f3bf8",
   "metadata": {
    "collapsed": false
   },
   "outputs": [
    {
     "data": {
      "text/plain": [
       "array([[ 9, 25, 13],\n",
       "       [26, 82, 34],\n",
       "       [18, 58, 10],\n",
       "       [13, 13, 25]])"
      ]
     },
     "execution_count": 31,
     "metadata": {},
     "output_type": "execute_result"
    }
   ],
   "source": [
    "# now take the sum of squares along the 3rd axis (we're summing (x0-x1)**2 and (y0-y1)**2)\n",
    "sq = np.sum(s,axis=2)\n",
    "sq"
   ]
  },
  {
   "cell_type": "code",
   "execution_count": 32,
   "id": "51b02c59",
   "metadata": {
    "collapsed": false
   },
   "outputs": [
    {
     "data": {
      "text/plain": [
       "array([[ 3.        ,  5.        ,  3.60555128],\n",
       "       [ 5.09901951,  9.05538514,  5.83095189],\n",
       "       [ 4.24264069,  7.61577311,  3.16227766],\n",
       "       [ 3.60555128,  3.60555128,  5.        ]])"
      ]
     },
     "execution_count": 32,
     "metadata": {},
     "output_type": "execute_result"
    }
   ],
   "source": [
    "# now take the square root\n",
    "np.sqrt(sq)"
   ]
  },
  {
   "cell_type": "code",
   "execution_count": 33,
   "id": "21de6aca",
   "metadata": {
    "collapsed": false
   },
   "outputs": [
    {
     "data": {
      "text/plain": [
       "array([[ 3.        ,  5.        ,  3.60555128],\n",
       "       [ 5.09901951,  9.05538514,  5.83095189],\n",
       "       [ 4.24264069,  7.61577311,  3.16227766],\n",
       "       [ 3.60555128,  3.60555128,  5.        ]])"
      ]
     },
     "execution_count": 33,
     "metadata": {},
     "output_type": "execute_result"
    }
   ],
   "source": [
    "# here it is as a function\n",
    "def cdist(I, J):\n",
    "    i, j = np.mgrid[:I.shape[0],:J.shape[0]]\n",
    "    return np.sqrt(np.sum((I[i] - J[j])**2,axis=2))\n",
    "\n",
    "cdist(I, J)"
   ]
  }
 ],
 "metadata": {},
 "nbformat": 4,
 "nbformat_minor": 5
}
