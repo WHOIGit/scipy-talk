{
 "metadata": {
  "name": "",
  "signature": "sha256:f44ab78a03b7176da9102c72e2b4ecbf8d191bec4f6bbd68a1df195297aee596"
 },
 "nbformat": 3,
 "nbformat_minor": 0,
 "worksheets": [
  {
   "cells": [
    {
     "cell_type": "code",
     "collapsed": false,
     "input": [
      "%matplotlib inline\n",
      "import numpy as np\n",
      "from matplotlib import pyplot as plt"
     ],
     "language": "python",
     "metadata": {},
     "outputs": [],
     "prompt_number": 2
    },
    {
     "cell_type": "code",
     "collapsed": false,
     "input": [
      "# make datasets\n",
      "I = -np.random.randint(10,size=(4,2))\n",
      "J = -np.random.randint(10,size=(3,2))\n",
      "\n",
      "I"
     ],
     "language": "python",
     "metadata": {},
     "outputs": [
      {
       "metadata": {},
       "output_type": "pyout",
       "prompt_number": 33,
       "text": [
        "array([[-4, -2],\n",
        "       [-1, -3],\n",
        "       [-3, -6],\n",
        "       [-6, -9]])"
       ]
      }
     ],
     "prompt_number": 33
    },
    {
     "cell_type": "code",
     "collapsed": false,
     "input": [
      "J"
     ],
     "language": "python",
     "metadata": {},
     "outputs": [
      {
       "metadata": {},
       "output_type": "pyout",
       "prompt_number": 34,
       "text": [
        "array([[-8, -6],\n",
        "       [-1, -2],\n",
        "       [-5, -4]])"
       ]
      }
     ],
     "prompt_number": 34
    },
    {
     "cell_type": "code",
     "collapsed": false,
     "input": [
      "# here's what cdist tells us\n",
      "from scipy.spatial import distance\n",
      "\n",
      "distance.cdist(I, J)"
     ],
     "language": "python",
     "metadata": {},
     "outputs": [
      {
       "metadata": {},
       "output_type": "pyout",
       "prompt_number": 35,
       "text": [
        "array([[ 5.65685425,  3.        ,  2.23606798],\n",
        "       [ 7.61577311,  1.        ,  4.12310563],\n",
        "       [ 5.        ,  4.47213595,  2.82842712],\n",
        "       [ 3.60555128,  8.60232527,  5.09901951]])"
       ]
      }
     ],
     "prompt_number": 35
    },
    {
     "cell_type": "code",
     "collapsed": false,
     "input": [
      "# dist is sqrt((x0-x1)**2 + (y0-y1)**2)\n",
      "i, j = np.mgrid[:I.shape[0],:J.shape[0]]"
     ],
     "language": "python",
     "metadata": {},
     "outputs": [],
     "prompt_number": 36
    },
    {
     "cell_type": "code",
     "collapsed": false,
     "input": [
      "np.sqrt(np.sum((I[i] - J[j])**2,axis=2))"
     ],
     "language": "python",
     "metadata": {},
     "outputs": [
      {
       "metadata": {},
       "output_type": "pyout",
       "prompt_number": 37,
       "text": [
        "array([[ 5.65685425,  3.        ,  2.23606798],\n",
        "       [ 7.61577311,  1.        ,  4.12310563],\n",
        "       [ 5.        ,  4.47213595,  2.82842712],\n",
        "       [ 3.60555128,  8.60232527,  5.09901951]])"
       ]
      }
     ],
     "prompt_number": 37
    },
    {
     "cell_type": "code",
     "collapsed": false,
     "input": [
      "def cdist(I, J):\n",
      "    i, j = np.mgrid[:I.shape[0],:J.shape[0]]\n",
      "    return np.sqrt(np.sum((I[i] - J[j])**2,axis=2))\n",
      "\n",
      "cdist(I, J)"
     ],
     "language": "python",
     "metadata": {},
     "outputs": [
      {
       "metadata": {},
       "output_type": "pyout",
       "prompt_number": 38,
       "text": [
        "array([[ 5.65685425,  3.        ,  2.23606798],\n",
        "       [ 7.61577311,  1.        ,  4.12310563],\n",
        "       [ 5.        ,  4.47213595,  2.82842712],\n",
        "       [ 3.60555128,  8.60232527,  5.09901951]])"
       ]
      }
     ],
     "prompt_number": 38
    }
   ],
   "metadata": {}
  }
 ]
}