{
 "cells": [
  {
   "cell_type": "code",
   "execution_count": 56,
   "metadata": {
    "collapsed": true
   },
   "outputs": [],
   "source": [
    "import itertools\n",
    "import sys\n",
    "\n",
    "class FibonacciSeries(object):\n",
    "    def __iter__(self):\n",
    "        p1 = 1\n",
    "        p2 = 1\n",
    "        yield p1\n",
    "        yield p2\n",
    "        while True:\n",
    "            if p2 > sys.maxint - p1:\n",
    "                return\n",
    "            p3 = p1 + p2\n",
    "            yield p3\n",
    "            p1, p2 = p2, p3\n",
    "    def __contains__(self, n):\n",
    "        for i in self:\n",
    "            if i == n:\n",
    "                return True\n",
    "            if i > n:\n",
    "                return False\n",
    "    def __getitem__(self, item):\n",
    "        if isinstance(item, slice):\n",
    "            print 'slicing fib'\n",
    "            return list(itertools.islice(self, item.start, item.stop, item.step))\n",
    "        else:\n",
    "            print 'indexing fib'\n",
    "            return itertools.islice(self, item, item+1).next()"
   ]
  },
  {
   "cell_type": "code",
   "execution_count": 58,
   "metadata": {
    "collapsed": true
   },
   "outputs": [],
   "source": [
    "f = FibonacciSeries()"
   ]
  },
  {
   "cell_type": "code",
   "execution_count": 47,
   "metadata": {
    "collapsed": false
   },
   "outputs": [
    {
     "data": {
      "text/plain": [
       "89"
      ]
     },
     "execution_count": 47,
     "metadata": {},
     "output_type": "execute_result"
    }
   ],
   "source": [
    "l = list(f)\n",
    "l[10]"
   ]
  },
  {
   "cell_type": "code",
   "execution_count": 60,
   "metadata": {
    "collapsed": false
   },
   "outputs": [
    {
     "name": "stdout",
     "output_type": "stream",
     "text": [
      "indexing fib\n"
     ]
    },
    {
     "data": {
      "text/plain": [
       "89"
      ]
     },
     "execution_count": 60,
     "metadata": {},
     "output_type": "execute_result"
    }
   ],
   "source": [
    "from itertools import islice\n",
    "\n",
    "f[10]"
   ]
  }
 ],
 "metadata": {
  "kernelspec": {
   "display_name": "Python [Root]",
   "language": "python",
   "name": "Python [Root]"
  },
  "language_info": {
   "codemirror_mode": {
    "name": "ipython",
    "version": 2
   },
   "file_extension": ".py",
   "mimetype": "text/x-python",
   "name": "python",
   "nbconvert_exporter": "python",
   "pygments_lexer": "ipython2",
   "version": "2.7.12"
  }
 },
 "nbformat": 4,
 "nbformat_minor": 0
}
