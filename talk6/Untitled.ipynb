{
 "cells": [
  {
   "cell_type": "code",
   "execution_count": 37,
   "metadata": {
    "collapsed": true
   },
   "outputs": [],
   "source": [
    "class MockDatabase(object):\n",
    "    def __init__(self):\n",
    "        self.open = False\n",
    "    @property\n",
    "    def isopen(self):\n",
    "        return self.open\n",
    "    def connect(self):\n",
    "        assert not self.isopen, 'already open'\n",
    "        print 'opening mock database'\n",
    "        self.open = True\n",
    "    def close(self):\n",
    "        assert self.isopen, 'already closed'\n",
    "        print 'closing mock database'\n",
    "        self.open = False\n",
    "    def execute(self, command):\n",
    "        assert self.isopen, 'not open'\n",
    "        print 'executed %s' % command"
   ]
  },
  {
   "cell_type": "code",
   "execution_count": 38,
   "metadata": {
    "collapsed": false
   },
   "outputs": [
    {
     "name": "stdout",
     "output_type": "stream",
     "text": [
      "opening mock database\n",
      "executed my command\n"
     ]
    }
   ],
   "source": [
    "db = MockDatabase()\n",
    "db.connect()\n",
    "db.execute('my command')"
   ]
  },
  {
   "cell_type": "code",
   "execution_count": 30,
   "metadata": {
    "collapsed": false
   },
   "outputs": [],
   "source": [
    "class MockDatabaseConnection(object):\n",
    "    def __enter__(self):\n",
    "        print 'entering'\n",
    "        self.db = MockDatabase()\n",
    "        self.db.connect()\n",
    "        return self.db\n",
    "    def __exit__(self, *args):\n",
    "        print 'exiting'\n",
    "        self.db.close()\n",
    "    def do_something(self):\n",
    "        print 'doing something'"
   ]
  },
  {
   "cell_type": "code",
   "execution_count": 41,
   "metadata": {
    "collapsed": false
   },
   "outputs": [
    {
     "name": "stdout",
     "output_type": "stream",
     "text": [
      "entering\n",
      "opening mock database\n",
      "executed some command\n",
      "exiting\n",
      "closing mock database\n"
     ]
    },
    {
     "ename": "ValueError",
     "evalue": "something bad happened",
     "output_type": "error",
     "traceback": [
      "\u001b[1;31m---------------------------------------------------------------------------\u001b[0m",
      "\u001b[1;31mValueError\u001b[0m                                Traceback (most recent call last)",
      "\u001b[1;32m<ipython-input-41-48b242465650>\u001b[0m in \u001b[0;36m<module>\u001b[1;34m()\u001b[0m\n\u001b[0;32m      1\u001b[0m \u001b[1;32mwith\u001b[0m \u001b[0mMockDatabaseConnection\u001b[0m\u001b[1;33m(\u001b[0m\u001b[1;33m)\u001b[0m \u001b[1;32mas\u001b[0m \u001b[0mdb\u001b[0m\u001b[1;33m:\u001b[0m\u001b[1;33m\u001b[0m\u001b[0m\n\u001b[0;32m      2\u001b[0m     \u001b[0mdb\u001b[0m\u001b[1;33m.\u001b[0m\u001b[0mexecute\u001b[0m\u001b[1;33m(\u001b[0m\u001b[1;34m'some command'\u001b[0m\u001b[1;33m)\u001b[0m\u001b[1;33m\u001b[0m\u001b[0m\n\u001b[1;32m----> 3\u001b[1;33m     \u001b[1;32mraise\u001b[0m \u001b[0mValueError\u001b[0m\u001b[1;33m(\u001b[0m\u001b[1;34m'something bad happened'\u001b[0m\u001b[1;33m)\u001b[0m\u001b[1;33m\u001b[0m\u001b[0m\n\u001b[0m\u001b[0;32m      4\u001b[0m     \u001b[0mdb\u001b[0m\u001b[1;33m.\u001b[0m\u001b[0mexecute\u001b[0m\u001b[1;33m(\u001b[0m\u001b[1;34m'some other command'\u001b[0m\u001b[1;33m)\u001b[0m\u001b[1;33m\u001b[0m\u001b[0m\n",
      "\u001b[1;31mValueError\u001b[0m: something bad happened"
     ]
    }
   ],
   "source": [
    "with MockDatabaseConnection() as db:\n",
    "    db.execute('some command')\n",
    "    raise ValueError('something bad happened')\n",
    "    db.execute('some other command')"
   ]
  },
  {
   "cell_type": "code",
   "execution_count": 47,
   "metadata": {
    "collapsed": true
   },
   "outputs": [],
   "source": [
    "from contextlib import contextmanager\n",
    "\n",
    "@contextmanager\n",
    "def mock_db_connection():\n",
    "    db = MockDatabase()\n",
    "    db.connect()\n",
    "    try:\n",
    "        yield db\n",
    "    except:\n",
    "        pass\n",
    "    db.close()"
   ]
  },
  {
   "cell_type": "code",
   "execution_count": null,
   "metadata": {
    "collapsed": true
   },
   "outputs": [],
   "source": []
  },
  {
   "cell_type": "code",
   "execution_count": 48,
   "metadata": {
    "collapsed": false
   },
   "outputs": [
    {
     "name": "stdout",
     "output_type": "stream",
     "text": [
      "opening mock database\n",
      "executed some command\n",
      "closing mock database\n"
     ]
    }
   ],
   "source": [
    "with mock_db_connection() as db:\n",
    "    db.execute('some command')\n",
    "    raise ValueError('something bad happened')\n",
    "    db.execute('some other command')"
   ]
  },
  {
   "cell_type": "code",
   "execution_count": 50,
   "metadata": {
    "collapsed": false
   },
   "outputs": [],
   "source": [
    "with open('foo.txt','w') as f:\n",
    "    f.write('the contents of foo.txt')"
   ]
  }
 ],
 "metadata": {
  "kernelspec": {
   "display_name": "Python [Root]",
   "language": "python",
   "name": "Python [Root]"
  },
  "language_info": {
   "codemirror_mode": {
    "name": "ipython",
    "version": 2
   },
   "file_extension": ".py",
   "mimetype": "text/x-python",
   "name": "python",
   "nbconvert_exporter": "python",
   "pygments_lexer": "ipython2",
   "version": "2.7.12"
  }
 },
 "nbformat": 4,
 "nbformat_minor": 0
}
