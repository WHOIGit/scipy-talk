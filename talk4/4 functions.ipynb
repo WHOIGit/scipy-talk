{
 "metadata": {
  "name": "",
  "signature": "sha256:687c33e42a9b9d2ca1b89525d67d9dcaa63b66e688d395ede5c60fefadd60e6d"
 },
 "nbformat": 3,
 "nbformat_minor": 0,
 "worksheets": [
  {
   "cells": [
    {
     "cell_type": "code",
     "collapsed": false,
     "input": [
      "# functions are defined with def and indented\n",
      "def hello():\n",
      "    print 'hello'\n",
      "\n",
      "hello()"
     ],
     "language": "python",
     "metadata": {},
     "outputs": [
      {
       "output_type": "stream",
       "stream": "stdout",
       "text": [
        "hello\n"
       ]
      }
     ],
     "prompt_number": 4
    },
    {
     "cell_type": "code",
     "collapsed": false,
     "input": [
      "# a function accepts zero or more arguments (parameters)\n",
      "def hello(person):\n",
      "    print 'hello, ' + person\n",
      "\n",
      "hello('joe')\n",
      "hello('stace')"
     ],
     "language": "python",
     "metadata": {},
     "outputs": [
      {
       "output_type": "stream",
       "stream": "stdout",
       "text": [
        "hello, joe\n",
        "hello, stace\n"
       ]
      }
     ],
     "prompt_number": 5
    },
    {
     "cell_type": "code",
     "collapsed": false,
     "input": [
      "# functions are called by name with a tuple of arguments\n",
      "def hello(person,greeting):\n",
      "    print greeting + person\n",
      "\n",
      "hello('everyone','greetings, ')"
     ],
     "language": "python",
     "metadata": {},
     "outputs": [
      {
       "output_type": "stream",
       "stream": "stdout",
       "text": [
        "greetings, everyone\n"
       ]
      }
     ],
     "prompt_number": 6
    },
    {
     "cell_type": "code",
     "collapsed": false,
     "input": [
      "# arguments can have default values that are used if the caller does not specify\n",
      "def hello(person,greeting='hello, '):\n",
      "    print greeting + person\n",
      "\n",
      "# this function prints something, but does not return a value\n",
      "a = hello('everyone','goodbye ')\n",
      "a is None"
     ],
     "language": "python",
     "metadata": {},
     "outputs": [
      {
       "output_type": "stream",
       "stream": "stdout",
       "text": [
        "goodbye everyone\n"
       ]
      },
      {
       "metadata": {},
       "output_type": "pyout",
       "prompt_number": 7,
       "text": [
        "True"
       ]
      }
     ],
     "prompt_number": 7
    },
    {
     "cell_type": "code",
     "collapsed": false,
     "input": [
      "# functions return value(s)\n",
      "# if a function calls return with no value, None is returned\n",
      "# if a function \"falls off\" the end of its definition, None is returned\n",
      "\n",
      "def addone(x):\n",
      "    return x + 1\n",
      "\n",
      "def addn(x,n=1):\n",
      "    return x + n\n",
      "\n",
      "def addsub(x,n=1):\n",
      "    return x + n, x - n\n",
      "\n",
      "a, b = addsub(7)\n",
      "a, b"
     ],
     "language": "python",
     "metadata": {},
     "outputs": [
      {
       "metadata": {},
       "output_type": "pyout",
       "prompt_number": 8,
       "text": [
        "(8, 6)"
       ]
      }
     ],
     "prompt_number": 8
    },
    {
     "cell_type": "code",
     "collapsed": false,
     "input": [
      "# functions are \"first-class\" objects\n",
      "## a variable can have a function as a value\n",
      "## a function can return another function\n",
      "## a function can be a member of a tuple, list, or the value associated with a \n",
      "## dict key\n",
      "\n",
      "l =[ -4, -2, -3, 8, 0, 4 ]\n",
      "\n",
      "def sq(x):\n",
      "    return x**2\n",
      "\n",
      "sorted(l,key=sq)"
     ],
     "language": "python",
     "metadata": {},
     "outputs": [
      {
       "metadata": {},
       "output_type": "pyout",
       "prompt_number": 9,
       "text": [
        "[0, -2, -3, -4, 4, 8]"
       ]
      }
     ],
     "prompt_number": 9
    },
    {
     "cell_type": "code",
     "collapsed": false,
     "input": [
      "def call_add_one(fn,x):\n",
      "    return fn(x) + 1\n",
      "\n",
      "call_add_one(sq,7)"
     ],
     "language": "python",
     "metadata": {},
     "outputs": [
      {
       "metadata": {},
       "output_type": "pyout",
       "prompt_number": 10,
       "text": [
        "50"
       ]
      }
     ],
     "prompt_number": 10
    }
   ],
   "metadata": {}
  }
 ]
}