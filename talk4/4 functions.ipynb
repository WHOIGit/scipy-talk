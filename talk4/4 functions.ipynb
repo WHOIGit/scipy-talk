{
 "metadata": {
  "name": "",
  "signature": "sha256:b333c61c90d0366787e6a583684629b79a4981f0189ee67694adfd5fb3c4d208"
 },
 "nbformat": 3,
 "nbformat_minor": 0,
 "worksheets": [
  {
   "cells": [
    {
     "cell_type": "code",
     "collapsed": false,
     "input": [
      "# functions are defined with def and indented"
     ],
     "language": "python",
     "metadata": {},
     "outputs": []
    },
    {
     "cell_type": "code",
     "collapsed": false,
     "input": [
      "# a function accepts zero or more arguments (parameters)"
     ],
     "language": "python",
     "metadata": {},
     "outputs": []
    },
    {
     "cell_type": "code",
     "collapsed": false,
     "input": [
      "# functions are called by name with a tuple of arguments"
     ],
     "language": "python",
     "metadata": {},
     "outputs": []
    },
    {
     "cell_type": "code",
     "collapsed": false,
     "input": [
      "# arguments can have default values that are used if the caller does not specify"
     ],
     "language": "python",
     "metadata": {},
     "outputs": []
    },
    {
     "cell_type": "code",
     "collapsed": false,
     "input": [
      "# functions may return value(s)"
     ],
     "language": "python",
     "metadata": {},
     "outputs": []
    },
    {
     "cell_type": "code",
     "collapsed": false,
     "input": [
      "# functions are first-class objects\n",
      "## a variable can have a function as a value\n",
      "## a function can return another function\n",
      "## a function can be a member of a tuple, list, or the value associated with a dict key"
     ],
     "language": "python",
     "metadata": {},
     "outputs": []
    },
    {
     "cell_type": "code",
     "collapsed": false,
     "input": [
      "# functions can be anonymous using lambda, BUT\n",
      "# use of lambda is discouraged in almost all cases\n",
      "\n",
      "def call_and_add_one(x, fn):\n",
      "    return fn(x) + 1\n",
      "\n",
      "call_and_add_one(6, lambda x: x**2)"
     ],
     "language": "python",
     "metadata": {},
     "outputs": [
      {
       "metadata": {},
       "output_type": "pyout",
       "prompt_number": 1,
       "text": [
        "37"
       ]
      }
     ],
     "prompt_number": 1
    }
   ],
   "metadata": {}
  }
 ]
}