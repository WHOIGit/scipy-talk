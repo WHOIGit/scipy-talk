{
 "cells": [
  {
   "cell_type": "code",
   "execution_count": 4,
   "id": "2f8b44ef",
   "metadata": {
    "collapsed": false
   },
   "outputs": [
    {
     "name": "stdout",
     "output_type": "stream",
     "text": [
      "hello\n"
     ]
    }
   ],
   "source": [
    "# functions are defined with def and indented\n",
    "def hello():\n",
    "    print 'hello'\n",
    "\n",
    "hello()"
   ]
  },
  {
   "cell_type": "code",
   "execution_count": 5,
   "id": "de3d927b",
   "metadata": {
    "collapsed": false
   },
   "outputs": [
    {
     "name": "stdout",
     "output_type": "stream",
     "text": [
      "hello, joe\n",
      "hello, stace\n"
     ]
    }
   ],
   "source": [
    "# a function accepts zero or more arguments (parameters)\n",
    "def hello(person):\n",
    "    print 'hello, ' + person\n",
    "\n",
    "hello('joe')\n",
    "hello('stace')"
   ]
  },
  {
   "cell_type": "code",
   "execution_count": 6,
   "id": "73c70ba3",
   "metadata": {
    "collapsed": false
   },
   "outputs": [
    {
     "name": "stdout",
     "output_type": "stream",
     "text": [
      "greetings, everyone\n"
     ]
    }
   ],
   "source": [
    "# functions are called by name with a tuple of arguments\n",
    "def hello(person,greeting):\n",
    "    print greeting + person\n",
    "\n",
    "hello('everyone','greetings, ')"
   ]
  },
  {
   "cell_type": "code",
   "execution_count": 7,
   "id": "07316e1b",
   "metadata": {
    "collapsed": false
   },
   "outputs": [
    {
     "name": "stdout",
     "output_type": "stream",
     "text": [
      "goodbye everyone\n"
     ]
    },
    {
     "data": {
      "text/plain": [
       "True"
      ]
     },
     "execution_count": 7,
     "metadata": {},
     "output_type": "execute_result"
    }
   ],
   "source": [
    "# arguments can have default values that are used if the caller does not specify\n",
    "def hello(person,greeting='hello, '):\n",
    "    print greeting + person\n",
    "\n",
    "# this function prints something, but does not return a value\n",
    "a = hello('everyone','goodbye ')\n",
    "a is None"
   ]
  },
  {
   "cell_type": "code",
   "execution_count": 8,
   "id": "9a30f78f",
   "metadata": {
    "collapsed": false
   },
   "outputs": [
    {
     "data": {
      "text/plain": [
       "(8, 6)"
      ]
     },
     "execution_count": 8,
     "metadata": {},
     "output_type": "execute_result"
    }
   ],
   "source": [
    "# functions return value(s)\n",
    "# if a function calls return with no value, None is returned\n",
    "# if a function \"falls off\" the end of its definition, None is returned\n",
    "\n",
    "def addone(x):\n",
    "    return x + 1\n",
    "\n",
    "def addn(x,n=1):\n",
    "    return x + n\n",
    "\n",
    "def addsub(x,n=1):\n",
    "    return x + n, x - n\n",
    "\n",
    "a, b = addsub(7)\n",
    "a, b"
   ]
  },
  {
   "cell_type": "code",
   "execution_count": 9,
   "id": "a76f4dd5",
   "metadata": {
    "collapsed": false
   },
   "outputs": [
    {
     "data": {
      "text/plain": [
       "[0, -2, -3, -4, 4, 8]"
      ]
     },
     "execution_count": 9,
     "metadata": {},
     "output_type": "execute_result"
    }
   ],
   "source": [
    "# functions are \"first-class\" objects\n",
    "## a variable can have a function as a value\n",
    "## a function can return another function\n",
    "## a function can be a member of a tuple, list, or the value associated with a \n",
    "## dict key\n",
    "\n",
    "l =[ -4, -2, -3, 8, 0, 4 ]\n",
    "\n",
    "def sq(x):\n",
    "    return x**2\n",
    "\n",
    "sorted(l,key=sq)"
   ]
  },
  {
   "cell_type": "code",
   "execution_count": 10,
   "id": "a18c977c",
   "metadata": {
    "collapsed": false
   },
   "outputs": [
    {
     "data": {
      "text/plain": [
       "50"
      ]
     },
     "execution_count": 10,
     "metadata": {},
     "output_type": "execute_result"
    }
   ],
   "source": [
    "def call_add_one(fn,x):\n",
    "    return fn(x) + 1\n",
    "\n",
    "call_add_one(sq,7)"
   ]
  }
 ],
 "metadata": {},
 "nbformat": 4,
 "nbformat_minor": 5
}
