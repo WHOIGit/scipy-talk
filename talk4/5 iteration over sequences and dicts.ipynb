{
 "metadata": {
  "name": "",
  "signature": "sha256:b3a22128acc45fbe4ac0d410802b3e702a9058129791221ffb82161da1cb9fcb"
 },
 "nbformat": 3,
 "nbformat_minor": 0,
 "worksheets": [
  {
   "cells": [
    {
     "cell_type": "code",
     "collapsed": false,
     "input": [
      "# iteration is typically done using for/in and indented block\n",
      "a = range(10)\n",
      "\n",
      "for c in 'hello there':\n",
      "    print 'hi'"
     ],
     "language": "python",
     "metadata": {},
     "outputs": [
      {
       "output_type": "stream",
       "stream": "stdout",
       "text": [
        "hi\n",
        "hi\n",
        "hi\n",
        "hi\n",
        "hi\n",
        "hi\n",
        "hi\n",
        "hi\n",
        "hi\n",
        "hi\n",
        "hi\n"
       ]
      }
     ],
     "prompt_number": 7
    },
    {
     "cell_type": "code",
     "collapsed": false,
     "input": [
      "# tuples and lists are iterable"
     ],
     "language": "python",
     "metadata": {},
     "outputs": []
    },
    {
     "cell_type": "code",
     "collapsed": false,
     "input": [
      "# dicts are iterable, but they are unordered\n",
      "d = { 'a': 1, 'b': 2 }\n",
      "\n",
      "for k in d:\n",
      "    print k,  d[k]"
     ],
     "language": "python",
     "metadata": {},
     "outputs": [
      {
       "output_type": "stream",
       "stream": "stdout",
       "text": [
        "a 1\n",
        "b 2\n"
       ]
      }
     ],
     "prompt_number": 9
    },
    {
     "cell_type": "code",
     "collapsed": false,
     "input": [
      "# use \"zip\" to iterate over multiple sequences (dict example)\n",
      "a = 'fish'\n",
      "b = range(3)\n",
      "\n",
      "#for x, y in zip(a,b):\n",
      "#    print x, y\n",
      "\n",
      "for k in d:\n",
      "    print k"
     ],
     "language": "python",
     "metadata": {},
     "outputs": [
      {
       "output_type": "stream",
       "stream": "stdout",
       "text": [
        "a\n",
        "b\n"
       ]
      }
     ],
     "prompt_number": 29
    },
    {
     "cell_type": "code",
     "collapsed": false,
     "input": [
      "from collections import OrderedDict\n",
      "\n",
      "d = OrderedDict()\n",
      "d['fred'] = 17\n",
      "d['blah'] = 20\n",
      "d['zzz'] = 222\n",
      "d['qqq'] = 12\n",
      "d['fred'] = 22\n",
      "\n",
      "for k in d:\n",
      "    print k"
     ],
     "language": "python",
     "metadata": {},
     "outputs": [
      {
       "output_type": "stream",
       "stream": "stdout",
       "text": [
        "fred\n",
        "blah\n",
        "zzz\n",
        "qqq\n"
       ]
      }
     ],
     "prompt_number": 32
    }
   ],
   "metadata": {}
  }
 ]
}