{
 "cells": [
  {
   "cell_type": "code",
   "execution_count": 1,
   "id": "21aac582",
   "metadata": {
    "collapsed": false
   },
   "outputs": [
    {
     "name": "stdout",
     "output_type": "stream",
     "text": [
      "hi\n",
      "hi\n",
      "hi\n",
      "hi\n",
      "hi\n",
      "hi\n",
      "hi\n",
      "hi\n",
      "hi\n",
      "hi\n"
     ]
    }
   ],
   "source": [
    "# iteration is typically done using for/in and indented block\n",
    "a = range(10)\n",
    "\n",
    "for c in a:\n",
    "    print 'hi'"
   ]
  },
  {
   "cell_type": "code",
   "execution_count": null,
   "id": "8cf7505e",
   "metadata": {
    "collapsed": false
   },
   "outputs": [],
   "source": [
    "# tuples and lists are iterable"
   ]
  },
  {
   "cell_type": "code",
   "execution_count": 3,
   "id": "505cb457",
   "metadata": {
    "collapsed": false
   },
   "outputs": [
    {
     "name": "stdout",
     "output_type": "stream",
     "text": [
      "a 1\n",
      "b 2\n"
     ]
    }
   ],
   "source": [
    "# dicts are iterable (over keys), but iteration is not ordered\n",
    "d = { 'a': 1, 'b': 2 }\n",
    "\n",
    "for k in d:\n",
    "    print k, d[k]"
   ]
  },
  {
   "cell_type": "code",
   "execution_count": 5,
   "id": "12006a42",
   "metadata": {
    "collapsed": false
   },
   "outputs": [
    {
     "name": "stdout",
     "output_type": "stream",
     "text": [
      "f 0\n",
      "i 1\n",
      "s 2\n",
      "h 3\n"
     ]
    }
   ],
   "source": [
    "# use \"zip\" to iterate over multiple sequences (dict example)\n",
    "a = 'fish'\n",
    "b = range(4)\n",
    "\n",
    "for x, y in zip(a,b):\n",
    "    print x, y"
   ]
  }
 ],
 "metadata": {},
 "nbformat": 4,
 "nbformat_minor": 5
}
