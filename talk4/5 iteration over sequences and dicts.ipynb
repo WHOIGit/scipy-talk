{
 "metadata": {
  "name": "",
  "signature": "sha256:2f1f6105bbb3053472b6d9e983455a29d712414dd8cfc0e3323a08e08da97f6e"
 },
 "nbformat": 3,
 "nbformat_minor": 0,
 "worksheets": [
  {
   "cells": [
    {
     "cell_type": "code",
     "collapsed": false,
     "input": [
      "# iteration is typically done using for/in and indented block\n",
      "a = range(10)\n",
      "\n",
      "for c in a:\n",
      "    print 'hi'"
     ],
     "language": "python",
     "metadata": {},
     "outputs": [
      {
       "output_type": "stream",
       "stream": "stdout",
       "text": [
        "hi\n",
        "hi\n",
        "hi\n",
        "hi\n",
        "hi\n",
        "hi\n",
        "hi\n",
        "hi\n",
        "hi\n",
        "hi\n"
       ]
      }
     ],
     "prompt_number": 1
    },
    {
     "cell_type": "code",
     "collapsed": false,
     "input": [
      "# tuples and lists are iterable"
     ],
     "language": "python",
     "metadata": {},
     "outputs": []
    },
    {
     "cell_type": "code",
     "collapsed": false,
     "input": [
      "# dicts are iterable (over keys), but iteration is not ordered\n",
      "d = { 'a': 1, 'b': 2 }\n",
      "\n",
      "for k in d:\n",
      "    print k, d[k]"
     ],
     "language": "python",
     "metadata": {},
     "outputs": [
      {
       "output_type": "stream",
       "stream": "stdout",
       "text": [
        "a 1\n",
        "b 2\n"
       ]
      }
     ],
     "prompt_number": 3
    },
    {
     "cell_type": "code",
     "collapsed": false,
     "input": [
      "# use \"zip\" to iterate over multiple sequences (dict example)\n",
      "a = 'fish'\n",
      "b = range(4)\n",
      "\n",
      "for x, y in zip(a,b):\n",
      "    print x, y"
     ],
     "language": "python",
     "metadata": {},
     "outputs": [
      {
       "output_type": "stream",
       "stream": "stdout",
       "text": [
        "f 0\n",
        "i 1\n",
        "s 2\n",
        "h 3\n"
       ]
      }
     ],
     "prompt_number": 5
    }
   ],
   "metadata": {}
  }
 ]
}