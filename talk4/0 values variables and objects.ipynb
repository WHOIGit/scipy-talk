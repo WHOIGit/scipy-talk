{
 "cells": [
  {
   "cell_type": "code",
   "execution_count": 14,
   "id": "214d6418",
   "metadata": {
    "collapsed": false
   },
   "outputs": [
    {
     "data": {
      "text/plain": [
       "'fish'"
      ]
     },
     "execution_count": 14,
     "metadata": {},
     "output_type": "execute_result"
    }
   ],
   "source": [
    "# values are used in expressions (e.g., 1 + 1)\n",
    "'fish'"
   ]
  },
  {
   "cell_type": "code",
   "execution_count": 15,
   "id": "9d4d2345",
   "metadata": {
    "collapsed": false
   },
   "outputs": [
    {
     "data": {
      "text/plain": [
       "3"
      ]
     },
     "execution_count": 15,
     "metadata": {},
     "output_type": "execute_result"
    }
   ],
   "source": [
    "# the result of an expression is typically another value\n",
    "(1 + (1)) + 1"
   ]
  },
  {
   "cell_type": "code",
   "execution_count": 16,
   "id": "e64ea4b8",
   "metadata": {
    "collapsed": false
   },
   "outputs": [
    {
     "data": {
      "text/plain": [
       "False"
      ]
     },
     "execution_count": 16,
     "metadata": {},
     "output_type": "execute_result"
    }
   ],
   "source": [
    "# values are of various types (e.g., int, double, string, list, boolean, function)\n",
    "False"
   ]
  },
  {
   "cell_type": "code",
   "execution_count": 17,
   "id": "22e48ee8",
   "metadata": {
    "collapsed": false
   },
   "outputs": [
    {
     "data": {
      "text/plain": [
       "False"
      ]
     },
     "execution_count": 17,
     "metadata": {},
     "output_type": "execute_result"
    }
   ],
   "source": [
    "# values can be tested for equality (e.g., 3 == 3.0)\n",
    "3 > 4"
   ]
  },
  {
   "cell_type": "code",
   "execution_count": 18,
   "id": "f2edba30",
   "metadata": {
    "collapsed": false
   },
   "outputs": [
    {
     "data": {
      "text/plain": [
       "5"
      ]
     },
     "execution_count": 18,
     "metadata": {},
     "output_type": "execute_result"
    }
   ],
   "source": [
    "# variables are names for values\n",
    "d = 5\n",
    "d"
   ]
  },
  {
   "cell_type": "code",
   "execution_count": 19,
   "id": "7bde8ef8",
   "metadata": {
    "collapsed": false
   },
   "outputs": [
    {
     "data": {
      "text/plain": [
       "'fish'"
      ]
     },
     "execution_count": 19,
     "metadata": {},
     "output_type": "execute_result"
    }
   ],
   "source": [
    "d = 'fish'\n",
    "d"
   ]
  },
  {
   "cell_type": "code",
   "execution_count": 20,
   "id": "76523ffe",
   "metadata": {
    "collapsed": false
   },
   "outputs": [],
   "source": [
    "# variables are created by assignment and do not need to be declared"
   ]
  },
  {
   "cell_type": "code",
   "execution_count": 21,
   "id": "ac2cad89",
   "metadata": {
    "collapsed": false
   },
   "outputs": [],
   "source": [
    "# variables do not have types"
   ]
  },
  {
   "cell_type": "code",
   "execution_count": 22,
   "id": "02944d92",
   "metadata": {
    "collapsed": false
   },
   "outputs": [
    {
     "data": {
      "text/plain": [
       "True"
      ]
     },
     "execution_count": 22,
     "metadata": {},
     "output_type": "execute_result"
    }
   ],
   "source": [
    "# a special value is \"None\" which usually indicates information that is not present\n",
    "\n",
    "a = None\n",
    "a is None"
   ]
  },
  {
   "cell_type": "code",
   "execution_count": 23,
   "id": "3df02fa2",
   "metadata": {
    "collapsed": false
   },
   "outputs": [
    {
     "data": {
      "text/plain": [
       "True"
      ]
     },
     "execution_count": 23,
     "metadata": {},
     "output_type": "execute_result"
    }
   ],
   "source": [
    "3 == 2.9999999999999999999999999"
   ]
  },
  {
   "cell_type": "code",
   "execution_count": 24,
   "id": "2b5c521f",
   "metadata": {
    "collapsed": false
   },
   "outputs": [
    {
     "data": {
      "text/plain": [
       "False"
      ]
     },
     "execution_count": 24,
     "metadata": {},
     "output_type": "execute_result"
    }
   ],
   "source": [
    "3 is 2.999999999999999999999999999999"
   ]
  }
 ],
 "metadata": {},
 "nbformat": 4,
 "nbformat_minor": 5
}
