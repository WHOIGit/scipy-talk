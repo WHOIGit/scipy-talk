{
 "cells": [
  {
   "cell_type": "code",
   "execution_count": 2,
   "id": "320e56a6",
   "metadata": {
    "collapsed": false
   },
   "outputs": [
    {
     "data": {
      "text/plain": [
       "{'joe': 46, 'tbones': 7}"
      ]
     },
     "execution_count": 2,
     "metadata": {},
     "output_type": "execute_result"
    }
   ],
   "source": [
    "# dicts are associations between keys and values notated {}\n",
    "d = { 'joe': 46, 'tbones': 7 }\n",
    "d"
   ]
  },
  {
   "cell_type": "code",
   "execution_count": 3,
   "id": "6161acdc",
   "metadata": {
    "collapsed": false
   },
   "outputs": [
    {
     "data": {
      "text/plain": [
       "27"
      ]
     },
     "execution_count": 3,
     "metadata": {},
     "output_type": "execute_result"
    }
   ],
   "source": [
    "d['joe'] = 27\n",
    "d['joe']"
   ]
  },
  {
   "cell_type": "code",
   "execution_count": 4,
   "id": "ccde889d",
   "metadata": {
    "collapsed": false
   },
   "outputs": [],
   "source": [
    "# each key has one value created and modified by assignment"
   ]
  },
  {
   "cell_type": "code",
   "execution_count": 5,
   "id": "d9b21f22",
   "metadata": {
    "collapsed": false
   },
   "outputs": [
    {
     "data": {
      "text/plain": [
       "'two'"
      ]
     },
     "execution_count": 5,
     "metadata": {},
     "output_type": "execute_result"
    }
   ],
   "source": [
    "# many kinds of objects can be used as keys, including strings and integers\n",
    "## but not all! (e.g., lists)\n",
    "d = { 1: 'one', 2: 'two' }\n",
    "d[2]"
   ]
  },
  {
   "cell_type": "code",
   "execution_count": 6,
   "id": "d3976827",
   "metadata": {
    "collapsed": false
   },
   "outputs": [
    {
     "data": {
      "text/plain": [
       "False"
      ]
     },
     "execution_count": 6,
     "metadata": {},
     "output_type": "execute_result"
    }
   ],
   "source": [
    "# dicts support \"in\" w/r/t keys\n",
    "d['clam'] = 77\n",
    "'airplane' in d"
   ]
  },
  {
   "cell_type": "code",
   "execution_count": 9,
   "id": "25a38c3f",
   "metadata": {
    "collapsed": false
   },
   "outputs": [
    {
     "data": {
      "text/plain": [
       "{'joe': 'ifcb', 'stace': 'informatics'}"
      ]
     },
     "execution_count": 9,
     "metadata": {},
     "output_type": "execute_result"
    }
   ],
   "source": [
    "a = ('joe', 'ctd')\n",
    "b = ('stace', 'informatics')\n",
    "d = dict([a,b])\n",
    "d['joe'] = 'ifcb'\n",
    "d"
   ]
  },
  {
   "cell_type": "code",
   "execution_count": 10,
   "id": "163e6911",
   "metadata": {
    "collapsed": false
   },
   "outputs": [
    {
     "data": {
      "text/plain": [
       "'th'"
      ]
     },
     "execution_count": 10,
     "metadata": {},
     "output_type": "execute_result"
    }
   ],
   "source": [
    "# strings are immutable and iterable\n",
    "'python'[2:4]"
   ]
  }
 ],
 "metadata": {},
 "nbformat": 4,
 "nbformat_minor": 5
}
