{
 "cells": [
  {
   "cell_type": "code",
   "execution_count": 12,
   "id": "e8f678b7",
   "metadata": {
    "collapsed": false
   },
   "outputs": [],
   "source": [
    "# generators are iterables that produce items on demand"
   ]
  },
  {
   "cell_type": "code",
   "execution_count": 13,
   "id": "423f3bf3",
   "metadata": {
    "collapsed": false
   },
   "outputs": [],
   "source": [
    "# generators are defined by functions that use yield. the general term for this is \"coroutine\""
   ]
  },
  {
   "cell_type": "code",
   "execution_count": 14,
   "id": "f6202a15",
   "metadata": {
    "collapsed": false
   },
   "outputs": [
    {
     "name": "stdout",
     "output_type": "stream",
     "text": [
      "1\n",
      "3\n"
     ]
    }
   ],
   "source": [
    "# yielding can be done anywhere in a function\n",
    "from random import random\n",
    "\n",
    "def gen():\n",
    "    yield 1\n",
    "    if random() > 0.5:\n",
    "        yield 2\n",
    "    yield 3\n",
    "    \n",
    "for i in gen():\n",
    "    print i"
   ]
  },
  {
   "cell_type": "code",
   "execution_count": 15,
   "id": "6087c9be",
   "metadata": {
    "collapsed": false
   },
   "outputs": [
    {
     "name": "stdout",
     "output_type": "stream",
     "text": [
      "1\n",
      "2\n",
      "3\n"
     ]
    }
   ],
   "source": [
    "# to get items from a generator, you can iterate over it\n",
    "g = gen()\n",
    "\n",
    "for a in g:\n",
    "    print a"
   ]
  },
  {
   "cell_type": "code",
   "execution_count": 16,
   "id": "20e0645b",
   "metadata": {
    "collapsed": false
   },
   "outputs": [
    {
     "data": {
      "text/plain": [
       "1"
      ]
     },
     "execution_count": 16,
     "metadata": {},
     "output_type": "execute_result"
    }
   ],
   "source": [
    "# you can also use next\n",
    "g = gen()\n",
    "g.next()"
   ]
  },
  {
   "cell_type": "code",
   "execution_count": 17,
   "id": "c100ad5b",
   "metadata": {
    "collapsed": false
   },
   "outputs": [
    {
     "data": {
      "text/plain": [
       "3"
      ]
     },
     "execution_count": 17,
     "metadata": {},
     "output_type": "execute_result"
    }
   ],
   "source": [
    "g.next()"
   ]
  },
  {
   "cell_type": "code",
   "execution_count": 18,
   "id": "d1da4de5",
   "metadata": {
    "collapsed": false
   },
   "outputs": [
    {
     "ename": "StopIteration",
     "evalue": "",
     "output_type": "error",
     "traceback": [
      "\u001b[0;31m---------------------------------------------------------------------------\u001b[0m\n\u001b[0;31mStopIteration\u001b[0m                             Traceback (most recent call last)",
      "\u001b[0;32m<ipython-input-18-d7e53364a9a7>\u001b[0m in \u001b[0;36m<module>\u001b[0;34m()\u001b[0m\n\u001b[0;32m----> 1\u001b[0;31m \u001b[0mg\u001b[0m\u001b[0;34m.\u001b[0m\u001b[0mnext\u001b[0m\u001b[0;34m(\u001b[0m\u001b[0;34m)\u001b[0m\u001b[0;34m\u001b[0m\u001b[0m\n\u001b[0m",
      "\u001b[0;31mStopIteration\u001b[0m: "
     ]
    }
   ],
   "source": [
    "g.next()"
   ]
  },
  {
   "cell_type": "code",
   "execution_count": 19,
   "id": "3a77b873",
   "metadata": {
    "collapsed": false
   },
   "outputs": [
    {
     "data": {
      "text/plain": [
       "[0, 1, 0, 1, 0, 1, 0, 1, 0, 1]"
      ]
     },
     "execution_count": 19,
     "metadata": {},
     "output_type": "execute_result"
    }
   ],
   "source": [
    "# generators don't ever have to terminate\n",
    "def gen():\n",
    "    while True:\n",
    "        yield 0\n",
    "        yield 1\n",
    "\n",
    "# this notebook does not run the following code,\n",
    "# which would go into an infinite loop\n",
    "\n",
    "g = gen()\n",
    "[g.next() for i in range(10)]"
   ]
  },
  {
   "cell_type": "code",
   "execution_count": null,
   "id": "c9b4a134",
   "metadata": {
    "collapsed": false
   },
   "outputs": [],
   "source": [
    "# generators cannot be reset to an earlier state (e.g., their initial state)\n",
    "# so you can only iterate over a generator once\n",
    "# but you can call the coroutine as many times as you want"
   ]
  }
 ],
 "metadata": {},
 "nbformat": 4,
 "nbformat_minor": 5
}
