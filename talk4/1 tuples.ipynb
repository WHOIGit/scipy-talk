{
 "cells": [
  {
   "cell_type": "code",
   "execution_count": 7,
   "id": "b74f7139",
   "metadata": {
    "collapsed": false
   },
   "outputs": [
    {
     "data": {
      "text/plain": [
       "3"
      ]
     },
     "execution_count": 7,
     "metadata": {},
     "output_type": "execute_result"
    }
   ],
   "source": [
    "# tuples are immutable sequences notated as ()\n",
    "a = (1, 2, 3)\n",
    "len(a)"
   ]
  },
  {
   "cell_type": "code",
   "execution_count": 8,
   "id": "d738ea26",
   "metadata": {
    "collapsed": false
   },
   "outputs": [
    {
     "data": {
      "text/plain": [
       "('fish', 3)"
      ]
     },
     "execution_count": 8,
     "metadata": {},
     "output_type": "execute_result"
    }
   ],
   "source": [
    " ('fish', 3)"
   ]
  },
  {
   "cell_type": "code",
   "execution_count": 9,
   "id": "9e7b10d7",
   "metadata": {
    "collapsed": false
   },
   "outputs": [
    {
     "data": {
      "text/plain": [
       "('fish', 7)"
      ]
     },
     "execution_count": 9,
     "metadata": {},
     "output_type": "execute_result"
    }
   ],
   "source": [
    "# a tuple can contain any kind of object, including other tuples\n",
    "t = (4, ('fish',7), True)\n",
    "t[1]"
   ]
  },
  {
   "cell_type": "code",
   "execution_count": 10,
   "id": "e8d259e7",
   "metadata": {
    "collapsed": false
   },
   "outputs": [],
   "source": [
    "# tuples support indexing (and slicing, which we will see later)"
   ]
  },
  {
   "cell_type": "code",
   "execution_count": 11,
   "id": "1a43823d",
   "metadata": {
    "collapsed": false
   },
   "outputs": [
    {
     "data": {
      "text/plain": [
       "True"
      ]
     },
     "execution_count": 11,
     "metadata": {},
     "output_type": "execute_result"
    }
   ],
   "source": [
    "# tuples support \"in\"\n",
    "t = ('a', 'b', 'c')\n",
    "'a' in t"
   ]
  },
  {
   "cell_type": "code",
   "execution_count": 12,
   "id": "10efe04e",
   "metadata": {
    "collapsed": false
   },
   "outputs": [
    {
     "data": {
      "text/plain": [
       "False"
      ]
     },
     "execution_count": 12,
     "metadata": {},
     "output_type": "execute_result"
    }
   ],
   "source": [
    "-77 in t"
   ]
  },
  {
   "cell_type": "code",
   "execution_count": 13,
   "id": "49aa48e7",
   "metadata": {
    "collapsed": false
   },
   "outputs": [],
   "source": [
    "# tuples are used for multiple assignment\n",
    "a = 'me'\n",
    "b = 'you'\n",
    "c = 'them'\n",
    "\n",
    "(a, b, c) = ('me', 'you', 'them')"
   ]
  },
  {
   "cell_type": "code",
   "execution_count": 14,
   "id": "19a8d76f",
   "metadata": {
    "collapsed": false
   },
   "outputs": [
    {
     "data": {
      "text/plain": [
       "'them'"
      ]
     },
     "execution_count": 14,
     "metadata": {},
     "output_type": "execute_result"
    }
   ],
   "source": [
    "# or just\n",
    "a, b, c = ('me', 'you', 'them')\n",
    "c"
   ]
  }
 ],
 "metadata": {},
 "nbformat": 4,
 "nbformat_minor": 5
}
