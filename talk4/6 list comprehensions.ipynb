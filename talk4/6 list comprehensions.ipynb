{
 "cells": [
  {
   "cell_type": "code",
   "execution_count": null,
   "id": "28b8a2d6",
   "metadata": {
    "collapsed": false
   },
   "outputs": [],
   "source": [
    "# list comprehensions are expressions notated with [] that build lists using iteration"
   ]
  },
  {
   "cell_type": "code",
   "execution_count": 2,
   "id": "452fa208",
   "metadata": {
    "collapsed": false
   },
   "outputs": [
    {
     "data": {
      "text/plain": [
       "['f', 'o', 's', 'h']"
      ]
     },
     "execution_count": 2,
     "metadata": {},
     "output_type": "execute_result"
    }
   ],
   "source": [
    "# if you just want to make a list from an iterable, use list()\n",
    "\n",
    "a = list('fish')\n",
    "a[1] = 'o'\n",
    "a"
   ]
  },
  {
   "cell_type": "code",
   "execution_count": 5,
   "id": "989d2771",
   "metadata": {
    "collapsed": false
   },
   "outputs": [
    {
     "data": {
      "text/plain": [
       "['f!', 'i!', 's!', 'h!']"
      ]
     },
     "execution_count": 5,
     "metadata": {},
     "output_type": "execute_result"
    }
   ],
   "source": [
    "# if you want to do some operation on the iteration variable, use list comprehensions\n",
    "\n",
    "[x + '!' for x in 'fish']"
   ]
  },
  {
   "cell_type": "code",
   "execution_count": 7,
   "id": "9a0441cb",
   "metadata": {
    "collapsed": false
   },
   "outputs": [
    {
     "data": {
      "text/plain": [
       "[4, 4, 4]"
      ]
     },
     "execution_count": 7,
     "metadata": {},
     "output_type": "execute_result"
    }
   ],
   "source": [
    "# list comprehensions support if for conditional inclusion in result\n",
    "[4 for x in 'fish' if x != 'i']"
   ]
  },
  {
   "cell_type": "code",
   "execution_count": 10,
   "id": "26a3db2d",
   "metadata": {
    "collapsed": false
   },
   "outputs": [
    {
     "data": {
      "text/plain": [
       "['f', 'foo', 'foo', 's', 'foo', 'h', 'foo']"
      ]
     },
     "execution_count": 10,
     "metadata": {},
     "output_type": "execute_result"
    }
   ],
   "source": [
    "# you can also use for/in and append to construct cases that would not be possible\n",
    "# with list comprehensions\n",
    "result = []\n",
    "\n",
    "for x in 'fish':\n",
    "    if x != 'i':\n",
    "        result.append(x)\n",
    "    result.append('foo')\n",
    "\n",
    "result"
   ]
  },
  {
   "cell_type": "code",
   "execution_count": null,
   "id": "b74c41f7",
   "metadata": {
    "collapsed": false
   },
   "outputs": [],
   "source": [
    "# if your list comprehension is too long, consider for/append instead"
   ]
  }
 ],
 "metadata": {},
 "nbformat": 4,
 "nbformat_minor": 5
}
