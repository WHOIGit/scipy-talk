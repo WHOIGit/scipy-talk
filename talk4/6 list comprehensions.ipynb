{
 "metadata": {
  "name": "",
  "signature": "sha256:c1cfe2eea4d7e488634be6a3e0b99f7abe7f52d39e7f981039216b8180ae796c"
 },
 "nbformat": 3,
 "nbformat_minor": 0,
 "worksheets": [
  {
   "cells": [
    {
     "cell_type": "code",
     "collapsed": false,
     "input": [
      "# list comprehensions are expressions notated with [] that build lists using iteration"
     ],
     "language": "python",
     "metadata": {},
     "outputs": []
    },
    {
     "cell_type": "code",
     "collapsed": false,
     "input": [
      "# if you just want to make a list from an iterable, use list()\n",
      "\n",
      "a = list('fish')\n",
      "a[1] = 'o'\n",
      "a"
     ],
     "language": "python",
     "metadata": {},
     "outputs": [
      {
       "metadata": {},
       "output_type": "pyout",
       "prompt_number": 2,
       "text": [
        "['f', 'o', 's', 'h']"
       ]
      }
     ],
     "prompt_number": 2
    },
    {
     "cell_type": "code",
     "collapsed": false,
     "input": [
      "# if you want to do some operation on the iteration variable, use list comprehensions\n",
      "\n",
      "[x + '!' for x in 'fish']"
     ],
     "language": "python",
     "metadata": {},
     "outputs": [
      {
       "metadata": {},
       "output_type": "pyout",
       "prompt_number": 5,
       "text": [
        "['f!', 'i!', 's!', 'h!']"
       ]
      }
     ],
     "prompt_number": 5
    },
    {
     "cell_type": "code",
     "collapsed": false,
     "input": [
      "# list comprehensions support if for conditional inclusion in result\n",
      "[4 for x in 'fish' if x != 'i']"
     ],
     "language": "python",
     "metadata": {},
     "outputs": [
      {
       "metadata": {},
       "output_type": "pyout",
       "prompt_number": 7,
       "text": [
        "[4, 4, 4]"
       ]
      }
     ],
     "prompt_number": 7
    },
    {
     "cell_type": "code",
     "collapsed": false,
     "input": [
      "# you can also use for/in and append to construct cases that would not be possible\n",
      "# with list comprehensions\n",
      "result = []\n",
      "\n",
      "for x in 'fish':\n",
      "    if x != 'i':\n",
      "        result.append(x)\n",
      "    result.append('foo')\n",
      "\n",
      "result"
     ],
     "language": "python",
     "metadata": {},
     "outputs": [
      {
       "metadata": {},
       "output_type": "pyout",
       "prompt_number": 10,
       "text": [
        "['f', 'foo', 'foo', 's', 'foo', 'h', 'foo']"
       ]
      }
     ],
     "prompt_number": 10
    },
    {
     "cell_type": "code",
     "collapsed": false,
     "input": [
      "# if your list comprehension is too long, consider for/append instead"
     ],
     "language": "python",
     "metadata": {},
     "outputs": []
    }
   ],
   "metadata": {}
  }
 ]
}